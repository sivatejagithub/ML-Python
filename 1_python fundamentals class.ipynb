{
  "cells": [
    {
      "cell_type": "markdown",
      "metadata": {
        "id": "-mi0CzTikPCk"
      },
      "source": [
        "# Object Creation and Naming Rules"
      ]
    },
    {
      "cell_type": "code",
      "execution_count": 41,
      "metadata": {
        "id": "xkZzPITikPCo"
      },
      "outputs": [],
      "source": [
        "x=4\n",
        "y=5"
      ]
    },
    {
      "cell_type": "code",
      "execution_count": 42,
      "metadata": {
        "colab": {
          "base_uri": "https://localhost:8080/"
        },
        "id": "I7CDKGSZkPCp",
        "outputId": "cf82c3da-8749-4b3d-f5f0-ad15f01f9e01"
      },
      "outputs": [
        {
          "output_type": "execute_result",
          "data": {
            "text/plain": [
              "4"
            ]
          },
          "metadata": {},
          "execution_count": 42
        }
      ],
      "source": [
        "x"
      ]
    },
    {
      "cell_type": "code",
      "execution_count": 43,
      "metadata": {
        "colab": {
          "base_uri": "https://localhost:8080/"
        },
        "id": "VfCzhc2vkPCq",
        "outputId": "6d900c79-f34b-4094-c0ca-6bb5eb75b0cf"
      },
      "outputs": [
        {
          "output_type": "execute_result",
          "data": {
            "text/plain": [
              "5"
            ]
          },
          "metadata": {},
          "execution_count": 43
        }
      ],
      "source": [
        "y"
      ]
    },
    {
      "cell_type": "code",
      "execution_count": 46,
      "metadata": {
        "colab": {
          "base_uri": "https://localhost:8080/",
          "height": 166
        },
        "id": "qzkm-8FUkPCq",
        "outputId": "92251d85-1cfc-4ca2-d030-04abd72772e6"
      },
      "outputs": [
        {
          "output_type": "error",
          "ename": "NameError",
          "evalue": "ignored",
          "traceback": [
            "\u001b[0;31m---------------------------------------------------------------------------\u001b[0m",
            "\u001b[0;31mNameError\u001b[0m                                 Traceback (most recent call last)",
            "\u001b[0;32m<ipython-input-46-b5fec669aca1>\u001b[0m in \u001b[0;36m<module>\u001b[0;34m()\u001b[0m\n\u001b[0;32m----> 1\u001b[0;31m \u001b[0mX\u001b[0m\u001b[0;34m\u001b[0m\u001b[0;34m\u001b[0m\u001b[0m\n\u001b[0m",
            "\u001b[0;31mNameError\u001b[0m: name 'X' is not defined"
          ]
        }
      ],
      "source": [
        "X"
      ]
    },
    {
      "cell_type": "code",
      "execution_count": 47,
      "metadata": {
        "id": "-QEC5qRMkPCq"
      },
      "outputs": [],
      "source": [
        "var1=34"
      ]
    },
    {
      "cell_type": "code",
      "execution_count": 48,
      "metadata": {
        "id": "GC3xXjV1kPCr"
      },
      "outputs": [],
      "source": [
        "thisisavariablewhichijustcreated=21"
      ]
    },
    {
      "cell_type": "code",
      "execution_count": 49,
      "metadata": {
        "id": "4wmpAA_CkPCs"
      },
      "outputs": [],
      "source": [
        "this_is_a_variable_which_i_just_created=34"
      ]
    },
    {
      "cell_type": "code",
      "execution_count": 50,
      "metadata": {
        "colab": {
          "base_uri": "https://localhost:8080/"
        },
        "id": "EtZUlO8nkPCs",
        "outputId": "46e4022c-596a-40af-f4ad-b1b8cd0f00ad"
      },
      "outputs": [
        {
          "output_type": "stream",
          "name": "stdout",
          "text": [
            "keyword\t pass1\t this_is_a_variable_which_i_just_created\t thisisavariablewhichijustcreated\t var1\t x\t y\t \n"
          ]
        }
      ],
      "source": [
        "who"
      ]
    },
    {
      "cell_type": "code",
      "execution_count": 53,
      "metadata": {
        "id": "BsyQ05thkPCt"
      },
      "outputs": [],
      "source": [
        "del thisisavariablewhichijustcreated"
      ]
    },
    {
      "cell_type": "code",
      "execution_count": null,
      "metadata": {
        "id": "7i-bSeV9kPCu"
      },
      "outputs": [],
      "source": [
        "del this_is_a_variable_which_i_just_created"
      ]
    },
    {
      "cell_type": "code",
      "execution_count": 52,
      "metadata": {
        "colab": {
          "base_uri": "https://localhost:8080/"
        },
        "id": "lFXs38-kkPCu",
        "outputId": "3ebef1af-e311-490c-8c3d-27ab1a90fda0"
      },
      "outputs": [
        {
          "output_type": "stream",
          "name": "stdout",
          "text": [
            "keyword\t pass1\t thisisavariablewhichijustcreated\t var1\t x\t y\t \n"
          ]
        }
      ],
      "source": [
        "who"
      ]
    },
    {
      "cell_type": "code",
      "execution_count": 56,
      "metadata": {
        "id": "ps8o3kFVkPCu"
      },
      "outputs": [],
      "source": [
        "pass1 ='any value'"
      ]
    },
    {
      "cell_type": "code",
      "execution_count": 57,
      "metadata": {
        "colab": {
          "base_uri": "https://localhost:8080/"
        },
        "id": "yqqslBknkPCv",
        "outputId": "b12ddd04-b3dd-4ef4-9e59-25adb53ad066"
      },
      "outputs": [
        {
          "output_type": "stream",
          "name": "stdout",
          "text": [
            "['False', 'None', 'True', 'and', 'as', 'assert', 'async', 'await', 'break', 'class', 'continue', 'def', 'del', 'elif', 'else', 'except', 'finally', 'for', 'from', 'global', 'if', 'import', 'in', 'is', 'lambda', 'nonlocal', 'not', 'or', 'pass', 'raise', 'return', 'try', 'while', 'with', 'yield']\n"
          ]
        }
      ],
      "source": [
        "## how to get the list of reserved words \n",
        "import keyword\n",
        "print(keyword.kwlist)"
      ]
    },
    {
      "cell_type": "markdown",
      "metadata": {
        "id": "4SNXkr5xkPCv"
      },
      "source": [
        "# TypeCastinig"
      ]
    },
    {
      "cell_type": "code",
      "execution_count": 58,
      "metadata": {
        "id": "109_K5PakPCw"
      },
      "outputs": [],
      "source": [
        "x=34\n",
        "y='November'"
      ]
    },
    {
      "cell_type": "code",
      "execution_count": 59,
      "metadata": {
        "colab": {
          "base_uri": "https://localhost:8080/"
        },
        "id": "F3aKOV0ykPCw",
        "outputId": "12c04d8e-1f35-4132-f11a-3feec6bff0b7"
      },
      "outputs": [
        {
          "output_type": "execute_result",
          "data": {
            "text/plain": [
              "int"
            ]
          },
          "metadata": {},
          "execution_count": 59
        }
      ],
      "source": [
        "type(x)"
      ]
    },
    {
      "cell_type": "code",
      "execution_count": 60,
      "metadata": {
        "colab": {
          "base_uri": "https://localhost:8080/"
        },
        "id": "uMbZaGbZkPCw",
        "outputId": "a65950f3-0a0c-4905-ec7e-38059c2acdf9"
      },
      "outputs": [
        {
          "output_type": "execute_result",
          "data": {
            "text/plain": [
              "str"
            ]
          },
          "metadata": {},
          "execution_count": 60
        }
      ],
      "source": [
        "type(y)"
      ]
    },
    {
      "cell_type": "code",
      "execution_count": 61,
      "metadata": {
        "id": "OEMEWYexkPCw"
      },
      "outputs": [],
      "source": [
        "x='34'"
      ]
    },
    {
      "cell_type": "code",
      "execution_count": 62,
      "metadata": {
        "colab": {
          "base_uri": "https://localhost:8080/"
        },
        "id": "SMB1J2FEkPCx",
        "outputId": "4bbbac71-0afd-46da-b441-3fe02590d424"
      },
      "outputs": [
        {
          "output_type": "execute_result",
          "data": {
            "text/plain": [
              "str"
            ]
          },
          "metadata": {},
          "execution_count": 62
        }
      ],
      "source": [
        "type(x)"
      ]
    },
    {
      "cell_type": "code",
      "execution_count": 63,
      "metadata": {
        "colab": {
          "base_uri": "https://localhost:8080/",
          "height": 166
        },
        "id": "J0vuSIPPkPCx",
        "outputId": "2e3d219d-16ad-43c5-b1fd-ded261690458"
      },
      "outputs": [
        {
          "output_type": "error",
          "ename": "TypeError",
          "evalue": "ignored",
          "traceback": [
            "\u001b[0;31m---------------------------------------------------------------------------\u001b[0m",
            "\u001b[0;31mTypeError\u001b[0m                                 Traceback (most recent call last)",
            "\u001b[0;32m<ipython-input-63-abe093c6df9c>\u001b[0m in \u001b[0;36m<module>\u001b[0;34m()\u001b[0m\n\u001b[0;32m----> 1\u001b[0;31m \u001b[0mx\u001b[0m\u001b[0;34m+\u001b[0m\u001b[0;36m3\u001b[0m\u001b[0;34m\u001b[0m\u001b[0;34m\u001b[0m\u001b[0m\n\u001b[0m",
            "\u001b[0;31mTypeError\u001b[0m: can only concatenate str (not \"int\") to str"
          ]
        }
      ],
      "source": [
        "x+3"
      ]
    },
    {
      "cell_type": "code",
      "execution_count": 64,
      "metadata": {
        "colab": {
          "base_uri": "https://localhost:8080/"
        },
        "id": "YPb77V2TkPCx",
        "outputId": "086f5ddc-df4d-48b3-f022-07cdf58930c5"
      },
      "outputs": [
        {
          "output_type": "execute_result",
          "data": {
            "text/plain": [
              "37"
            ]
          },
          "metadata": {},
          "execution_count": 64
        }
      ],
      "source": [
        "int(x)+3"
      ]
    },
    {
      "cell_type": "code",
      "execution_count": 65,
      "metadata": {
        "colab": {
          "base_uri": "https://localhost:8080/"
        },
        "id": "Tak3WBVhkPCx",
        "outputId": "41a300d0-d5dc-47ed-9eb6-976727a3fe4b"
      },
      "outputs": [
        {
          "output_type": "execute_result",
          "data": {
            "text/plain": [
              "str"
            ]
          },
          "metadata": {},
          "execution_count": 65
        }
      ],
      "source": [
        "type(x)"
      ]
    },
    {
      "cell_type": "code",
      "execution_count": 66,
      "metadata": {
        "id": "psRCeAFVkPCx"
      },
      "outputs": [],
      "source": [
        "x=int(x)"
      ]
    },
    {
      "cell_type": "code",
      "execution_count": 67,
      "metadata": {
        "colab": {
          "base_uri": "https://localhost:8080/"
        },
        "id": "a7ke65QckPCx",
        "outputId": "992e2493-60c4-4cab-9c1d-83189bfdc702"
      },
      "outputs": [
        {
          "output_type": "execute_result",
          "data": {
            "text/plain": [
              "int"
            ]
          },
          "metadata": {},
          "execution_count": 67
        }
      ],
      "source": [
        "type(x)"
      ]
    },
    {
      "cell_type": "code",
      "execution_count": 68,
      "metadata": {
        "id": "v4o5dxvxkPCy"
      },
      "outputs": [],
      "source": [
        "# int, str,bool"
      ]
    },
    {
      "cell_type": "markdown",
      "metadata": {
        "id": "q-mZI9ffkPCy"
      },
      "source": [
        "# Numeric Data and Operations"
      ]
    },
    {
      "cell_type": "code",
      "execution_count": 69,
      "metadata": {
        "id": "mSj85pHVkPCy"
      },
      "outputs": [],
      "source": [
        "x=2\n",
        "y=19"
      ]
    },
    {
      "cell_type": "code",
      "execution_count": 70,
      "metadata": {
        "colab": {
          "base_uri": "https://localhost:8080/"
        },
        "id": "0AAMSgWIkPCy",
        "outputId": "b471f800-8eec-41d8-9169-a50404463ad4"
      },
      "outputs": [
        {
          "output_type": "stream",
          "name": "stdout",
          "text": [
            "21\n"
          ]
        }
      ],
      "source": [
        "print(x+y)"
      ]
    },
    {
      "cell_type": "code",
      "execution_count": 71,
      "metadata": {
        "colab": {
          "base_uri": "https://localhost:8080/"
        },
        "id": "zl6NpVP4kPCy",
        "outputId": "1fa29e26-53b6-462a-810f-3bf506bcf93b"
      },
      "outputs": [
        {
          "output_type": "stream",
          "name": "stdout",
          "text": [
            "38\n"
          ]
        }
      ],
      "source": [
        "x-y\n",
        "\n",
        "print(x*y)"
      ]
    },
    {
      "cell_type": "code",
      "execution_count": 72,
      "metadata": {
        "colab": {
          "base_uri": "https://localhost:8080/"
        },
        "id": "XYvdRgGXkPCy",
        "outputId": "8629575e-4c67-461e-8917-f75bd5b6c870"
      },
      "outputs": [
        {
          "output_type": "execute_result",
          "data": {
            "text/plain": [
              "(0.10526315789473684, 9)"
            ]
          },
          "metadata": {},
          "execution_count": 72
        }
      ],
      "source": [
        "x/y, y//x"
      ]
    },
    {
      "cell_type": "code",
      "execution_count": 73,
      "metadata": {
        "colab": {
          "base_uri": "https://localhost:8080/"
        },
        "id": "wUj6qmogkPCz",
        "outputId": "7998ab32-82db-4f83-8c1c-51dacc58eb7a"
      },
      "outputs": [
        {
          "output_type": "execute_result",
          "data": {
            "text/plain": [
              "(17, 524288)"
            ]
          },
          "metadata": {},
          "execution_count": 73
        }
      ],
      "source": [
        "x^y , x**y\n",
        "\n",
        "# ^ bitwise or\n",
        "# do not use ^ for powers \n",
        "# always use **\n"
      ]
    },
    {
      "cell_type": "code",
      "execution_count": 74,
      "metadata": {
        "id": "thO_9YPhkPCz"
      },
      "outputs": [],
      "source": [
        "z=(x/y)**(x*y+3)"
      ]
    },
    {
      "cell_type": "code",
      "execution_count": 75,
      "metadata": {
        "colab": {
          "base_uri": "https://localhost:8080/"
        },
        "id": "Tfnijh--kPCz",
        "outputId": "fde00d71-b795-4b3e-8667-aeaf47a84fcb"
      },
      "outputs": [
        {
          "output_type": "execute_result",
          "data": {
            "text/plain": [
              "8.190910549494282e-41"
            ]
          },
          "metadata": {},
          "execution_count": 75
        }
      ],
      "source": [
        "z"
      ]
    },
    {
      "cell_type": "code",
      "execution_count": 76,
      "metadata": {
        "colab": {
          "base_uri": "https://localhost:8080/"
        },
        "id": "5veZE-D5kPCz",
        "outputId": "50e1845b-4691-44bc-8e4b-f1381ae6765d"
      },
      "outputs": [
        {
          "output_type": "execute_result",
          "data": {
            "text/plain": [
              "(4, 1.9, -17, 524288)"
            ]
          },
          "metadata": {},
          "execution_count": 76
        }
      ],
      "source": [
        "x+2,y/10,x-y,x**y"
      ]
    },
    {
      "cell_type": "code",
      "execution_count": 77,
      "metadata": {
        "id": "2ApLkjuXkPCz"
      },
      "outputs": [],
      "source": [
        "a=x+2\n",
        "b=y/10\n",
        "c=x-y\n",
        "d=x**y"
      ]
    },
    {
      "cell_type": "code",
      "execution_count": 78,
      "metadata": {
        "colab": {
          "base_uri": "https://localhost:8080/"
        },
        "id": "wSCZz0RWkPCz",
        "outputId": "10afd8c2-54d7-48e4-ac07-601310f0f35f"
      },
      "outputs": [
        {
          "output_type": "execute_result",
          "data": {
            "text/plain": [
              "(4, 1.9, -17, 524288)"
            ]
          },
          "metadata": {},
          "execution_count": 78
        }
      ],
      "source": [
        "a,b,c,d"
      ]
    },
    {
      "cell_type": "code",
      "execution_count": 79,
      "metadata": {
        "colab": {
          "base_uri": "https://localhost:8080/"
        },
        "id": "jwq90EHrkPCz",
        "outputId": "df251053-ac57-49c6-bad4-3580471db686"
      },
      "outputs": [
        {
          "output_type": "execute_result",
          "data": {
            "text/plain": [
              "4"
            ]
          },
          "metadata": {},
          "execution_count": 79
        }
      ],
      "source": [
        "a"
      ]
    },
    {
      "cell_type": "code",
      "execution_count": 82,
      "metadata": {
        "id": "hgoZaAdhkPCz"
      },
      "outputs": [],
      "source": [
        "a,b,c,d = x+2,y/10,x-y,x**y"
      ]
    },
    {
      "cell_type": "code",
      "execution_count": 83,
      "metadata": {
        "colab": {
          "base_uri": "https://localhost:8080/"
        },
        "id": "c1opBBF8kPCz",
        "outputId": "1b206219-538c-462c-d33b-35edbf73f520"
      },
      "outputs": [
        {
          "output_type": "execute_result",
          "data": {
            "text/plain": [
              "(4, 1.9, -17, 524288)"
            ]
          },
          "metadata": {},
          "execution_count": 83
        }
      ],
      "source": [
        "a,b,c,d"
      ]
    },
    {
      "cell_type": "code",
      "execution_count": 84,
      "metadata": {
        "id": "-wzZ0JsKkPC0"
      },
      "outputs": [],
      "source": [
        "import math as m"
      ]
    },
    {
      "cell_type": "code",
      "execution_count": 85,
      "metadata": {
        "colab": {
          "base_uri": "https://localhost:8080/",
          "height": 166
        },
        "id": "Av9OdZ9xkPC0",
        "outputId": "c3b6c5a1-41f2-4469-afeb-e4fe827f4311"
      },
      "outputs": [
        {
          "output_type": "error",
          "ename": "NameError",
          "evalue": "ignored",
          "traceback": [
            "\u001b[0;31m---------------------------------------------------------------------------\u001b[0m",
            "\u001b[0;31mNameError\u001b[0m                                 Traceback (most recent call last)",
            "\u001b[0;32m<ipython-input-85-c53e467ef587>\u001b[0m in \u001b[0;36m<module>\u001b[0;34m()\u001b[0m\n\u001b[0;32m----> 1\u001b[0;31m \u001b[0mlog\u001b[0m\u001b[0;34m(\u001b[0m\u001b[0;36m34\u001b[0m\u001b[0;34m,\u001b[0m\u001b[0;36m10\u001b[0m\u001b[0;34m)\u001b[0m\u001b[0;34m\u001b[0m\u001b[0;34m\u001b[0m\u001b[0m\n\u001b[0m",
            "\u001b[0;31mNameError\u001b[0m: name 'log' is not defined"
          ]
        }
      ],
      "source": [
        "log(34,10)"
      ]
    },
    {
      "cell_type": "code",
      "execution_count": 86,
      "metadata": {
        "colab": {
          "base_uri": "https://localhost:8080/"
        },
        "id": "dSgjkW07kPC0",
        "outputId": "ab1bd0e8-f349-4a7a-de26-466eab18ce5c"
      },
      "outputs": [
        {
          "output_type": "execute_result",
          "data": {
            "text/plain": [
              "1.0"
            ]
          },
          "metadata": {},
          "execution_count": 86
        }
      ],
      "source": [
        "m.cos(0)"
      ]
    },
    {
      "cell_type": "code",
      "execution_count": 87,
      "metadata": {
        "id": "ZtNZ292QkPC0"
      },
      "outputs": [],
      "source": [
        "from math import * "
      ]
    },
    {
      "cell_type": "code",
      "execution_count": 88,
      "metadata": {
        "colab": {
          "base_uri": "https://localhost:8080/"
        },
        "id": "pLi_snc_kPC0",
        "outputId": "84e7680c-1120-4d14-a11f-6a54b32fec8e"
      },
      "outputs": [
        {
          "output_type": "execute_result",
          "data": {
            "text/plain": [
              "-0.8485702747846052"
            ]
          },
          "metadata": {},
          "execution_count": 88
        }
      ],
      "source": [
        "cos(34)"
      ]
    },
    {
      "cell_type": "markdown",
      "metadata": {
        "id": "ZyPdmAbdkPC0"
      },
      "source": [
        "# Boolean Data and Operations"
      ]
    },
    {
      "cell_type": "code",
      "execution_count": 89,
      "metadata": {
        "id": "MifzsmVfkPC0"
      },
      "outputs": [],
      "source": [
        "x=True"
      ]
    },
    {
      "cell_type": "code",
      "execution_count": 90,
      "metadata": {
        "id": "sWavoC7ykPC0"
      },
      "outputs": [],
      "source": [
        "y=False"
      ]
    },
    {
      "cell_type": "code",
      "execution_count": 91,
      "metadata": {
        "colab": {
          "base_uri": "https://localhost:8080/"
        },
        "id": "_WILN1YCkPC0",
        "outputId": "110589fb-15ea-42f8-f50a-d862a6e7e7ba"
      },
      "outputs": [
        {
          "output_type": "execute_result",
          "data": {
            "text/plain": [
              "bool"
            ]
          },
          "metadata": {},
          "execution_count": 91
        }
      ],
      "source": [
        "type(x)"
      ]
    },
    {
      "cell_type": "code",
      "execution_count": 92,
      "metadata": {
        "colab": {
          "base_uri": "https://localhost:8080/"
        },
        "id": "PJ3C1InvkPC0",
        "outputId": "a12042f6-6a82-4116-ae23-400cba73da1f"
      },
      "outputs": [
        {
          "output_type": "execute_result",
          "data": {
            "text/plain": [
              "(False, False)"
            ]
          },
          "metadata": {},
          "execution_count": 92
        }
      ],
      "source": [
        "x and y, x & y"
      ]
    },
    {
      "cell_type": "code",
      "execution_count": 93,
      "metadata": {
        "colab": {
          "base_uri": "https://localhost:8080/"
        },
        "id": "WyUxQHVEkPC0",
        "outputId": "45736e16-07e3-4c10-d2f7-a9cf064a000b"
      },
      "outputs": [
        {
          "output_type": "execute_result",
          "data": {
            "text/plain": [
              "(True, True)"
            ]
          },
          "metadata": {},
          "execution_count": 93
        }
      ],
      "source": [
        "x or y , x | y "
      ]
    },
    {
      "cell_type": "code",
      "execution_count": 94,
      "metadata": {
        "colab": {
          "base_uri": "https://localhost:8080/"
        },
        "id": "60wEaV66kPC1",
        "outputId": "fa4f0834-53b3-4a25-d00d-aec06b75703b"
      },
      "outputs": [
        {
          "output_type": "execute_result",
          "data": {
            "text/plain": [
              "False"
            ]
          },
          "metadata": {},
          "execution_count": 94
        }
      ],
      "source": [
        "not x "
      ]
    },
    {
      "cell_type": "code",
      "execution_count": 95,
      "metadata": {
        "colab": {
          "base_uri": "https://localhost:8080/"
        },
        "id": "V0IxXplbkPC1",
        "outputId": "a07e11c1-cd3b-4ecf-cf6c-4d43ee7992da"
      },
      "outputs": [
        {
          "output_type": "execute_result",
          "data": {
            "text/plain": [
              "True"
            ]
          },
          "metadata": {},
          "execution_count": 95
        }
      ],
      "source": [
        "not y"
      ]
    },
    {
      "cell_type": "code",
      "execution_count": 96,
      "metadata": {
        "id": "CFte5XYTkPC1"
      },
      "outputs": [],
      "source": [
        "a=34"
      ]
    },
    {
      "cell_type": "code",
      "execution_count": 97,
      "metadata": {
        "colab": {
          "base_uri": "https://localhost:8080/"
        },
        "id": "hWDl5VyPkPC1",
        "outputId": "8a6e25ce-0697-48df-a35e-86fda5f3e561"
      },
      "outputs": [
        {
          "output_type": "execute_result",
          "data": {
            "text/plain": [
              "False"
            ]
          },
          "metadata": {},
          "execution_count": 97
        }
      ],
      "source": [
        "a>34 "
      ]
    },
    {
      "cell_type": "code",
      "execution_count": 98,
      "metadata": {
        "colab": {
          "base_uri": "https://localhost:8080/"
        },
        "id": "9m-VX6wrkPC1",
        "outputId": "4ae6e46f-2f3e-41d7-8e67-cfd65ff26d7f"
      },
      "outputs": [
        {
          "output_type": "execute_result",
          "data": {
            "text/plain": [
              "False"
            ]
          },
          "metadata": {},
          "execution_count": 98
        }
      ],
      "source": [
        "(a>34) and (a=='lalit')"
      ]
    },
    {
      "cell_type": "markdown",
      "metadata": {
        "id": "2UqoWjAtkPC1"
      },
      "source": [
        "* checking equality : \"==\"\n",
        "* in-equality : \"!=\"\n",
        "* greater than : \">\"\n",
        "* less than : \"<\"\n",
        "* greater than or equal to : \">=\"\n",
        "* less than or equal to : \"<=\""
      ]
    },
    {
      "cell_type": "code",
      "execution_count": 99,
      "metadata": {
        "id": "faF_BUyOkPC1"
      },
      "outputs": [],
      "source": [
        "x='python'"
      ]
    },
    {
      "cell_type": "code",
      "execution_count": 100,
      "metadata": {
        "colab": {
          "base_uri": "https://localhost:8080/"
        },
        "id": "JzFY14OskPC1",
        "outputId": "5f36f6db-954f-4ebf-9771-20f5413a4763"
      },
      "outputs": [
        {
          "output_type": "execute_result",
          "data": {
            "text/plain": [
              "False"
            ]
          },
          "metadata": {},
          "execution_count": 100
        }
      ],
      "source": [
        "x=='Python'"
      ]
    },
    {
      "cell_type": "code",
      "execution_count": 101,
      "metadata": {
        "colab": {
          "base_uri": "https://localhost:8080/"
        },
        "id": "ugMC7Ox6kPC2",
        "outputId": "439522fe-5de8-4266-b03a-2ca4e813c9a8"
      },
      "outputs": [
        {
          "output_type": "execute_result",
          "data": {
            "text/plain": [
              "True"
            ]
          },
          "metadata": {},
          "execution_count": 101
        }
      ],
      "source": [
        "x!='Python'"
      ]
    },
    {
      "cell_type": "code",
      "execution_count": 102,
      "metadata": {
        "id": "_EgwP-3ikPC2"
      },
      "outputs": [],
      "source": [
        "x=45\n",
        "y=67"
      ]
    },
    {
      "cell_type": "code",
      "execution_count": 103,
      "metadata": {
        "colab": {
          "base_uri": "https://localhost:8080/"
        },
        "id": "qReHBqb3kPC2",
        "outputId": "4de0c57a-19bf-41c4-d0d3-61d230167b15"
      },
      "outputs": [
        {
          "output_type": "execute_result",
          "data": {
            "text/plain": [
              "True"
            ]
          },
          "metadata": {},
          "execution_count": 103
        }
      ],
      "source": [
        "(x ==4 or y > 15 )"
      ]
    },
    {
      "cell_type": "code",
      "execution_count": 104,
      "metadata": {
        "colab": {
          "base_uri": "https://localhost:8080/"
        },
        "id": "7n0Oim84kPC2",
        "outputId": "81d9eb63-6927-4fbe-b5ae-3344a909719d"
      },
      "outputs": [
        {
          "output_type": "execute_result",
          "data": {
            "text/plain": [
              "False"
            ]
          },
          "metadata": {},
          "execution_count": 104
        }
      ],
      "source": [
        "(x > 20 and y<10)"
      ]
    },
    {
      "cell_type": "code",
      "execution_count": 105,
      "metadata": {
        "colab": {
          "base_uri": "https://localhost:8080/"
        },
        "id": "HQ7AeHZAkPC2",
        "outputId": "481ca6b5-697e-447c-eadf-c10d34e01cc8"
      },
      "outputs": [
        {
          "output_type": "execute_result",
          "data": {
            "text/plain": [
              "True"
            ]
          },
          "metadata": {},
          "execution_count": 105
        }
      ],
      "source": [
        "(x > 20 and y<10) or (x ==4 or y > 15 )"
      ]
    },
    {
      "cell_type": "code",
      "execution_count": 106,
      "metadata": {
        "colab": {
          "base_uri": "https://localhost:8080/"
        },
        "id": "h-7grHjXkPC2",
        "outputId": "969c392e-3146-48ba-b0fd-009155f2a62f"
      },
      "outputs": [
        {
          "output_type": "execute_result",
          "data": {
            "text/plain": [
              "45"
            ]
          },
          "metadata": {},
          "execution_count": 106
        }
      ],
      "source": [
        "x"
      ]
    },
    {
      "cell_type": "code",
      "execution_count": 107,
      "metadata": {
        "id": "H9jaiflSkPC2"
      },
      "outputs": [],
      "source": [
        "x='python'"
      ]
    },
    {
      "cell_type": "code",
      "execution_count": 108,
      "metadata": {
        "id": "LykBli5akPC2"
      },
      "outputs": [],
      "source": [
        "y='py'"
      ]
    },
    {
      "cell_type": "code",
      "execution_count": 109,
      "metadata": {
        "colab": {
          "base_uri": "https://localhost:8080/"
        },
        "id": "jpQfZEXlkPC2",
        "outputId": "fa0f970d-8107-440b-e38d-ecbd0dd77b6d"
      },
      "outputs": [
        {
          "output_type": "execute_result",
          "data": {
            "text/plain": [
              "True"
            ]
          },
          "metadata": {},
          "execution_count": 109
        }
      ],
      "source": [
        "y in x"
      ]
    },
    {
      "cell_type": "code",
      "execution_count": 110,
      "metadata": {
        "colab": {
          "base_uri": "https://localhost:8080/"
        },
        "id": "xtmhEK2kkPC2",
        "outputId": "c404c58f-6b7c-4981-9e66-e7cac22f2ea1"
      },
      "outputs": [
        {
          "output_type": "execute_result",
          "data": {
            "text/plain": [
              "False"
            ]
          },
          "metadata": {},
          "execution_count": 110
        }
      ],
      "source": [
        "y not in x"
      ]
    },
    {
      "cell_type": "markdown",
      "metadata": {
        "id": "rpQ5rucckPC3"
      },
      "source": [
        "# String Data and Operations"
      ]
    },
    {
      "cell_type": "code",
      "execution_count": 111,
      "metadata": {
        "id": "MH0eqwVLkPC3"
      },
      "outputs": [],
      "source": [
        "x='Python'\n",
        "y='Data'"
      ]
    },
    {
      "cell_type": "code",
      "execution_count": 112,
      "metadata": {
        "colab": {
          "base_uri": "https://localhost:8080/"
        },
        "id": "CRAgqk04kPC3",
        "outputId": "f07987d9-9f30-477b-af4a-55981e6966bf"
      },
      "outputs": [
        {
          "output_type": "execute_result",
          "data": {
            "text/plain": [
              "(str, str)"
            ]
          },
          "metadata": {},
          "execution_count": 112
        }
      ],
      "source": [
        "type(x),type(y)"
      ]
    },
    {
      "cell_type": "code",
      "execution_count": 113,
      "metadata": {
        "colab": {
          "base_uri": "https://localhost:8080/"
        },
        "id": "1gGPSQsgkPC3",
        "outputId": "0b85eaa8-11e8-4c5d-c2bd-2a09a052f19c"
      },
      "outputs": [
        {
          "output_type": "execute_result",
          "data": {
            "text/plain": [
              "(6, 4)"
            ]
          },
          "metadata": {},
          "execution_count": 113
        }
      ],
      "source": [
        "len(x),len(y)"
      ]
    },
    {
      "cell_type": "code",
      "execution_count": 114,
      "metadata": {
        "colab": {
          "base_uri": "https://localhost:8080/",
          "height": 35
        },
        "id": "nQShDfO_kPC3",
        "outputId": "7245c909-b88f-4878-e805-02cbf241ca06"
      },
      "outputs": [
        {
          "output_type": "execute_result",
          "data": {
            "text/plain": [
              "'PythonData'"
            ],
            "application/vnd.google.colaboratory.intrinsic+json": {
              "type": "string"
            }
          },
          "metadata": {},
          "execution_count": 114
        }
      ],
      "source": [
        "x+y"
      ]
    },
    {
      "cell_type": "code",
      "execution_count": 115,
      "metadata": {
        "colab": {
          "base_uri": "https://localhost:8080/",
          "height": 35
        },
        "id": "d7j-uU1PkPC3",
        "outputId": "7cb3231d-7e29-47d5-acf4-eef1fe24a205"
      },
      "outputs": [
        {
          "output_type": "execute_result",
          "data": {
            "text/plain": [
              "'PythonPythonPython'"
            ],
            "application/vnd.google.colaboratory.intrinsic+json": {
              "type": "string"
            }
          },
          "metadata": {},
          "execution_count": 115
        }
      ],
      "source": [
        "x*3"
      ]
    },
    {
      "cell_type": "code",
      "execution_count": 116,
      "metadata": {
        "id": "6AXpo6XkkPC3"
      },
      "outputs": [],
      "source": [
        "z=x+' and '+y"
      ]
    },
    {
      "cell_type": "code",
      "execution_count": 117,
      "metadata": {
        "colab": {
          "base_uri": "https://localhost:8080/",
          "height": 35
        },
        "id": "-2PoBM7FkPC3",
        "outputId": "1d856daa-d39c-412d-c783-460e62400ef2"
      },
      "outputs": [
        {
          "output_type": "execute_result",
          "data": {
            "text/plain": [
              "'Python and Data'"
            ],
            "application/vnd.google.colaboratory.intrinsic+json": {
              "type": "string"
            }
          },
          "metadata": {},
          "execution_count": 117
        }
      ],
      "source": [
        "z"
      ]
    },
    {
      "cell_type": "code",
      "execution_count": 118,
      "metadata": {
        "colab": {
          "base_uri": "https://localhost:8080/"
        },
        "id": "T6CbkLNhkPC3",
        "outputId": "8c5cb376-5255-4024-f658-72fa801738cc"
      },
      "outputs": [
        {
          "output_type": "execute_result",
          "data": {
            "text/plain": [
              "str"
            ]
          },
          "metadata": {},
          "execution_count": 118
        }
      ],
      "source": [
        "type(z)"
      ]
    },
    {
      "cell_type": "code",
      "execution_count": 119,
      "metadata": {
        "colab": {
          "base_uri": "https://localhost:8080/",
          "height": 35
        },
        "id": "DAhL322ukPC3",
        "outputId": "df8a1789-a4bd-4ec3-bf08-c3993487cb5d"
      },
      "outputs": [
        {
          "output_type": "execute_result",
          "data": {
            "text/plain": [
              "'python and data'"
            ],
            "application/vnd.google.colaboratory.intrinsic+json": {
              "type": "string"
            }
          },
          "metadata": {},
          "execution_count": 119
        }
      ],
      "source": [
        "z.lower()"
      ]
    },
    {
      "cell_type": "code",
      "execution_count": 120,
      "metadata": {
        "colab": {
          "base_uri": "https://localhost:8080/",
          "height": 35
        },
        "id": "0rpTzfm9kPC5",
        "outputId": "9dfab373-b587-4528-fa6a-a648ae665bc6"
      },
      "outputs": [
        {
          "output_type": "execute_result",
          "data": {
            "text/plain": [
              "'Python and Data'"
            ],
            "application/vnd.google.colaboratory.intrinsic+json": {
              "type": "string"
            }
          },
          "metadata": {},
          "execution_count": 120
        }
      ],
      "source": [
        "z"
      ]
    },
    {
      "cell_type": "code",
      "execution_count": 121,
      "metadata": {
        "colab": {
          "base_uri": "https://localhost:8080/",
          "height": 35
        },
        "id": "Bqw1FFBDkPC5",
        "outputId": "4451d432-2545-4ec4-d0ef-3b187d85f491"
      },
      "outputs": [
        {
          "output_type": "execute_result",
          "data": {
            "text/plain": [
              "'PYTHON AND DATA'"
            ],
            "application/vnd.google.colaboratory.intrinsic+json": {
              "type": "string"
            }
          },
          "metadata": {},
          "execution_count": 121
        }
      ],
      "source": [
        "z.upper()"
      ]
    },
    {
      "cell_type": "code",
      "execution_count": 122,
      "metadata": {
        "colab": {
          "base_uri": "https://localhost:8080/",
          "height": 35
        },
        "id": "WTL0_wXPkPC5",
        "outputId": "d7140aa6-3272-49dc-f4db-c29493535cc6"
      },
      "outputs": [
        {
          "output_type": "execute_result",
          "data": {
            "text/plain": [
              "'Python and data'"
            ],
            "application/vnd.google.colaboratory.intrinsic+json": {
              "type": "string"
            }
          },
          "metadata": {},
          "execution_count": 122
        }
      ],
      "source": [
        "z.capitalize()"
      ]
    },
    {
      "cell_type": "code",
      "execution_count": 123,
      "metadata": {
        "colab": {
          "base_uri": "https://localhost:8080/",
          "height": 35
        },
        "id": "2CqJw_3KkPC5",
        "outputId": "10d319d2-1943-4eef-dfb8-211f9af82fff"
      },
      "outputs": [
        {
          "output_type": "execute_result",
          "data": {
            "text/plain": [
              "'     Python and Data'"
            ],
            "application/vnd.google.colaboratory.intrinsic+json": {
              "type": "string"
            }
          },
          "metadata": {},
          "execution_count": 123
        }
      ],
      "source": [
        "z.rjust(20)"
      ]
    },
    {
      "cell_type": "code",
      "execution_count": 124,
      "metadata": {
        "colab": {
          "base_uri": "https://localhost:8080/",
          "height": 35
        },
        "id": "fn4fX2PPkPC5",
        "outputId": "457c32fa-2031-4e8c-bc07-86f0a7b6ddb7"
      },
      "outputs": [
        {
          "output_type": "execute_result",
          "data": {
            "text/plain": [
              "'Python and Data     '"
            ],
            "application/vnd.google.colaboratory.intrinsic+json": {
              "type": "string"
            }
          },
          "metadata": {},
          "execution_count": 124
        }
      ],
      "source": [
        "z.ljust(20)"
      ]
    },
    {
      "cell_type": "code",
      "execution_count": 125,
      "metadata": {
        "id": "FrXVE-8lkPC5"
      },
      "outputs": [],
      "source": [
        "z=z.center(29)"
      ]
    },
    {
      "cell_type": "code",
      "execution_count": 126,
      "metadata": {
        "colab": {
          "base_uri": "https://localhost:8080/",
          "height": 35
        },
        "id": "0iL-4OflkPC5",
        "outputId": "5f489bcf-cdff-4dbe-bb01-920dc01bb2da"
      },
      "outputs": [
        {
          "output_type": "execute_result",
          "data": {
            "text/plain": [
              "'       Python and Data       '"
            ],
            "application/vnd.google.colaboratory.intrinsic+json": {
              "type": "string"
            }
          },
          "metadata": {},
          "execution_count": 126
        }
      ],
      "source": [
        "z"
      ]
    },
    {
      "cell_type": "code",
      "execution_count": 127,
      "metadata": {
        "colab": {
          "base_uri": "https://localhost:8080/"
        },
        "id": "Zarx-xHwkPC5",
        "outputId": "b62a433b-897b-4eef-c5c9-069f5ab16ac1"
      },
      "outputs": [
        {
          "output_type": "execute_result",
          "data": {
            "text/plain": [
              "True"
            ]
          },
          "metadata": {},
          "execution_count": 127
        }
      ],
      "source": [
        "'t' in z"
      ]
    },
    {
      "cell_type": "code",
      "execution_count": 128,
      "metadata": {
        "colab": {
          "base_uri": "https://localhost:8080/",
          "height": 35
        },
        "id": "oVTt0_00kPC5",
        "outputId": "9b78bc30-a322-4383-a070-76798faff5e5"
      },
      "outputs": [
        {
          "output_type": "execute_result",
          "data": {
            "text/plain": [
              "'Python and Data       '"
            ],
            "application/vnd.google.colaboratory.intrinsic+json": {
              "type": "string"
            }
          },
          "metadata": {},
          "execution_count": 128
        }
      ],
      "source": [
        "z.lstrip()"
      ]
    },
    {
      "cell_type": "code",
      "execution_count": 129,
      "metadata": {
        "colab": {
          "base_uri": "https://localhost:8080/",
          "height": 35
        },
        "id": "Rryyz4hakPC5",
        "outputId": "47f0f1cc-9f1f-4053-8073-92c6e14b7f6b"
      },
      "outputs": [
        {
          "output_type": "execute_result",
          "data": {
            "text/plain": [
              "'       Python and Data'"
            ],
            "application/vnd.google.colaboratory.intrinsic+json": {
              "type": "string"
            }
          },
          "metadata": {},
          "execution_count": 129
        }
      ],
      "source": [
        "z.rstrip()"
      ]
    },
    {
      "cell_type": "code",
      "execution_count": 130,
      "metadata": {
        "colab": {
          "base_uri": "https://localhost:8080/",
          "height": 35
        },
        "id": "v-i_tyTZkPC6",
        "outputId": "952c33a2-5256-48e6-af39-5fadbcf70234"
      },
      "outputs": [
        {
          "output_type": "execute_result",
          "data": {
            "text/plain": [
              "'Python and Data'"
            ],
            "application/vnd.google.colaboratory.intrinsic+json": {
              "type": "string"
            }
          },
          "metadata": {},
          "execution_count": 130
        }
      ],
      "source": [
        "z.strip()"
      ]
    },
    {
      "cell_type": "code",
      "execution_count": 131,
      "metadata": {
        "id": "SabBHzf4kPC6"
      },
      "outputs": [],
      "source": [
        "# removing all spaces : we'll come back to it later "
      ]
    },
    {
      "cell_type": "code",
      "execution_count": 132,
      "metadata": {
        "colab": {
          "base_uri": "https://localhost:8080/",
          "height": 35
        },
        "id": "i44PX9HqkPC6",
        "outputId": "c4bc701a-90f2-473a-868b-f59ddaa4fb60"
      },
      "outputs": [
        {
          "output_type": "execute_result",
          "data": {
            "text/plain": [
              "'       Python @#!nd Data       '"
            ],
            "application/vnd.google.colaboratory.intrinsic+json": {
              "type": "string"
            }
          },
          "metadata": {},
          "execution_count": 132
        }
      ],
      "source": [
        "z.replace('a',\"@#!\",1)"
      ]
    },
    {
      "cell_type": "code",
      "execution_count": 133,
      "metadata": {
        "colab": {
          "base_uri": "https://localhost:8080/",
          "height": 35
        },
        "id": "PLfcac-akPC6",
        "outputId": "fa1b5f4d-d312-487f-f27a-ba81a06c43e5"
      },
      "outputs": [
        {
          "output_type": "execute_result",
          "data": {
            "text/plain": [
              "'       Python and Data       '"
            ],
            "application/vnd.google.colaboratory.intrinsic+json": {
              "type": "string"
            }
          },
          "metadata": {},
          "execution_count": 133
        }
      ],
      "source": [
        "z"
      ]
    },
    {
      "cell_type": "code",
      "execution_count": 134,
      "metadata": {
        "colab": {
          "base_uri": "https://localhost:8080/"
        },
        "id": "zAHh6v3FkPC6",
        "outputId": "9db80d20-3758-4074-88e2-00c5dad40ee8"
      },
      "outputs": [
        {
          "output_type": "stream",
          "name": "stdout",
          "text": [
            "Help on built-in function replace:\n",
            "\n",
            "replace(old, new, count=-1, /) method of builtins.str instance\n",
            "    Return a copy with all occurrences of substring old replaced by new.\n",
            "    \n",
            "      count\n",
            "        Maximum number of occurrences to replace.\n",
            "        -1 (the default value) means replace all occurrences.\n",
            "    \n",
            "    If the optional argument count is given, only the first count occurrences are\n",
            "    replaced.\n",
            "\n"
          ]
        }
      ],
      "source": [
        "help(z.replace)"
      ]
    },
    {
      "cell_type": "markdown",
      "metadata": {
        "id": "0xzMDqd6kPC6"
      },
      "source": [
        "# Indexing"
      ]
    },
    {
      "cell_type": "code",
      "execution_count": 153,
      "metadata": {
        "id": "Q8Dxa_YqkPC6"
      },
      "outputs": [],
      "source": [
        "x='PythonIndex'"
      ]
    },
    {
      "cell_type": "code",
      "execution_count": 154,
      "metadata": {
        "colab": {
          "base_uri": "https://localhost:8080/",
          "height": 35
        },
        "id": "sWakGU4kkPC6",
        "outputId": "2ffd1447-6887-4f93-c2d2-dd34ab2869f2"
      },
      "outputs": [
        {
          "output_type": "execute_result",
          "data": {
            "text/plain": [
              "'PythonIndex'"
            ],
            "application/vnd.google.colaboratory.intrinsic+json": {
              "type": "string"
            }
          },
          "metadata": {},
          "execution_count": 154
        }
      ],
      "source": [
        "x"
      ]
    },
    {
      "cell_type": "code",
      "execution_count": 155,
      "metadata": {
        "colab": {
          "base_uri": "https://localhost:8080/",
          "height": 35
        },
        "id": "hNldaQY-kPC6",
        "outputId": "8e891377-8dd8-47bc-f491-1d832f6e0fb6"
      },
      "outputs": [
        {
          "output_type": "execute_result",
          "data": {
            "text/plain": [
              "'o'"
            ],
            "application/vnd.google.colaboratory.intrinsic+json": {
              "type": "string"
            }
          },
          "metadata": {},
          "execution_count": 155
        }
      ],
      "source": [
        "x[4]"
      ]
    },
    {
      "cell_type": "code",
      "execution_count": 156,
      "metadata": {
        "colab": {
          "base_uri": "https://localhost:8080/",
          "height": 35
        },
        "id": "XoTiw7aZkPC6",
        "outputId": "d668f50d-76fc-4223-d372-c7638d3022bb"
      },
      "outputs": [
        {
          "output_type": "execute_result",
          "data": {
            "text/plain": [
              "'I'"
            ],
            "application/vnd.google.colaboratory.intrinsic+json": {
              "type": "string"
            }
          },
          "metadata": {},
          "execution_count": 156
        }
      ],
      "source": [
        "x[-5]"
      ]
    },
    {
      "cell_type": "code",
      "execution_count": 157,
      "metadata": {
        "colab": {
          "base_uri": "https://localhost:8080/",
          "height": 35
        },
        "id": "0Zzj0oRKkPC6",
        "outputId": "91df50d5-3cc4-4907-d52d-032fa7715a3d"
      },
      "outputs": [
        {
          "output_type": "execute_result",
          "data": {
            "text/plain": [
              "'thonI'"
            ],
            "application/vnd.google.colaboratory.intrinsic+json": {
              "type": "string"
            }
          },
          "metadata": {},
          "execution_count": 157
        }
      ],
      "source": [
        "x[2:7]"
      ]
    },
    {
      "cell_type": "code",
      "execution_count": 158,
      "metadata": {
        "colab": {
          "base_uri": "https://localhost:8080/",
          "height": 35
        },
        "id": "JgWpFJ0_kPC6",
        "outputId": "4069390d-4c62-4868-b50f-cafcf9ddc588"
      },
      "outputs": [
        {
          "output_type": "execute_result",
          "data": {
            "text/plain": [
              "'thonIn'"
            ],
            "application/vnd.google.colaboratory.intrinsic+json": {
              "type": "string"
            }
          },
          "metadata": {},
          "execution_count": 158
        }
      ],
      "source": [
        "x[2:-3]"
      ]
    },
    {
      "cell_type": "code",
      "execution_count": 159,
      "metadata": {
        "colab": {
          "base_uri": "https://localhost:8080/",
          "height": 35
        },
        "id": "8i0bMjFVkPC7",
        "outputId": "be6c6c60-4acd-4d67-e132-6bb42b71e63a"
      },
      "outputs": [
        {
          "output_type": "execute_result",
          "data": {
            "text/plain": [
              "''"
            ],
            "application/vnd.google.colaboratory.intrinsic+json": {
              "type": "string"
            }
          },
          "metadata": {},
          "execution_count": 159
        }
      ],
      "source": [
        "x[4:1]"
      ]
    },
    {
      "cell_type": "code",
      "execution_count": 160,
      "metadata": {
        "colab": {
          "base_uri": "https://localhost:8080/",
          "height": 35
        },
        "id": "FYiwcEE1kPC7",
        "outputId": "ec557d57-ca84-4051-f747-1e335ad0a1d8"
      },
      "outputs": [
        {
          "output_type": "execute_result",
          "data": {
            "text/plain": [
              "'ythonI'"
            ],
            "application/vnd.google.colaboratory.intrinsic+json": {
              "type": "string"
            }
          },
          "metadata": {},
          "execution_count": 160
        }
      ],
      "source": [
        "x[-10:-4]"
      ]
    },
    {
      "cell_type": "code",
      "execution_count": 161,
      "metadata": {
        "colab": {
          "base_uri": "https://localhost:8080/",
          "height": 35
        },
        "id": "oaoHZxSzkPC7",
        "outputId": "0cb2d826-7fc3-42dc-8b6c-b17119f20cff"
      },
      "outputs": [
        {
          "output_type": "execute_result",
          "data": {
            "text/plain": [
              "'thonInde'"
            ],
            "application/vnd.google.colaboratory.intrinsic+json": {
              "type": "string"
            }
          },
          "metadata": {},
          "execution_count": 161
        }
      ],
      "source": [
        "x[2:10]"
      ]
    },
    {
      "cell_type": "code",
      "execution_count": 162,
      "metadata": {
        "colab": {
          "base_uri": "https://localhost:8080/",
          "height": 35
        },
        "id": "vIuUEPeOkPC7",
        "outputId": "4bfba192-39be-4e5c-b9a5-83d2c802d300"
      },
      "outputs": [
        {
          "output_type": "execute_result",
          "data": {
            "text/plain": [
              "'thonInde'"
            ],
            "application/vnd.google.colaboratory.intrinsic+json": {
              "type": "string"
            }
          },
          "metadata": {},
          "execution_count": 162
        }
      ],
      "source": [
        "x[2:10:1]"
      ]
    },
    {
      "cell_type": "code",
      "execution_count": 163,
      "metadata": {
        "colab": {
          "base_uri": "https://localhost:8080/",
          "height": 35
        },
        "id": "GcYOZsOpkPC7",
        "outputId": "e0bc7864-38e8-4acc-8c36-a871825be20c"
      },
      "outputs": [
        {
          "output_type": "execute_result",
          "data": {
            "text/plain": [
              "'toId'"
            ],
            "application/vnd.google.colaboratory.intrinsic+json": {
              "type": "string"
            }
          },
          "metadata": {},
          "execution_count": 163
        }
      ],
      "source": [
        "x[2:10:2]"
      ]
    },
    {
      "cell_type": "code",
      "execution_count": 164,
      "metadata": {
        "colab": {
          "base_uri": "https://localhost:8080/",
          "height": 35
        },
        "id": "TUkjCGC3kPC7",
        "outputId": "1c477c7b-9f0d-455e-94b1-a25bcd80509b"
      },
      "outputs": [
        {
          "output_type": "execute_result",
          "data": {
            "text/plain": [
              "''"
            ],
            "application/vnd.google.colaboratory.intrinsic+json": {
              "type": "string"
            }
          },
          "metadata": {},
          "execution_count": 164
        }
      ],
      "source": [
        "x[2:10:-1]"
      ]
    },
    {
      "cell_type": "code",
      "execution_count": 165,
      "metadata": {
        "colab": {
          "base_uri": "https://localhost:8080/",
          "height": 35
        },
        "id": "Q6Oat71PkPC7",
        "outputId": "fdabe519-7b08-4cc4-e68d-dd00a6eeb917"
      },
      "outputs": [
        {
          "output_type": "execute_result",
          "data": {
            "text/plain": [
              "'xednInoh'"
            ],
            "application/vnd.google.colaboratory.intrinsic+json": {
              "type": "string"
            }
          },
          "metadata": {},
          "execution_count": 165
        }
      ],
      "source": [
        "x[10:2:-1]"
      ]
    },
    {
      "cell_type": "code",
      "execution_count": 166,
      "metadata": {
        "colab": {
          "base_uri": "https://localhost:8080/",
          "height": 35
        },
        "id": "W4FBZEtTkPC7",
        "outputId": "a446a248-5584-4e2b-8a86-bc0c040f4206"
      },
      "outputs": [
        {
          "output_type": "execute_result",
          "data": {
            "text/plain": [
              "'thonIndex'"
            ],
            "application/vnd.google.colaboratory.intrinsic+json": {
              "type": "string"
            }
          },
          "metadata": {},
          "execution_count": 166
        }
      ],
      "source": [
        "x[2:]"
      ]
    },
    {
      "cell_type": "code",
      "execution_count": 167,
      "metadata": {
        "colab": {
          "base_uri": "https://localhost:8080/",
          "height": 35
        },
        "id": "zkaCp2sNkPC7",
        "outputId": "437e68e6-9e83-40ee-ee24-5caeae062a17"
      },
      "outputs": [
        {
          "output_type": "execute_result",
          "data": {
            "text/plain": [
              "'tyP'"
            ],
            "application/vnd.google.colaboratory.intrinsic+json": {
              "type": "string"
            }
          },
          "metadata": {},
          "execution_count": 167
        }
      ],
      "source": [
        "x[2::-1]"
      ]
    },
    {
      "cell_type": "code",
      "execution_count": 168,
      "metadata": {
        "colab": {
          "base_uri": "https://localhost:8080/",
          "height": 35
        },
        "id": "QqK5Xi9xkPC7",
        "outputId": "adb5c83d-2756-43f5-92dd-2f426a5e6773"
      },
      "outputs": [
        {
          "output_type": "execute_result",
          "data": {
            "text/plain": [
              "'xednInohtyP'"
            ],
            "application/vnd.google.colaboratory.intrinsic+json": {
              "type": "string"
            }
          },
          "metadata": {},
          "execution_count": 168
        }
      ],
      "source": [
        "x[::-1]"
      ]
    },
    {
      "cell_type": "code",
      "execution_count": 169,
      "metadata": {
        "id": "wpGgceRSkPC7"
      },
      "outputs": [],
      "source": [
        "x='lalit-sachan'"
      ]
    },
    {
      "cell_type": "code",
      "execution_count": 170,
      "metadata": {
        "colab": {
          "base_uri": "https://localhost:8080/"
        },
        "id": "nmTQ0OdYkPC8",
        "outputId": "bb9bd463-cd96-4ea8-a922-152b4fea0708"
      },
      "outputs": [
        {
          "output_type": "execute_result",
          "data": {
            "text/plain": [
              "['', 'a', 'it-sachan']"
            ]
          },
          "metadata": {},
          "execution_count": 170
        }
      ],
      "source": [
        "x.split('l')"
      ]
    },
    {
      "cell_type": "markdown",
      "metadata": {
        "id": "LrgIgeblkPC8"
      },
      "source": [
        "# Lists"
      ]
    },
    {
      "cell_type": "code",
      "execution_count": 171,
      "metadata": {
        "id": "2Fq7eegEkPC8"
      },
      "outputs": [],
      "source": [
        "x=[20,92,43,83,\"lalit\",\"a\",\"c\",45]"
      ]
    },
    {
      "cell_type": "code",
      "execution_count": 172,
      "metadata": {
        "colab": {
          "base_uri": "https://localhost:8080/"
        },
        "id": "B_P1VqKKkPC8",
        "outputId": "f04bd5ef-b2b6-45c7-bd61-aef72e1986e2"
      },
      "outputs": [
        {
          "output_type": "execute_result",
          "data": {
            "text/plain": [
              "[83, 'lalit', 'a', 'c']"
            ]
          },
          "metadata": {},
          "execution_count": 172
        }
      ],
      "source": [
        "x[3:7]"
      ]
    },
    {
      "cell_type": "code",
      "execution_count": 173,
      "metadata": {
        "colab": {
          "base_uri": "https://localhost:8080/"
        },
        "id": "03-uYN76kPC8",
        "outputId": "b0f9e8a1-cd3e-415f-b083-a890af730e1c"
      },
      "outputs": [
        {
          "output_type": "execute_result",
          "data": {
            "text/plain": [
              "[43, 83, 'lalit', 'a', 'c', 45]"
            ]
          },
          "metadata": {},
          "execution_count": 173
        }
      ],
      "source": [
        "x[2:]"
      ]
    },
    {
      "cell_type": "code",
      "execution_count": 174,
      "metadata": {
        "colab": {
          "base_uri": "https://localhost:8080/"
        },
        "id": "tMwEx-okkPC8",
        "outputId": "f86e6a43-4f79-4c25-e4dc-7b17c9a494b0"
      },
      "outputs": [
        {
          "output_type": "execute_result",
          "data": {
            "text/plain": [
              "[20, 92, 43, 83]"
            ]
          },
          "metadata": {},
          "execution_count": 174
        }
      ],
      "source": [
        "x[:4]"
      ]
    },
    {
      "cell_type": "code",
      "execution_count": 175,
      "metadata": {
        "colab": {
          "base_uri": "https://localhost:8080/",
          "height": 166
        },
        "id": "qZC4anY9kPC8",
        "outputId": "6b282a43-ebec-4702-805e-3ec0307a6f90"
      },
      "outputs": [
        {
          "output_type": "error",
          "ename": "IndexError",
          "evalue": "ignored",
          "traceback": [
            "\u001b[0;31m---------------------------------------------------------------------------\u001b[0m",
            "\u001b[0;31mIndexError\u001b[0m                                Traceback (most recent call last)",
            "\u001b[0;32m<ipython-input-175-cdfae5df8a7e>\u001b[0m in \u001b[0;36m<module>\u001b[0;34m()\u001b[0m\n\u001b[0;32m----> 1\u001b[0;31m \u001b[0mx\u001b[0m\u001b[0;34m[\u001b[0m\u001b[0;36m15\u001b[0m\u001b[0;34m]\u001b[0m\u001b[0;34m\u001b[0m\u001b[0;34m\u001b[0m\u001b[0m\n\u001b[0m",
            "\u001b[0;31mIndexError\u001b[0m: list index out of range"
          ]
        }
      ],
      "source": [
        "x[15]"
      ]
    },
    {
      "cell_type": "code",
      "execution_count": 176,
      "metadata": {
        "colab": {
          "base_uri": "https://localhost:8080/"
        },
        "id": "J-_ESMSzkPC8",
        "outputId": "ec934919-81a2-46ab-f41b-7f477976a771"
      },
      "outputs": [
        {
          "output_type": "execute_result",
          "data": {
            "text/plain": [
              "[20, 92, 43, 83, 'lalit', 'a', 'c', 45]"
            ]
          },
          "metadata": {},
          "execution_count": 176
        }
      ],
      "source": [
        "x"
      ]
    },
    {
      "cell_type": "code",
      "execution_count": 177,
      "metadata": {
        "colab": {
          "base_uri": "https://localhost:8080/"
        },
        "id": "NFAlMuHpkPC8",
        "outputId": "fba0a3f6-e18f-4d96-dd5b-5e9cb002762b"
      },
      "outputs": [
        {
          "output_type": "execute_result",
          "data": {
            "text/plain": [
              "83"
            ]
          },
          "metadata": {},
          "execution_count": 177
        }
      ],
      "source": [
        "x[3]"
      ]
    },
    {
      "cell_type": "code",
      "execution_count": 178,
      "metadata": {
        "id": "PCYRBP2OkPC8"
      },
      "outputs": [],
      "source": [
        "x[3]=100"
      ]
    },
    {
      "cell_type": "code",
      "execution_count": 179,
      "metadata": {
        "colab": {
          "base_uri": "https://localhost:8080/"
        },
        "id": "L8e2uFhgkPC8",
        "outputId": "a1784766-cd87-4126-c8d8-749888666216"
      },
      "outputs": [
        {
          "output_type": "execute_result",
          "data": {
            "text/plain": [
              "[20, 92, 43, 100, 'lalit', 'a', 'c', 45]"
            ]
          },
          "metadata": {},
          "execution_count": 179
        }
      ],
      "source": [
        "x"
      ]
    },
    {
      "cell_type": "code",
      "execution_count": 180,
      "metadata": {
        "id": "7dDW9ZPVkPC8"
      },
      "outputs": [],
      "source": [
        "x[2]='python'"
      ]
    },
    {
      "cell_type": "code",
      "execution_count": 181,
      "metadata": {
        "colab": {
          "base_uri": "https://localhost:8080/"
        },
        "id": "KF6LvQHckPC9",
        "outputId": "596e2188-514b-40c8-ad6d-abd9adcbafc0"
      },
      "outputs": [
        {
          "output_type": "execute_result",
          "data": {
            "text/plain": [
              "[20, 92, 'python', 100, 'lalit', 'a', 'c', 45]"
            ]
          },
          "metadata": {},
          "execution_count": 181
        }
      ],
      "source": [
        "x"
      ]
    },
    {
      "cell_type": "code",
      "execution_count": 182,
      "metadata": {
        "colab": {
          "base_uri": "https://localhost:8080/"
        },
        "id": "6TQGYEetkPC9",
        "outputId": "484b484d-3b8d-4c69-96a2-4ce195ed2d5e"
      },
      "outputs": [
        {
          "output_type": "execute_result",
          "data": {
            "text/plain": [
              "[92, 'python', 100]"
            ]
          },
          "metadata": {},
          "execution_count": 182
        }
      ],
      "source": [
        "x[1:4]"
      ]
    },
    {
      "cell_type": "code",
      "execution_count": 183,
      "metadata": {
        "id": "bwRJX9xUkPC9"
      },
      "outputs": [],
      "source": [
        "x[1:4]=[70]"
      ]
    },
    {
      "cell_type": "code",
      "execution_count": 184,
      "metadata": {
        "colab": {
          "base_uri": "https://localhost:8080/"
        },
        "id": "xa7Co2wZkPC9",
        "outputId": "2e11bc1d-5a84-48d7-b7c5-c63646b312c1"
      },
      "outputs": [
        {
          "output_type": "execute_result",
          "data": {
            "text/plain": [
              "[20, 70, 'lalit', 'a', 'c', 45]"
            ]
          },
          "metadata": {},
          "execution_count": 184
        }
      ],
      "source": [
        "x"
      ]
    },
    {
      "cell_type": "code",
      "execution_count": 185,
      "metadata": {
        "colab": {
          "base_uri": "https://localhost:8080/"
        },
        "id": "5AuZ-e80kPC9",
        "outputId": "4494de30-3b25-4904-cfd5-907edd56f03e"
      },
      "outputs": [
        {
          "output_type": "execute_result",
          "data": {
            "text/plain": [
              "['lalit', 'a', 'c']"
            ]
          },
          "metadata": {},
          "execution_count": 185
        }
      ],
      "source": [
        "x[2:5]"
      ]
    },
    {
      "cell_type": "code",
      "execution_count": 186,
      "metadata": {
        "id": "__TLguaxkPC9"
      },
      "outputs": [],
      "source": [
        "x[2:5]='hello'"
      ]
    },
    {
      "cell_type": "code",
      "execution_count": 187,
      "metadata": {
        "colab": {
          "base_uri": "https://localhost:8080/"
        },
        "id": "CgPS64ErkPC9",
        "outputId": "93c90715-410f-4be3-c839-adbccfb32baf"
      },
      "outputs": [
        {
          "output_type": "execute_result",
          "data": {
            "text/plain": [
              "[20, 70, 'h', 'e', 'l', 'l', 'o', 45]"
            ]
          },
          "metadata": {},
          "execution_count": 187
        }
      ],
      "source": [
        "x"
      ]
    },
    {
      "cell_type": "code",
      "execution_count": 188,
      "metadata": {
        "id": "6HNCFUOMkPC9"
      },
      "outputs": [],
      "source": [
        "x=[20, 70, 'lalit', 'a', 'c', 45]"
      ]
    },
    {
      "cell_type": "code",
      "execution_count": 189,
      "metadata": {
        "colab": {
          "base_uri": "https://localhost:8080/"
        },
        "id": "nqGhpQzSkPC9",
        "outputId": "3cf96658-a1ee-4e4a-d045-60bb7cc64900"
      },
      "outputs": [
        {
          "output_type": "execute_result",
          "data": {
            "text/plain": [
              "[20, 70, 'lalit', 'a', 'c', 45]"
            ]
          },
          "metadata": {},
          "execution_count": 189
        }
      ],
      "source": [
        "x"
      ]
    },
    {
      "cell_type": "code",
      "execution_count": 190,
      "metadata": {
        "id": "-6dC7xiUkPC-"
      },
      "outputs": [],
      "source": [
        "x[2:5]=['hello']"
      ]
    },
    {
      "cell_type": "code",
      "execution_count": 191,
      "metadata": {
        "colab": {
          "base_uri": "https://localhost:8080/"
        },
        "id": "EFNx3pvtkPC-",
        "outputId": "ea9ac8c8-a24b-445b-ac66-ae54ea423cb4"
      },
      "outputs": [
        {
          "output_type": "execute_result",
          "data": {
            "text/plain": [
              "[20, 70, 'hello', 45]"
            ]
          },
          "metadata": {},
          "execution_count": 191
        }
      ],
      "source": [
        "x"
      ]
    },
    {
      "cell_type": "code",
      "execution_count": 192,
      "metadata": {
        "id": "lVYk6Dx0kPC-"
      },
      "outputs": [],
      "source": [
        "x=[20,92,43,83,\"lalit\",\"a\",\"c\",45]"
      ]
    },
    {
      "cell_type": "code",
      "execution_count": 193,
      "metadata": {
        "id": "QLVI0IDZkPC-"
      },
      "outputs": [],
      "source": [
        "# can we extract elements with indices not in sequence "
      ]
    },
    {
      "cell_type": "code",
      "execution_count": 194,
      "metadata": {
        "id": "qBYi_m7_kPC-"
      },
      "outputs": [],
      "source": [
        "x.append(100)"
      ]
    },
    {
      "cell_type": "code",
      "execution_count": 195,
      "metadata": {
        "colab": {
          "base_uri": "https://localhost:8080/"
        },
        "id": "-D_-bTFnkPC-",
        "outputId": "b0192ddc-87ba-4713-954d-2afdbd8652e5"
      },
      "outputs": [
        {
          "output_type": "execute_result",
          "data": {
            "text/plain": [
              "[20, 92, 43, 83, 'lalit', 'a', 'c', 45, 100]"
            ]
          },
          "metadata": {},
          "execution_count": 195
        }
      ],
      "source": [
        "x"
      ]
    },
    {
      "cell_type": "code",
      "execution_count": 196,
      "metadata": {
        "colab": {
          "base_uri": "https://localhost:8080/"
        },
        "id": "yVUAMa5SkPC-",
        "outputId": "d8c591f9-c04a-4215-f537-205ba3a6c840"
      },
      "outputs": [
        {
          "output_type": "stream",
          "name": "stdout",
          "text": [
            "[20, 92, 43, 83, 'lalit', 'a', 'c', 45, 100] & 9\n",
            "[20, 92, 43, 83, 'lalit', 'a', 'c', 45, 100, [23, -18, 'two']] & 10\n"
          ]
        }
      ],
      "source": [
        "print(x , '&' , len(x))\n",
        "x.append([23,-18,'two'])\n",
        "print(x, '&' , len(x))"
      ]
    },
    {
      "cell_type": "code",
      "execution_count": 197,
      "metadata": {
        "id": "aU9YpejvkPC-"
      },
      "outputs": [],
      "source": [
        "x=x+[10,20,30]"
      ]
    },
    {
      "cell_type": "code",
      "execution_count": 198,
      "metadata": {
        "colab": {
          "base_uri": "https://localhost:8080/"
        },
        "id": "IBAQjEpdkPC-",
        "outputId": "71ec33ea-6ed9-40c0-dc19-fed3c3c4cdca"
      },
      "outputs": [
        {
          "output_type": "execute_result",
          "data": {
            "text/plain": [
              "[20, 92, 43, 83, 'lalit', 'a', 'c', 45, 100, [23, -18, 'two'], 10, 20, 30]"
            ]
          },
          "metadata": {},
          "execution_count": 198
        }
      ],
      "source": [
        "x"
      ]
    },
    {
      "cell_type": "code",
      "execution_count": 199,
      "metadata": {
        "id": "rUQi-EeSkPC-"
      },
      "outputs": [],
      "source": [
        "x.extend(['one','three','five'])"
      ]
    },
    {
      "cell_type": "code",
      "execution_count": 200,
      "metadata": {
        "colab": {
          "base_uri": "https://localhost:8080/"
        },
        "id": "9_5yAAlQkPC_",
        "outputId": "4a65f2c5-3786-452f-9e08-5599836a54ed"
      },
      "outputs": [
        {
          "output_type": "execute_result",
          "data": {
            "text/plain": [
              "[20,\n",
              " 92,\n",
              " 43,\n",
              " 83,\n",
              " 'lalit',\n",
              " 'a',\n",
              " 'c',\n",
              " 45,\n",
              " 100,\n",
              " [23, -18, 'two'],\n",
              " 10,\n",
              " 20,\n",
              " 30,\n",
              " 'one',\n",
              " 'three',\n",
              " 'five']"
            ]
          },
          "metadata": {},
          "execution_count": 200
        }
      ],
      "source": [
        "x"
      ]
    },
    {
      "cell_type": "code",
      "execution_count": 201,
      "metadata": {
        "colab": {
          "base_uri": "https://localhost:8080/"
        },
        "id": "s2LSRH2wkPC_",
        "outputId": "0de6ca51-ce97-41d5-b5f2-7dd9c39337bf"
      },
      "outputs": [
        {
          "output_type": "stream",
          "name": "stdout",
          "text": [
            "[20, 92, 43, 83, 'lalit', 'a', 'c', 45, 100, [23, -18, 'two'], 10, 20, 30, 'one', 'three', 'five']\n",
            "[20, 92, 43, 'this', 83, 'lalit', 'a', 'c', 45, 100, [23, -18, 'two'], 10, 20, 30, 'one', 'three', 'five']\n"
          ]
        }
      ],
      "source": [
        "print(x)\n",
        "x.insert(3,'this')\n",
        "print(x)"
      ]
    },
    {
      "cell_type": "code",
      "execution_count": 202,
      "metadata": {
        "colab": {
          "base_uri": "https://localhost:8080/"
        },
        "id": "3asaxf3LkPC_",
        "outputId": "9de3f51d-7649-48be-c93d-3edb90ec735d"
      },
      "outputs": [
        {
          "output_type": "stream",
          "name": "stdout",
          "text": [
            "[20, 92, 43, 'this', 83, 'lalit', 'a', 'c', 45, 100, [23, -18, 'two'], 10, 20, 30, 'one', 'three', 'five']\n",
            "[20, 92, 43, 'this', 83, 'lalit', 'a', 'c', 45, 100, [23, -18, 'two'], 10, 20, 30, 'one', 'three']\n"
          ]
        }
      ],
      "source": [
        "print(x)\n",
        "x.pop()\n",
        "print(x)"
      ]
    },
    {
      "cell_type": "code",
      "execution_count": 203,
      "metadata": {
        "colab": {
          "base_uri": "https://localhost:8080/",
          "height": 35
        },
        "id": "jWSIVs_akPC_",
        "outputId": "278dd022-a0b1-4ed1-bcec-f44d43223cc0"
      },
      "outputs": [
        {
          "output_type": "execute_result",
          "data": {
            "text/plain": [
              "'three'"
            ],
            "application/vnd.google.colaboratory.intrinsic+json": {
              "type": "string"
            }
          },
          "metadata": {},
          "execution_count": 203
        }
      ],
      "source": [
        "x.pop()"
      ]
    },
    {
      "cell_type": "code",
      "execution_count": 204,
      "metadata": {
        "colab": {
          "base_uri": "https://localhost:8080/"
        },
        "id": "L80adc0UkPC_",
        "outputId": "72cce135-f9eb-4fb9-961c-816e6a42d5eb"
      },
      "outputs": [
        {
          "output_type": "stream",
          "name": "stdout",
          "text": [
            "[20, 92, 43, 'this', 83, 'lalit', 'a', 'c', 45, 100, [23, -18, 'two'], 10, 20, 30, 'one']\n",
            "83\n",
            "[20, 92, 43, 'this', 'lalit', 'a', 'c', 45, 100, [23, -18, 'two'], 10, 20, 30, 'one']\n"
          ]
        }
      ],
      "source": [
        "print(x)\n",
        "print(x[4])\n",
        "x.pop(4)\n",
        "print(x)"
      ]
    },
    {
      "cell_type": "code",
      "execution_count": 205,
      "metadata": {
        "colab": {
          "base_uri": "https://localhost:8080/"
        },
        "id": "0h3vDIQEkPC_",
        "outputId": "3a8b1087-c685-41d2-c24c-0171653aa5a5"
      },
      "outputs": [
        {
          "output_type": "stream",
          "name": "stdout",
          "text": [
            "[20, 92, 43, 'this', 'lalit', 'a', 'c', 45, 100, [23, -18, 'two'], 10, 20, 30, 'one']\n",
            "[20, 92, 43, 'this', 'lalit', 'a', 'c', 45, 100, [23, -18, 'two'], 20, 30, 'one']\n"
          ]
        }
      ],
      "source": [
        "print(x)\n",
        "x.remove(10)\n",
        "print(x)"
      ]
    },
    {
      "cell_type": "code",
      "execution_count": 206,
      "metadata": {
        "id": "zo4RAb0kkPC_"
      },
      "outputs": [],
      "source": [
        "x=[2,3,40,2,14,2,3,11,71,26]"
      ]
    },
    {
      "cell_type": "code",
      "execution_count": 207,
      "metadata": {
        "colab": {
          "base_uri": "https://localhost:8080/"
        },
        "id": "RK2NYSa_kPC_",
        "outputId": "2995d262-8d62-4933-b1b8-b738691c40ea"
      },
      "outputs": [
        {
          "output_type": "stream",
          "name": "stdout",
          "text": [
            "[2, 40, 2, 14, 2, 3, 11, 71, 26]\n"
          ]
        }
      ],
      "source": [
        "x.remove(3)\n",
        "print(x)"
      ]
    },
    {
      "cell_type": "code",
      "execution_count": 208,
      "metadata": {
        "id": "3oHlALDykPC_"
      },
      "outputs": [],
      "source": [
        "x=[2,3,40,2,14,2,3,11,71,26]"
      ]
    },
    {
      "cell_type": "code",
      "execution_count": 209,
      "metadata": {
        "colab": {
          "base_uri": "https://localhost:8080/"
        },
        "id": "YSqvisd2kPC_",
        "outputId": "77721621-7a58-469b-d0db-e834bb309c29"
      },
      "outputs": [
        {
          "output_type": "execute_result",
          "data": {
            "text/plain": [
              "[2, 3, 40, 2, 14, 2, 3, 11, 71, 26]"
            ]
          },
          "metadata": {},
          "execution_count": 209
        }
      ],
      "source": [
        "x"
      ]
    },
    {
      "cell_type": "code",
      "execution_count": 210,
      "metadata": {
        "id": "MCt0t4YYkPDA"
      },
      "outputs": [],
      "source": [
        "x.sort()"
      ]
    },
    {
      "cell_type": "code",
      "execution_count": 211,
      "metadata": {
        "colab": {
          "base_uri": "https://localhost:8080/"
        },
        "id": "l5wH2uFlkPDA",
        "outputId": "1855bb32-d8bd-4c06-b931-81d662089785"
      },
      "outputs": [
        {
          "output_type": "execute_result",
          "data": {
            "text/plain": [
              "[2, 2, 2, 3, 3, 11, 14, 26, 40, 71]"
            ]
          },
          "metadata": {},
          "execution_count": 211
        }
      ],
      "source": [
        "x"
      ]
    },
    {
      "cell_type": "code",
      "execution_count": 212,
      "metadata": {
        "id": "7HfC13rykPDA"
      },
      "outputs": [],
      "source": [
        "x.sort(reverse=True)"
      ]
    },
    {
      "cell_type": "code",
      "execution_count": 213,
      "metadata": {
        "colab": {
          "base_uri": "https://localhost:8080/"
        },
        "id": "OClPiB3qkPDA",
        "outputId": "18488268-c37e-4e0d-b11f-c67e3ea802ca"
      },
      "outputs": [
        {
          "output_type": "execute_result",
          "data": {
            "text/plain": [
              "[71, 40, 26, 14, 11, 3, 3, 2, 2, 2]"
            ]
          },
          "metadata": {},
          "execution_count": 213
        }
      ],
      "source": [
        "x"
      ]
    },
    {
      "cell_type": "code",
      "execution_count": 214,
      "metadata": {
        "id": "ACOJRCPAkPDA"
      },
      "outputs": [],
      "source": [
        "x=[2,3,40,2,14,2,3,11,71,26]"
      ]
    },
    {
      "cell_type": "code",
      "execution_count": 215,
      "metadata": {
        "colab": {
          "base_uri": "https://localhost:8080/"
        },
        "id": "j_4DbXzjkPDA",
        "outputId": "845b81b9-e3d3-4ba5-e089-97d724204132"
      },
      "outputs": [
        {
          "output_type": "execute_result",
          "data": {
            "text/plain": [
              "[26, 71, 11, 3, 2, 14, 2, 40, 3, 2]"
            ]
          },
          "metadata": {},
          "execution_count": 215
        }
      ],
      "source": [
        "x[::-1]"
      ]
    },
    {
      "cell_type": "code",
      "execution_count": 216,
      "metadata": {
        "colab": {
          "base_uri": "https://localhost:8080/"
        },
        "id": "8QSIkyVKkPDA",
        "outputId": "2eec8cfe-9bbf-4e39-9f04-5841cb34dfdb"
      },
      "outputs": [
        {
          "output_type": "execute_result",
          "data": {
            "text/plain": [
              "[2, 3, 40, 2, 14, 2, 3, 11, 71, 26]"
            ]
          },
          "metadata": {},
          "execution_count": 216
        }
      ],
      "source": [
        "x"
      ]
    },
    {
      "cell_type": "code",
      "execution_count": 217,
      "metadata": {
        "id": "HrxvwkSekPDA"
      },
      "outputs": [],
      "source": [
        "x.reverse()"
      ]
    },
    {
      "cell_type": "code",
      "execution_count": 218,
      "metadata": {
        "colab": {
          "base_uri": "https://localhost:8080/"
        },
        "id": "-cnLm8-_kPDB",
        "outputId": "a173afe9-6be6-4aaf-d680-aa8c6fd14757"
      },
      "outputs": [
        {
          "output_type": "execute_result",
          "data": {
            "text/plain": [
              "[26, 71, 11, 3, 2, 14, 2, 40, 3, 2]"
            ]
          },
          "metadata": {},
          "execution_count": 218
        }
      ],
      "source": [
        "x"
      ]
    },
    {
      "cell_type": "markdown",
      "metadata": {
        "id": "eWYXCdeekPDB"
      },
      "source": [
        "# NoneType Error"
      ]
    },
    {
      "cell_type": "code",
      "execution_count": 219,
      "metadata": {
        "id": "m8MRq1tLkPDB"
      },
      "outputs": [],
      "source": [
        "a=x.reverse()"
      ]
    },
    {
      "cell_type": "code",
      "execution_count": 220,
      "metadata": {
        "id": "_vO-Fj8IkPDB"
      },
      "outputs": [],
      "source": [
        "a"
      ]
    },
    {
      "cell_type": "code",
      "execution_count": 221,
      "metadata": {
        "colab": {
          "base_uri": "https://localhost:8080/"
        },
        "id": "kAEFswGmkPDB",
        "outputId": "4aa07fc5-397e-4c2e-ba2d-d344144e3b3a"
      },
      "outputs": [
        {
          "output_type": "stream",
          "name": "stdout",
          "text": [
            "None\n"
          ]
        }
      ],
      "source": [
        "print(a)"
      ]
    },
    {
      "cell_type": "code",
      "execution_count": 222,
      "metadata": {
        "id": "zOVAHngHkPDB"
      },
      "outputs": [],
      "source": [
        "x=x.reverse()"
      ]
    },
    {
      "cell_type": "code",
      "execution_count": 223,
      "metadata": {
        "colab": {
          "base_uri": "https://localhost:8080/",
          "height": 166
        },
        "id": "MUIvhTwSkPDB",
        "outputId": "3bfee7eb-3c56-4953-b442-11611fbb5ffb"
      },
      "outputs": [
        {
          "output_type": "error",
          "ename": "AttributeError",
          "evalue": "ignored",
          "traceback": [
            "\u001b[0;31m---------------------------------------------------------------------------\u001b[0m",
            "\u001b[0;31mAttributeError\u001b[0m                            Traceback (most recent call last)",
            "\u001b[0;32m<ipython-input-223-5edff3203de0>\u001b[0m in \u001b[0;36m<module>\u001b[0;34m()\u001b[0m\n\u001b[0;32m----> 1\u001b[0;31m \u001b[0mx\u001b[0m\u001b[0;34m.\u001b[0m\u001b[0msort\u001b[0m\u001b[0;34m(\u001b[0m\u001b[0;34m)\u001b[0m\u001b[0;34m\u001b[0m\u001b[0;34m\u001b[0m\u001b[0m\n\u001b[0m",
            "\u001b[0;31mAttributeError\u001b[0m: 'NoneType' object has no attribute 'sort'"
          ]
        }
      ],
      "source": [
        "x.sort()"
      ]
    },
    {
      "cell_type": "markdown",
      "metadata": {
        "collapsed": true,
        "id": "Et0AgRSCkPDB"
      },
      "source": [
        "## flow control in python"
      ]
    },
    {
      "cell_type": "code",
      "execution_count": 224,
      "metadata": {
        "id": "I4e9v2e7kPDB"
      },
      "outputs": [],
      "source": [
        "x=12"
      ]
    },
    {
      "cell_type": "code",
      "execution_count": 225,
      "metadata": {
        "colab": {
          "base_uri": "https://localhost:8080/"
        },
        "id": "jab5NcfmkPDB",
        "outputId": "d61c11a6-b6ca-4478-bebe-e337ced69758"
      },
      "outputs": [
        {
          "output_type": "stream",
          "name": "stdout",
          "text": [
            "my value is larger than 10\n"
          ]
        }
      ],
      "source": [
        "if x>10:\n",
        "    print('my value is larger than 10')\n",
        "else:\n",
        "    difference=10-x\n",
        "    print('x is smaller than 10 by '+str(difference))"
      ]
    },
    {
      "cell_type": "code",
      "execution_count": 226,
      "metadata": {
        "id": "quB-y5qDkPDB"
      },
      "outputs": [],
      "source": [
        "x=[5,40,12,-10,0,32,4,3,6,72]"
      ]
    },
    {
      "cell_type": "code",
      "execution_count": 227,
      "metadata": {
        "colab": {
          "base_uri": "https://localhost:8080/"
        },
        "id": "iVkB_zv5kPDC",
        "outputId": "fa25e357-7fe7-48e5-bc60-2e9bc5bb4c26"
      },
      "outputs": [
        {
          "output_type": "stream",
          "name": "stdout",
          "text": [
            "x is smaller than 10 by 5\n",
            "hello again\n",
            "hello\n",
            "my value is larger than 10\n",
            "hello\n",
            "my value is larger than 10\n",
            "hello\n",
            "x is smaller than 10 by 20\n",
            "hello again\n",
            "hello\n",
            "x is smaller than 10 by 10\n",
            "hello again\n",
            "hello\n",
            "my value is larger than 10\n",
            "hello\n",
            "x is smaller than 10 by 6\n",
            "hello again\n",
            "hello\n",
            "x is smaller than 10 by 7\n",
            "hello again\n",
            "hello\n",
            "x is smaller than 10 by 4\n",
            "hello again\n",
            "hello\n",
            "my value is larger than 10\n",
            "hello\n",
            "hello there\n"
          ]
        }
      ],
      "source": [
        "for value in x:\n",
        "    if value>10:\n",
        "        print('my value is larger than 10')\n",
        "    else:\n",
        "        difference=10-value\n",
        "        print('x is smaller than 10 by '+str(difference))\n",
        "        print('hello again')\n",
        "    print('hello')\n",
        "    \n",
        "print('hello there')\n",
        "    "
      ]
    },
    {
      "cell_type": "code",
      "execution_count": 228,
      "metadata": {
        "id": "w16_3lC1kPDC"
      },
      "outputs": [],
      "source": [
        "cities=['Mumbai','London','Bangalore','Pune','Hyderabad']"
      ]
    },
    {
      "cell_type": "code",
      "execution_count": 229,
      "metadata": {
        "colab": {
          "base_uri": "https://localhost:8080/"
        },
        "id": "jwOmnWQ3kPDC",
        "outputId": "2c090051-3a84-4339-d65b-8b61bfd10208"
      },
      "outputs": [
        {
          "output_type": "stream",
          "name": "stdout",
          "text": [
            "number of character in the name of city Mumbai:6\n",
            "number of character in the name of city London:6\n",
            "number of character in the name of city Bangalore:9\n",
            "number of character in the name of city Pune:4\n",
            "number of character in the name of city Hyderabad:9\n"
          ]
        }
      ],
      "source": [
        "for city in cities:\n",
        "    num_chars=len(city)\n",
        "    print('number of character in the name of city '+city+ ':'+ str(num_chars))"
      ]
    },
    {
      "cell_type": "code",
      "execution_count": 230,
      "metadata": {
        "id": "NeFAYPdmkPDC"
      },
      "outputs": [],
      "source": [
        "x=10"
      ]
    },
    {
      "cell_type": "code",
      "execution_count": 231,
      "metadata": {
        "colab": {
          "base_uri": "https://localhost:8080/"
        },
        "id": "QeuxnGB_kPDC",
        "outputId": "b96bb7b0-4e2b-491e-e6ac-d1cd5d2ef5ab"
      },
      "outputs": [
        {
          "output_type": "stream",
          "name": "stdout",
          "text": [
            "greater than 6\n",
            "greater than 7\n",
            "greater than 8\n"
          ]
        }
      ],
      "source": [
        "if x>6:\n",
        "    print('greater than 6')\n",
        "    if x>7:\n",
        "        print('greater than 7')\n",
        "        if x>8:\n",
        "            print('greater than 8')"
      ]
    },
    {
      "cell_type": "code",
      "execution_count": 232,
      "metadata": {
        "id": "nPodggG7kPDC"
      },
      "outputs": [],
      "source": [
        "# break , continue , pass"
      ]
    },
    {
      "cell_type": "code",
      "execution_count": 233,
      "metadata": {
        "id": "KtiBrt5UkPDC"
      },
      "outputs": [],
      "source": [
        "x=[[1,2],['a','b'],[34,67]]"
      ]
    },
    {
      "cell_type": "code",
      "execution_count": 234,
      "metadata": {
        "colab": {
          "base_uri": "https://localhost:8080/"
        },
        "id": "e2pQ93EQkPDC",
        "outputId": "32c13498-6544-49fc-b033-40584248b899"
      },
      "outputs": [
        {
          "output_type": "stream",
          "name": "stdout",
          "text": [
            "1 2\n",
            "a b\n",
            "34 67\n"
          ]
        }
      ],
      "source": [
        "for i,j in x:\n",
        "    print(i,j)"
      ]
    },
    {
      "cell_type": "code",
      "execution_count": 235,
      "metadata": {
        "colab": {
          "base_uri": "https://localhost:8080/"
        },
        "id": "uxU8-Yc0kPDC",
        "outputId": "92407f28-eed9-46e6-ee8f-27b3aede6a9c"
      },
      "outputs": [
        {
          "output_type": "stream",
          "name": "stdout",
          "text": [
            "0 : 6\n",
            "1 : 6\n",
            "2 : 9\n",
            "3 : 4\n",
            "4 : 9\n"
          ]
        }
      ],
      "source": [
        "ctr=0\n",
        "for city in cities:\n",
        "    print(ctr,':',len(city))\n",
        "    ctr+=1"
      ]
    },
    {
      "cell_type": "code",
      "execution_count": 236,
      "metadata": {
        "colab": {
          "base_uri": "https://localhost:8080/"
        },
        "id": "uxebsZsVkPDC",
        "outputId": "6c45f03f-ed8b-49ed-87da-b48ad4ea70ed"
      },
      "outputs": [
        {
          "output_type": "execute_result",
          "data": {
            "text/plain": [
              "[(0, 'Mumbai'), (1, 'London'), (2, 'Bangalore'), (3, 'Pune'), (4, 'Hyderabad')]"
            ]
          },
          "metadata": {},
          "execution_count": 236
        }
      ],
      "source": [
        "list(enumerate(cities))"
      ]
    },
    {
      "cell_type": "code",
      "execution_count": 237,
      "metadata": {
        "colab": {
          "base_uri": "https://localhost:8080/"
        },
        "id": "bWKfJehSkPDC",
        "outputId": "0606d7f7-cfc0-47dd-ad9e-06b008340de1"
      },
      "outputs": [
        {
          "output_type": "stream",
          "name": "stdout",
          "text": [
            "0 : 6\n",
            "1 : 6\n",
            "2 : 9\n",
            "3 : 4\n",
            "4 : 9\n"
          ]
        }
      ],
      "source": [
        "for i,city in enumerate(cities):\n",
        "    print(i,':',len(city))"
      ]
    },
    {
      "cell_type": "code",
      "execution_count": 238,
      "metadata": {
        "id": "Kl22HPIYkPDC"
      },
      "outputs": [],
      "source": [
        "x=[[2,3,4,5,6,7,8],[2,3,4,5,6,7,8]]"
      ]
    },
    {
      "cell_type": "code",
      "execution_count": 239,
      "metadata": {
        "colab": {
          "base_uri": "https://localhost:8080/"
        },
        "id": "s3tuq2R3kPDC",
        "outputId": "9b9e5619-5ec5-46f3-8326-6b72b63e395b"
      },
      "outputs": [
        {
          "output_type": "stream",
          "name": "stdout",
          "text": [
            "2 3 4 5 6 7 8\n",
            "2 3 4 5 6 7 8\n"
          ]
        }
      ],
      "source": [
        "for a,b,c,d,e,f,g in x:\n",
        "    print(a,b,c,d,e,f,g)"
      ]
    },
    {
      "cell_type": "code",
      "execution_count": 240,
      "metadata": {
        "colab": {
          "base_uri": "https://localhost:8080/"
        },
        "id": "qusLKD5dkPDD",
        "outputId": "3062c59a-7ef8-4947-9421-603988ff2f1a"
      },
      "outputs": [
        {
          "output_type": "stream",
          "name": "stdout",
          "text": [
            "10 x is greater than 3\n",
            "9 x is greater than 3\n",
            "8 x is greater than 3\n",
            "7 x is greater than 3\n",
            "6 x is greater than 3\n",
            "5 x is greater than 3\n",
            "4 x is greater than 3\n"
          ]
        }
      ],
      "source": [
        "x=10\n",
        "\n",
        "while x>3:\n",
        "    print(x, 'x is greater than 3')\n",
        "    x-=1"
      ]
    },
    {
      "cell_type": "code",
      "execution_count": 241,
      "metadata": {
        "id": "k0TZ8M37kPDD"
      },
      "outputs": [],
      "source": [
        "mylist=range(10,3,-1)"
      ]
    },
    {
      "cell_type": "code",
      "execution_count": 242,
      "metadata": {
        "colab": {
          "base_uri": "https://localhost:8080/"
        },
        "id": "-N8JmIgekPDD",
        "outputId": "c268cf64-9314-4296-ba4a-0d118b68156a"
      },
      "outputs": [
        {
          "output_type": "stream",
          "name": "stdout",
          "text": [
            "10\n",
            "9\n",
            "8\n",
            "7\n",
            "6\n",
            "5\n",
            "4\n"
          ]
        }
      ],
      "source": [
        "for value in mylist:\n",
        "    print(value)"
      ]
    },
    {
      "cell_type": "code",
      "execution_count": 243,
      "metadata": {
        "colab": {
          "base_uri": "https://localhost:8080/"
        },
        "id": "VDGhLb3ckPDD",
        "outputId": "2f5d951f-a701-4aea-aa68-f7b3bfe15466"
      },
      "outputs": [
        {
          "output_type": "stream",
          "name": "stdout",
          "text": [
            "6\n",
            "2\n",
            "2\n",
            "2\n",
            "3\n",
            "1\n",
            "Loss\n"
          ]
        }
      ],
      "source": [
        "mysum=0\n",
        "throws=0\n",
        "import numpy as np \n",
        "\n",
        "while mysum<=20 and throws<6:\n",
        "    throw = np.random.randint(high=7,low=1)\n",
        "    mysum += throw\n",
        "    throws +=1\n",
        "    print(throw)\n",
        "\n",
        "if mysum<20: \n",
        "    print('Loss')\n",
        "else :\n",
        "    print('Win')"
      ]
    },
    {
      "cell_type": "code",
      "execution_count": 244,
      "metadata": {
        "id": "xo5wuYunkPDD"
      },
      "outputs": [],
      "source": [
        "x=[2,3,4,5,6,8,9,10,1,33,44,12]"
      ]
    },
    {
      "cell_type": "code",
      "execution_count": 245,
      "metadata": {
        "id": "Nwob-8WMkPDD"
      },
      "outputs": [],
      "source": [
        "import math"
      ]
    },
    {
      "cell_type": "code",
      "execution_count": 246,
      "metadata": {
        "colab": {
          "base_uri": "https://localhost:8080/"
        },
        "id": "DFJL_pLGkPDD",
        "outputId": "6cd4a201-2a75-4cad-8a7d-afe9b35d2fbf"
      },
      "outputs": [
        {
          "output_type": "stream",
          "name": "stdout",
          "text": [
            "[2, 3, 4, 5, 6, 8, 9, 10, 1, 33, 44, 12]\n",
            "[0.6931471805599453, 1.0986122886681098, 1.3862943611198906, 1.6094379124341003, 1.791759469228055, 2.0794415416798357, 2.1972245773362196, 2.302585092994046, 0.0, 3.4965075614664802, 3.784189633918261, 2.4849066497880004]\n"
          ]
        }
      ],
      "source": [
        "logs=[]\n",
        "\n",
        "for num in x:\n",
        "    logs.append(math.log(num))\n",
        "  \n",
        "print(x)\n",
        "print(logs)"
      ]
    },
    {
      "cell_type": "code",
      "execution_count": 247,
      "metadata": {
        "id": "cFE98RhskPDD"
      },
      "outputs": [],
      "source": [
        "logs=[math.log(num) for num in x]"
      ]
    },
    {
      "cell_type": "code",
      "execution_count": 248,
      "metadata": {
        "colab": {
          "base_uri": "https://localhost:8080/"
        },
        "id": "m3YNFxotkPDD",
        "outputId": "5d6b87e8-5a81-4416-c767-d5486ead7d1c"
      },
      "outputs": [
        {
          "output_type": "execute_result",
          "data": {
            "text/plain": [
              "[0.6931471805599453,\n",
              " 1.0986122886681098,\n",
              " 1.3862943611198906,\n",
              " 1.6094379124341003,\n",
              " 1.791759469228055,\n",
              " 2.0794415416798357,\n",
              " 2.1972245773362196,\n",
              " 2.302585092994046,\n",
              " 0.0,\n",
              " 3.4965075614664802,\n",
              " 3.784189633918261,\n",
              " 2.4849066497880004]"
            ]
          },
          "metadata": {},
          "execution_count": 248
        }
      ],
      "source": [
        "logs"
      ]
    },
    {
      "cell_type": "code",
      "execution_count": 249,
      "metadata": {
        "id": "0YJqeCaRkPDD"
      },
      "outputs": [],
      "source": [
        "x=[0,3,4,-5,6,8,9,-10,1,33,-44,12]"
      ]
    },
    {
      "cell_type": "code",
      "execution_count": 250,
      "metadata": {
        "colab": {
          "base_uri": "https://localhost:8080/",
          "height": 218
        },
        "id": "OahqnhypkPDD",
        "outputId": "159a8d69-9d4b-4229-a5f8-e1e3a18f340f"
      },
      "outputs": [
        {
          "output_type": "error",
          "ename": "ValueError",
          "evalue": "ignored",
          "traceback": [
            "\u001b[0;31m---------------------------------------------------------------------------\u001b[0m",
            "\u001b[0;31mValueError\u001b[0m                                Traceback (most recent call last)",
            "\u001b[0;32m<ipython-input-250-465882e1e14c>\u001b[0m in \u001b[0;36m<module>\u001b[0;34m()\u001b[0m\n\u001b[0;32m----> 1\u001b[0;31m \u001b[0mlogs\u001b[0m\u001b[0;34m=\u001b[0m\u001b[0;34m[\u001b[0m\u001b[0mmath\u001b[0m\u001b[0;34m.\u001b[0m\u001b[0mlog\u001b[0m\u001b[0;34m(\u001b[0m\u001b[0mnum\u001b[0m\u001b[0;34m)\u001b[0m \u001b[0;32mfor\u001b[0m \u001b[0mnum\u001b[0m \u001b[0;32min\u001b[0m \u001b[0mx\u001b[0m\u001b[0;34m]\u001b[0m\u001b[0;34m\u001b[0m\u001b[0;34m\u001b[0m\u001b[0m\n\u001b[0m",
            "\u001b[0;32m<ipython-input-250-465882e1e14c>\u001b[0m in \u001b[0;36m<listcomp>\u001b[0;34m(.0)\u001b[0m\n\u001b[0;32m----> 1\u001b[0;31m \u001b[0mlogs\u001b[0m\u001b[0;34m=\u001b[0m\u001b[0;34m[\u001b[0m\u001b[0mmath\u001b[0m\u001b[0;34m.\u001b[0m\u001b[0mlog\u001b[0m\u001b[0;34m(\u001b[0m\u001b[0mnum\u001b[0m\u001b[0;34m)\u001b[0m \u001b[0;32mfor\u001b[0m \u001b[0mnum\u001b[0m \u001b[0;32min\u001b[0m \u001b[0mx\u001b[0m\u001b[0;34m]\u001b[0m\u001b[0;34m\u001b[0m\u001b[0;34m\u001b[0m\u001b[0m\n\u001b[0m",
            "\u001b[0;31mValueError\u001b[0m: math domain error"
          ]
        }
      ],
      "source": [
        "logs=[math.log(num) for num in x]"
      ]
    },
    {
      "cell_type": "code",
      "execution_count": 257,
      "metadata": {
        "id": "FIQne1mNkPDE"
      },
      "outputs": [],
      "source": [
        "logs=[]\n",
        "\n",
        "for num in x:\n",
        "    if num>0:\n",
        "        logs.append(math.log(num))\n",
        "    else:\n",
        "        pass"
      ]
    },
    {
      "cell_type": "code",
      "execution_count": 258,
      "metadata": {
        "colab": {
          "base_uri": "https://localhost:8080/"
        },
        "id": "dDkX9VGUkPDE",
        "outputId": "5f690b2f-962b-4eea-a7f0-62054ce597c0"
      },
      "outputs": [
        {
          "output_type": "execute_result",
          "data": {
            "text/plain": [
              "[1.0986122886681098,\n",
              " 1.3862943611198906,\n",
              " 1.791759469228055,\n",
              " 2.0794415416798357,\n",
              " 2.1972245773362196,\n",
              " 0.0,\n",
              " 3.4965075614664802,\n",
              " 2.4849066497880004]"
            ]
          },
          "metadata": {},
          "execution_count": 258
        }
      ],
      "source": [
        "logs"
      ]
    },
    {
      "cell_type": "code",
      "execution_count": 259,
      "metadata": {
        "id": "BcS44tBqkPDE"
      },
      "outputs": [],
      "source": [
        "logs=[math.log(num) for num in x if num>0]"
      ]
    },
    {
      "cell_type": "code",
      "execution_count": 260,
      "metadata": {
        "colab": {
          "base_uri": "https://localhost:8080/"
        },
        "id": "WGVvler8kPDE",
        "outputId": "8f1da624-397d-4b89-ca05-8ec0363074d3"
      },
      "outputs": [
        {
          "output_type": "execute_result",
          "data": {
            "text/plain": [
              "[1.0986122886681098,\n",
              " 1.3862943611198906,\n",
              " 1.791759469228055,\n",
              " 2.0794415416798357,\n",
              " 2.1972245773362196,\n",
              " 0.0,\n",
              " 3.4965075614664802,\n",
              " 2.4849066497880004]"
            ]
          },
          "metadata": {},
          "execution_count": 260
        }
      ],
      "source": [
        "logs"
      ]
    },
    {
      "cell_type": "code",
      "execution_count": 261,
      "metadata": {
        "id": "31zX1J09kPDE"
      },
      "outputs": [],
      "source": [
        "logs=[math.log(num) if num>0 else 'out of domain' for num in x]"
      ]
    },
    {
      "cell_type": "code",
      "execution_count": 262,
      "metadata": {
        "colab": {
          "base_uri": "https://localhost:8080/"
        },
        "id": "OLm9o7kLkPDE",
        "outputId": "2d9d80f1-be6e-4da7-d168-a85741045980"
      },
      "outputs": [
        {
          "output_type": "execute_result",
          "data": {
            "text/plain": [
              "['out of domain',\n",
              " 1.0986122886681098,\n",
              " 1.3862943611198906,\n",
              " 'out of domain',\n",
              " 1.791759469228055,\n",
              " 2.0794415416798357,\n",
              " 2.1972245773362196,\n",
              " 'out of domain',\n",
              " 0.0,\n",
              " 3.4965075614664802,\n",
              " 'out of domain',\n",
              " 2.4849066497880004]"
            ]
          },
          "metadata": {},
          "execution_count": 262
        }
      ],
      "source": [
        "logs"
      ]
    },
    {
      "cell_type": "markdown",
      "metadata": {
        "id": "Vy3MywbjkPDE"
      },
      "source": [
        "# Dictionaries"
      ]
    },
    {
      "cell_type": "code",
      "execution_count": 263,
      "metadata": {
        "id": "C5st8mEjkPDE"
      },
      "outputs": [],
      "source": [
        "my_dict={'name':'lalit','city':'hyderabad','locality':'gachibowli','num_vehicles':2,3:78,4:[3,4,5,6]}"
      ]
    },
    {
      "cell_type": "code",
      "execution_count": 264,
      "metadata": {
        "colab": {
          "base_uri": "https://localhost:8080/"
        },
        "id": "mAtPqdzAkPDE",
        "outputId": "9db55226-abed-411d-ddd7-9eb2cc7a1fd5"
      },
      "outputs": [
        {
          "output_type": "execute_result",
          "data": {
            "text/plain": [
              "dict"
            ]
          },
          "metadata": {},
          "execution_count": 264
        }
      ],
      "source": [
        "type(my_dict)"
      ]
    },
    {
      "cell_type": "code",
      "execution_count": 265,
      "metadata": {
        "colab": {
          "base_uri": "https://localhost:8080/"
        },
        "id": "r4c5emL0kPDF",
        "outputId": "c58b9c5d-937f-412a-d972-c6e8a923ccea"
      },
      "outputs": [
        {
          "output_type": "execute_result",
          "data": {
            "text/plain": [
              "dict_keys(['name', 'city', 'locality', 'num_vehicles', 3, 4])"
            ]
          },
          "metadata": {},
          "execution_count": 265
        }
      ],
      "source": [
        "my_dict.keys()"
      ]
    },
    {
      "cell_type": "code",
      "execution_count": 266,
      "metadata": {
        "colab": {
          "base_uri": "https://localhost:8080/"
        },
        "id": "kLoXb3mskPDF",
        "outputId": "7da929b2-73af-4fdb-a466-3e4c588a2539"
      },
      "outputs": [
        {
          "output_type": "execute_result",
          "data": {
            "text/plain": [
              "dict_values(['lalit', 'hyderabad', 'gachibowli', 2, 78, [3, 4, 5, 6]])"
            ]
          },
          "metadata": {},
          "execution_count": 266
        }
      ],
      "source": [
        "my_dict.values()"
      ]
    },
    {
      "cell_type": "code",
      "execution_count": 267,
      "metadata": {
        "colab": {
          "base_uri": "https://localhost:8080/",
          "height": 35
        },
        "id": "fHEd12mqkPDF",
        "outputId": "390a2488-447b-4a83-c154-c6974eef8cd0"
      },
      "outputs": [
        {
          "output_type": "execute_result",
          "data": {
            "text/plain": [
              "'gachibowli'"
            ],
            "application/vnd.google.colaboratory.intrinsic+json": {
              "type": "string"
            }
          },
          "metadata": {},
          "execution_count": 267
        }
      ],
      "source": [
        "my_dict['locality']"
      ]
    },
    {
      "cell_type": "code",
      "execution_count": 268,
      "metadata": {
        "colab": {
          "base_uri": "https://localhost:8080/"
        },
        "id": "930v7nLhkPDF",
        "outputId": "0896b1de-6ef9-4434-b668-0b7474f7e815"
      },
      "outputs": [
        {
          "output_type": "execute_result",
          "data": {
            "text/plain": [
              "[3, 4, 5, 6]"
            ]
          },
          "metadata": {},
          "execution_count": 268
        }
      ],
      "source": [
        "my_dict[4]"
      ]
    },
    {
      "cell_type": "code",
      "execution_count": 269,
      "metadata": {
        "colab": {
          "base_uri": "https://localhost:8080/",
          "height": 166
        },
        "id": "eoD61wLCkPDF",
        "outputId": "f9c3f39e-7d01-4e5d-f1b4-8a8f5fef5514"
      },
      "outputs": [
        {
          "output_type": "error",
          "ename": "KeyError",
          "evalue": "ignored",
          "traceback": [
            "\u001b[0;31m---------------------------------------------------------------------------\u001b[0m",
            "\u001b[0;31mKeyError\u001b[0m                                  Traceback (most recent call last)",
            "\u001b[0;32m<ipython-input-269-f4b2ef2f4d75>\u001b[0m in \u001b[0;36m<module>\u001b[0;34m()\u001b[0m\n\u001b[0;32m----> 1\u001b[0;31m \u001b[0mmy_dict\u001b[0m\u001b[0;34m[\u001b[0m\u001b[0;34m'last_name'\u001b[0m\u001b[0;34m]\u001b[0m\u001b[0;34m\u001b[0m\u001b[0;34m\u001b[0m\u001b[0m\n\u001b[0m",
            "\u001b[0;31mKeyError\u001b[0m: 'last_name'"
          ]
        }
      ],
      "source": [
        "my_dict['last_name']"
      ]
    },
    {
      "cell_type": "code",
      "execution_count": 270,
      "metadata": {
        "id": "3vcM1LhGkPDF"
      },
      "outputs": [],
      "source": [
        "my_dict['last_name']='sachan'"
      ]
    },
    {
      "cell_type": "code",
      "execution_count": 271,
      "metadata": {
        "colab": {
          "base_uri": "https://localhost:8080/"
        },
        "id": "y5ELXlAjkPDF",
        "outputId": "a8b5561a-5dbc-4c28-e554-71171c3ec787"
      },
      "outputs": [
        {
          "output_type": "execute_result",
          "data": {
            "text/plain": [
              "{3: 78,\n",
              " 4: [3, 4, 5, 6],\n",
              " 'city': 'hyderabad',\n",
              " 'last_name': 'sachan',\n",
              " 'locality': 'gachibowli',\n",
              " 'name': 'lalit',\n",
              " 'num_vehicles': 2}"
            ]
          },
          "metadata": {},
          "execution_count": 271
        }
      ],
      "source": [
        "my_dict"
      ]
    },
    {
      "cell_type": "code",
      "execution_count": 272,
      "metadata": {
        "id": "IqndFkFikPDF"
      },
      "outputs": [],
      "source": [
        "del my_dict['num_vehicles']"
      ]
    },
    {
      "cell_type": "code",
      "execution_count": 273,
      "metadata": {
        "colab": {
          "base_uri": "https://localhost:8080/"
        },
        "id": "chd3hJNQkPDF",
        "outputId": "ed2e6412-acbf-47df-931d-6ccc837f17a1"
      },
      "outputs": [
        {
          "output_type": "execute_result",
          "data": {
            "text/plain": [
              "{3: 78,\n",
              " 4: [3, 4, 5, 6],\n",
              " 'city': 'hyderabad',\n",
              " 'last_name': 'sachan',\n",
              " 'locality': 'gachibowli',\n",
              " 'name': 'lalit'}"
            ]
          },
          "metadata": {},
          "execution_count": 273
        }
      ],
      "source": [
        "my_dict"
      ]
    },
    {
      "cell_type": "code",
      "execution_count": 274,
      "metadata": {
        "colab": {
          "base_uri": "https://localhost:8080/"
        },
        "id": "wUhsh1gNkPDF",
        "outputId": "92f0a1fc-380a-4d23-c7dc-3a3b618cc794"
      },
      "outputs": [
        {
          "output_type": "stream",
          "name": "stdout",
          "text": [
            "name\n",
            "city\n",
            "locality\n",
            "3\n",
            "4\n",
            "last_name\n"
          ]
        }
      ],
      "source": [
        "for itr in my_dict:\n",
        "    print(itr)"
      ]
    },
    {
      "cell_type": "code",
      "execution_count": 275,
      "metadata": {
        "colab": {
          "base_uri": "https://localhost:8080/"
        },
        "id": "l1idvuYMkPDF",
        "outputId": "c680b399-0448-46c7-dffa-51c15569938f"
      },
      "outputs": [
        {
          "output_type": "stream",
          "name": "stdout",
          "text": [
            "name lalit\n",
            "city hyderabad\n",
            "locality gachibowli\n",
            "3 78\n",
            "4 [3, 4, 5, 6]\n",
            "last_name sachan\n"
          ]
        }
      ],
      "source": [
        "for itr in my_dict:\n",
        "    print(itr,my_dict[itr])"
      ]
    },
    {
      "cell_type": "code",
      "execution_count": 276,
      "metadata": {
        "colab": {
          "base_uri": "https://localhost:8080/"
        },
        "id": "NAOx8-aJkPDF",
        "outputId": "bfe3704d-e0df-4366-a5ff-99a7078ef9f4"
      },
      "outputs": [
        {
          "output_type": "execute_result",
          "data": {
            "text/plain": [
              "dict_items([('name', 'lalit'), ('city', 'hyderabad'), ('locality', 'gachibowli'), (3, 78), (4, [3, 4, 5, 6]), ('last_name', 'sachan')])"
            ]
          },
          "metadata": {},
          "execution_count": 276
        }
      ],
      "source": [
        "my_dict.items()"
      ]
    },
    {
      "cell_type": "code",
      "execution_count": 277,
      "metadata": {
        "colab": {
          "base_uri": "https://localhost:8080/"
        },
        "id": "8XusgDEAkPDG",
        "outputId": "0b772baa-e5a5-40cf-be00-7929d7c21f4f"
      },
      "outputs": [
        {
          "output_type": "stream",
          "name": "stdout",
          "text": [
            "key : name  and value : lalit\n",
            "key : city  and value : hyderabad\n",
            "key : locality  and value : gachibowli\n",
            "key : 3  and value : 78\n",
            "key : 4  and value : [3, 4, 5, 6]\n",
            "key : last_name  and value : sachan\n"
          ]
        }
      ],
      "source": [
        "for key,value in my_dict.items():\n",
        "    print('key :', key , ' and value :',value)"
      ]
    },
    {
      "cell_type": "markdown",
      "metadata": {
        "id": "ajRDwmtGkPDG"
      },
      "source": [
        "# Sets"
      ]
    },
    {
      "cell_type": "code",
      "execution_count": 296,
      "metadata": {
        "id": "JD2MimE4kPDG"
      },
      "outputs": [],
      "source": [
        "names={'lalit','spanadan','deepta','manoj'}"
      ]
    },
    {
      "cell_type": "code",
      "execution_count": 297,
      "metadata": {
        "colab": {
          "base_uri": "https://localhost:8080/"
        },
        "id": "H3Ad0SHIkPDG",
        "outputId": "fc9fe2e6-246c-458c-e7df-d7a5c4b4fa3a"
      },
      "outputs": [
        {
          "output_type": "execute_result",
          "data": {
            "text/plain": [
              "set"
            ]
          },
          "metadata": {},
          "execution_count": 297
        }
      ],
      "source": [
        "type(names)"
      ]
    },
    {
      "cell_type": "code",
      "execution_count": 298,
      "metadata": {
        "colab": {
          "base_uri": "https://localhost:8080/"
        },
        "id": "IOMpq6bNkPDG",
        "outputId": "93a7f2d0-3110-469c-af51-378e42408580"
      },
      "outputs": [
        {
          "output_type": "execute_result",
          "data": {
            "text/plain": [
              "True"
            ]
          },
          "metadata": {},
          "execution_count": 298
        }
      ],
      "source": [
        "'lalit' in names"
      ]
    },
    {
      "cell_type": "code",
      "execution_count": 299,
      "metadata": {
        "colab": {
          "base_uri": "https://localhost:8080/"
        },
        "id": "nlzycllvkPDG",
        "outputId": "57644f9c-6399-42c2-fd12-c84385f7b206"
      },
      "outputs": [
        {
          "output_type": "execute_result",
          "data": {
            "text/plain": [
              "True"
            ]
          },
          "metadata": {},
          "execution_count": 299
        }
      ],
      "source": [
        "'harsh' not in names"
      ]
    },
    {
      "cell_type": "code",
      "execution_count": 300,
      "metadata": {
        "id": "__iN1w3hkPDG"
      },
      "outputs": [],
      "source": [
        "names.add('harsh')"
      ]
    },
    {
      "cell_type": "code",
      "execution_count": 301,
      "metadata": {
        "colab": {
          "base_uri": "https://localhost:8080/"
        },
        "id": "5KCNXYdDkPDG",
        "outputId": "4cbbbd0e-fc15-4c1e-efbb-987f1e68e5fc"
      },
      "outputs": [
        {
          "output_type": "execute_result",
          "data": {
            "text/plain": [
              "{'deepta', 'harsh', 'lalit', 'manoj', 'spanadan'}"
            ]
          },
          "metadata": {},
          "execution_count": 301
        }
      ],
      "source": [
        "names"
      ]
    },
    {
      "cell_type": "code",
      "execution_count": 302,
      "metadata": {
        "id": "xQiHVC5SkPDG"
      },
      "outputs": [],
      "source": [
        "names.add('harsh')"
      ]
    },
    {
      "cell_type": "code",
      "execution_count": 303,
      "metadata": {
        "colab": {
          "base_uri": "https://localhost:8080/"
        },
        "id": "_upw4sNHkPDG",
        "outputId": "064f4d01-b88a-4136-ba45-d939aba8df70"
      },
      "outputs": [
        {
          "output_type": "execute_result",
          "data": {
            "text/plain": [
              "{'deepta', 'harsh', 'lalit', 'manoj', 'spanadan'}"
            ]
          },
          "metadata": {},
          "execution_count": 303
        }
      ],
      "source": [
        "names"
      ]
    },
    {
      "cell_type": "code",
      "execution_count": 304,
      "metadata": {
        "id": "l17ET27KkPDG"
      },
      "outputs": [],
      "source": [
        "names.remove('lalit')"
      ]
    },
    {
      "cell_type": "code",
      "execution_count": 305,
      "metadata": {
        "colab": {
          "base_uri": "https://localhost:8080/"
        },
        "id": "6GvGf0TJkPDG",
        "outputId": "3f812e60-fa9f-4606-8247-9359526f47d3"
      },
      "outputs": [
        {
          "output_type": "execute_result",
          "data": {
            "text/plain": [
              "{'deepta', 'harsh', 'manoj', 'spanadan'}"
            ]
          },
          "metadata": {},
          "execution_count": 305
        }
      ],
      "source": [
        "names"
      ]
    },
    {
      "cell_type": "code",
      "execution_count": 306,
      "metadata": {
        "colab": {
          "base_uri": "https://localhost:8080/"
        },
        "id": "eYKkj78jkPDG",
        "outputId": "42f2bc41-2f81-4d86-9bec-db6eae0720f2"
      },
      "outputs": [
        {
          "output_type": "stream",
          "name": "stdout",
          "text": [
            "harsh\n",
            "spanadan\n",
            "deepta\n",
            "manoj\n"
          ]
        }
      ],
      "source": [
        "for name in names:\n",
        "    print(name)"
      ]
    },
    {
      "cell_type": "code",
      "execution_count": 307,
      "metadata": {
        "id": "GvhK3PZrkPDG"
      },
      "outputs": [],
      "source": [
        "a={1,2,3,4,5,6}\n",
        "b={4,5,6,7,8,9}"
      ]
    },
    {
      "cell_type": "code",
      "execution_count": 308,
      "metadata": {
        "id": "6QdeHIyZkPDI"
      },
      "outputs": [],
      "source": [
        "c=a.union(b)"
      ]
    },
    {
      "cell_type": "code",
      "execution_count": 309,
      "metadata": {
        "colab": {
          "base_uri": "https://localhost:8080/"
        },
        "id": "ZlyvFLXKkPDJ",
        "outputId": "7b5cde7c-bacf-4e59-dfce-34386e988912"
      },
      "outputs": [
        {
          "output_type": "execute_result",
          "data": {
            "text/plain": [
              "{1, 2, 3, 4, 5, 6, 7, 8, 9}"
            ]
          },
          "metadata": {},
          "execution_count": 309
        }
      ],
      "source": [
        "c"
      ]
    },
    {
      "cell_type": "code",
      "execution_count": 310,
      "metadata": {
        "colab": {
          "base_uri": "https://localhost:8080/"
        },
        "id": "fKZ9fhnbkPDJ",
        "outputId": "75612237-ae8d-4771-a5cf-9f1b67199331"
      },
      "outputs": [
        {
          "output_type": "execute_result",
          "data": {
            "text/plain": [
              "{4, 5, 6}"
            ]
          },
          "metadata": {},
          "execution_count": 310
        }
      ],
      "source": [
        "a.intersection(b)"
      ]
    },
    {
      "cell_type": "code",
      "execution_count": 311,
      "metadata": {
        "colab": {
          "base_uri": "https://localhost:8080/"
        },
        "id": "V2Swln8ckPDJ",
        "outputId": "bd07a4d3-e5e4-46f1-c219-7d51c7963bca"
      },
      "outputs": [
        {
          "output_type": "execute_result",
          "data": {
            "text/plain": [
              "{1, 2, 3}"
            ]
          },
          "metadata": {},
          "execution_count": 311
        }
      ],
      "source": [
        "a.difference(b)"
      ]
    },
    {
      "cell_type": "code",
      "execution_count": 312,
      "metadata": {
        "colab": {
          "base_uri": "https://localhost:8080/"
        },
        "id": "gGvJiRx4kPDJ",
        "outputId": "6dacd831-5548-4a09-f104-1da02c488b6d"
      },
      "outputs": [
        {
          "output_type": "execute_result",
          "data": {
            "text/plain": [
              "{7, 8, 9}"
            ]
          },
          "metadata": {},
          "execution_count": 312
        }
      ],
      "source": [
        "b.difference(a)"
      ]
    },
    {
      "cell_type": "code",
      "execution_count": 313,
      "metadata": {
        "colab": {
          "base_uri": "https://localhost:8080/"
        },
        "id": "iRZs9WlykPDJ",
        "outputId": "332776d8-9ba1-4e50-f6dc-11a2fdb58864"
      },
      "outputs": [
        {
          "output_type": "execute_result",
          "data": {
            "text/plain": [
              "{1, 2, 3, 7, 8, 9}"
            ]
          },
          "metadata": {},
          "execution_count": 313
        }
      ],
      "source": [
        "a.symmetric_difference(b)"
      ]
    },
    {
      "cell_type": "markdown",
      "metadata": {
        "id": "BTKDPPRpkPDJ"
      },
      "source": [
        "# Tuples"
      ]
    },
    {
      "cell_type": "code",
      "execution_count": null,
      "metadata": {
        "id": "ZC75akYLkPDJ"
      },
      "outputs": [],
      "source": [
        "t=(34,56,12)"
      ]
    },
    {
      "cell_type": "code",
      "execution_count": null,
      "metadata": {
        "id": "IdUcSNHRkPDJ"
      },
      "outputs": [],
      "source": [
        "type(t)"
      ]
    },
    {
      "cell_type": "code",
      "execution_count": null,
      "metadata": {
        "id": "jS2bx8mgkPDJ"
      },
      "outputs": [],
      "source": [
        "t=34,56,89"
      ]
    },
    {
      "cell_type": "code",
      "execution_count": null,
      "metadata": {
        "id": "6De4B3z-kPDJ"
      },
      "outputs": [],
      "source": [
        "type(t)"
      ]
    },
    {
      "cell_type": "code",
      "execution_count": null,
      "metadata": {
        "id": "YUZMu0EZkPDJ"
      },
      "outputs": [],
      "source": [
        "t[2]=99"
      ]
    },
    {
      "cell_type": "markdown",
      "metadata": {
        "id": "7Tysj4UakPDJ"
      },
      "source": [
        "# Functions"
      ]
    },
    {
      "cell_type": "code",
      "execution_count": 314,
      "metadata": {
        "id": "SKwF_WxkkPDJ"
      },
      "outputs": [],
      "source": [
        "x=12\n",
        "fib_series=[1,1]\n",
        "ctr=2\n",
        "\n",
        "while ctr<x:\n",
        "    fib_series.append(fib_series[-1]+fib_series[-2])\n",
        "    ctr+=1\n"
      ]
    },
    {
      "cell_type": "code",
      "execution_count": 315,
      "metadata": {
        "colab": {
          "base_uri": "https://localhost:8080/"
        },
        "id": "n6X7RQ-ekPDJ",
        "outputId": "b417b7bb-55fd-4ee2-b061-3388322a8b03"
      },
      "outputs": [
        {
          "output_type": "execute_result",
          "data": {
            "text/plain": [
              "[1, 1, 2, 3, 5, 8, 13, 21, 34, 55, 89, 144]"
            ]
          },
          "metadata": {},
          "execution_count": 315
        }
      ],
      "source": [
        "fib_series"
      ]
    },
    {
      "cell_type": "code",
      "execution_count": 316,
      "metadata": {
        "id": "OR-oFLNCkPDJ"
      },
      "outputs": [],
      "source": [
        "def fib_series_creator(num_elements):\n",
        "    fib_series=[1,1]\n",
        "    ctr=2\n",
        "\n",
        "    while ctr<num_elements:\n",
        "        fib_series.append(fib_series[-1]+fib_series[-2])\n",
        "        ctr+=1\n",
        "        \n",
        "    return(fib_series)\n",
        "    \n",
        "    \n",
        "    "
      ]
    },
    {
      "cell_type": "code",
      "execution_count": 317,
      "metadata": {
        "colab": {
          "base_uri": "https://localhost:8080/"
        },
        "id": "zbna0YvSkPDK",
        "outputId": "5c2e8065-d8eb-4422-b11e-cd463daf6926"
      },
      "outputs": [
        {
          "output_type": "execute_result",
          "data": {
            "text/plain": [
              "[1, 1, 2]"
            ]
          },
          "metadata": {},
          "execution_count": 317
        }
      ],
      "source": [
        "fib_series_creator(3)"
      ]
    },
    {
      "cell_type": "code",
      "execution_count": 318,
      "metadata": {
        "id": "K9xo7j2UkPDK"
      },
      "outputs": [],
      "source": [
        "def mysum(x,y,z):\n",
        "    return(2*x+3*y+4*z)"
      ]
    },
    {
      "cell_type": "code",
      "execution_count": 319,
      "metadata": {
        "colab": {
          "base_uri": "https://localhost:8080/"
        },
        "id": "cPcLYvKKkPDK",
        "outputId": "3e68587d-88ba-4811-a953-5b44faa2ecb7"
      },
      "outputs": [
        {
          "output_type": "execute_result",
          "data": {
            "text/plain": [
              "20"
            ]
          },
          "metadata": {},
          "execution_count": 319
        }
      ],
      "source": [
        "mysum(1,2,3)"
      ]
    },
    {
      "cell_type": "code",
      "execution_count": 320,
      "metadata": {
        "colab": {
          "base_uri": "https://localhost:8080/",
          "height": 166
        },
        "id": "5TJoOX7ekPDK",
        "outputId": "9914b161-d964-4444-f0ea-c5dc9b288828"
      },
      "outputs": [
        {
          "output_type": "error",
          "ename": "TypeError",
          "evalue": "ignored",
          "traceback": [
            "\u001b[0;31m---------------------------------------------------------------------------\u001b[0m",
            "\u001b[0;31mTypeError\u001b[0m                                 Traceback (most recent call last)",
            "\u001b[0;32m<ipython-input-320-b5d5c0bd592b>\u001b[0m in \u001b[0;36m<module>\u001b[0;34m()\u001b[0m\n\u001b[0;32m----> 1\u001b[0;31m \u001b[0mmysum\u001b[0m\u001b[0;34m(\u001b[0m\u001b[0;36m2\u001b[0m\u001b[0;34m,\u001b[0m\u001b[0;36m4\u001b[0m\u001b[0;34m)\u001b[0m\u001b[0;34m\u001b[0m\u001b[0;34m\u001b[0m\u001b[0m\n\u001b[0m",
            "\u001b[0;31mTypeError\u001b[0m: mysum() missing 1 required positional argument: 'z'"
          ]
        }
      ],
      "source": [
        "mysum(2,4)"
      ]
    },
    {
      "cell_type": "code",
      "execution_count": 321,
      "metadata": {
        "id": "G1Zr_FK3kPDK"
      },
      "outputs": [],
      "source": [
        "def mysum(x=1,y=10,z=100):\n",
        "    return(2*x+3*y+4*z)"
      ]
    },
    {
      "cell_type": "code",
      "execution_count": 322,
      "metadata": {
        "colab": {
          "base_uri": "https://localhost:8080/"
        },
        "id": "xK8HcmoDkPDK",
        "outputId": "c9498d7f-77cc-4cfe-a41f-f398a9eef4e8"
      },
      "outputs": [
        {
          "output_type": "execute_result",
          "data": {
            "text/plain": [
              "20"
            ]
          },
          "metadata": {},
          "execution_count": 322
        }
      ],
      "source": [
        "mysum(1,2,3)"
      ]
    },
    {
      "cell_type": "code",
      "execution_count": 323,
      "metadata": {
        "colab": {
          "base_uri": "https://localhost:8080/"
        },
        "id": "RylAu4-_kPDK",
        "outputId": "ca29ef7c-e435-4db2-8819-2dfd08972261"
      },
      "outputs": [
        {
          "output_type": "execute_result",
          "data": {
            "text/plain": [
              "416"
            ]
          },
          "metadata": {},
          "execution_count": 323
        }
      ],
      "source": [
        "mysum(2,4)"
      ]
    },
    {
      "cell_type": "code",
      "execution_count": 325,
      "metadata": {
        "colab": {
          "base_uri": "https://localhost:8080/"
        },
        "id": "zDPlF-gCkPDK",
        "outputId": "9f7a2c91-a2a7-4794-fb6e-b28989b7622c"
      },
      "outputs": [
        {
          "output_type": "execute_result",
          "data": {
            "text/plain": [
              "434"
            ]
          },
          "metadata": {},
          "execution_count": 325
        }
      ],
      "source": [
        "mysum(2)"
      ]
    },
    {
      "cell_type": "code",
      "execution_count": 326,
      "metadata": {
        "colab": {
          "base_uri": "https://localhost:8080/"
        },
        "id": "ZWl8OmX0kPDK",
        "outputId": "d25400c8-b40e-4eba-8ee4-f2aa3617ee67"
      },
      "outputs": [
        {
          "output_type": "execute_result",
          "data": {
            "text/plain": [
              "432"
            ]
          },
          "metadata": {},
          "execution_count": 326
        }
      ],
      "source": [
        "mysum()"
      ]
    },
    {
      "cell_type": "code",
      "execution_count": 327,
      "metadata": {
        "colab": {
          "base_uri": "https://localhost:8080/"
        },
        "id": "rRF3lJIrkPDK",
        "outputId": "44d1bf9c-95a7-4bbf-fb60-bcb2c83047a6"
      },
      "outputs": [
        {
          "output_type": "execute_result",
          "data": {
            "text/plain": [
              "-8"
            ]
          },
          "metadata": {},
          "execution_count": 327
        }
      ],
      "source": [
        "mysum(z=-10)"
      ]
    },
    {
      "cell_type": "code",
      "execution_count": 329,
      "metadata": {
        "colab": {
          "base_uri": "https://localhost:8080/"
        },
        "id": "tuqhLVIakPDK",
        "outputId": "6aa66da3-514d-48b3-ace3-4b83a69cb509"
      },
      "outputs": [
        {
          "output_type": "execute_result",
          "data": {
            "text/plain": [
              "374"
            ]
          },
          "metadata": {},
          "execution_count": 329
        }
      ],
      "source": [
        "mysum(y=0,z=90,x=7)"
      ]
    },
    {
      "cell_type": "code",
      "execution_count": 330,
      "metadata": {
        "colab": {
          "base_uri": "https://localhost:8080/",
          "height": 131
        },
        "id": "Rv8s5mSlkPDK",
        "outputId": "ef56694a-237c-4cd2-e9a0-a11f1b78e2fc"
      },
      "outputs": [
        {
          "output_type": "error",
          "ename": "SyntaxError",
          "evalue": "ignored",
          "traceback": [
            "\u001b[0;36m  File \u001b[0;32m\"<ipython-input-330-6bb8c761aa69>\"\u001b[0;36m, line \u001b[0;32m1\u001b[0m\n\u001b[0;31m    mysum(y=10,3)\u001b[0m\n\u001b[0m              ^\u001b[0m\n\u001b[0;31mSyntaxError\u001b[0m\u001b[0;31m:\u001b[0m positional argument follows keyword argument\n"
          ]
        }
      ],
      "source": [
        "mysum(y=10,3)"
      ]
    },
    {
      "cell_type": "code",
      "execution_count": 331,
      "metadata": {
        "colab": {
          "base_uri": "https://localhost:8080/"
        },
        "id": "jSHlYB_LkPDK",
        "outputId": "9b8faae0-991b-496e-da22-54b56aedef9c"
      },
      "outputs": [
        {
          "output_type": "execute_result",
          "data": {
            "text/plain": [
              "-4"
            ]
          },
          "metadata": {},
          "execution_count": 331
        }
      ],
      "source": [
        "mysum(3,z=-10)"
      ]
    },
    {
      "cell_type": "markdown",
      "metadata": {
        "id": "NdRtQirekPDK"
      },
      "source": [
        "## Args and kwargs"
      ]
    },
    {
      "cell_type": "code",
      "execution_count": 332,
      "metadata": {
        "id": "s0BXPAdQkPDL"
      },
      "outputs": [],
      "source": [
        "# * is an unpacking operator \n",
        "# we can make use of it to create a function which can take variable number of argument \n",
        "# many of  these function can also be written where they are built for taking a list as an argument \n",
        "\n",
        "def mymax_1(x):\n",
        "    m=-float('inf')\n",
        "    \n",
        "    for elem in x:\n",
        "        if elem>m:\n",
        "            m=elem\n",
        "    return m\n",
        "\n"
      ]
    },
    {
      "cell_type": "code",
      "execution_count": 333,
      "metadata": {
        "colab": {
          "base_uri": "https://localhost:8080/"
        },
        "id": "zryQJeahkPDL",
        "outputId": "34ff3520-7fa6-4eea-e9a1-33423bb0a297"
      },
      "outputs": [
        {
          "output_type": "execute_result",
          "data": {
            "text/plain": [
              "55"
            ]
          },
          "metadata": {},
          "execution_count": 333
        }
      ],
      "source": [
        "mymax_1([3,4,5,-10,55,2,1])"
      ]
    },
    {
      "cell_type": "code",
      "execution_count": 334,
      "metadata": {
        "colab": {
          "base_uri": "https://localhost:8080/",
          "height": 166
        },
        "id": "fxS4FmkYkPDL",
        "outputId": "3c0fd1ad-f871-47b8-c8cb-38b2149ec68e"
      },
      "outputs": [
        {
          "output_type": "error",
          "ename": "TypeError",
          "evalue": "ignored",
          "traceback": [
            "\u001b[0;31m---------------------------------------------------------------------------\u001b[0m",
            "\u001b[0;31mTypeError\u001b[0m                                 Traceback (most recent call last)",
            "\u001b[0;32m<ipython-input-334-d852224655d6>\u001b[0m in \u001b[0;36m<module>\u001b[0;34m()\u001b[0m\n\u001b[0;32m----> 1\u001b[0;31m \u001b[0mmymax_1\u001b[0m\u001b[0;34m(\u001b[0m\u001b[0;36m3\u001b[0m\u001b[0;34m,\u001b[0m\u001b[0;36m4\u001b[0m\u001b[0;34m,\u001b[0m\u001b[0;36m5\u001b[0m\u001b[0;34m,\u001b[0m\u001b[0;34m-\u001b[0m\u001b[0;36m10\u001b[0m\u001b[0;34m,\u001b[0m\u001b[0;36m55\u001b[0m\u001b[0;34m,\u001b[0m\u001b[0;36m2\u001b[0m\u001b[0;34m,\u001b[0m\u001b[0;36m1\u001b[0m\u001b[0;34m)\u001b[0m\u001b[0;34m\u001b[0m\u001b[0;34m\u001b[0m\u001b[0m\n\u001b[0m",
            "\u001b[0;31mTypeError\u001b[0m: mymax_1() takes 1 positional argument but 7 were given"
          ]
        }
      ],
      "source": [
        "mymax_1(3,4,5,-10,55,2,1)"
      ]
    },
    {
      "cell_type": "code",
      "execution_count": 335,
      "metadata": {
        "id": "ROK5ySgekPDL"
      },
      "outputs": [],
      "source": [
        "def mymax_2(*x):\n",
        "    \n",
        "    m=-float('inf')\n",
        "    \n",
        "    for elem in x:\n",
        "        if elem>m:\n",
        "            m=elem\n",
        "    return m"
      ]
    },
    {
      "cell_type": "code",
      "execution_count": 336,
      "metadata": {
        "colab": {
          "base_uri": "https://localhost:8080/"
        },
        "id": "WMtPWTzskPDL",
        "outputId": "fcf0f963-c60d-45f5-9299-684431ff8180"
      },
      "outputs": [
        {
          "output_type": "execute_result",
          "data": {
            "text/plain": [
              "55"
            ]
          },
          "metadata": {},
          "execution_count": 336
        }
      ],
      "source": [
        "mymax_2(3,4,5,-10,55,2,1)"
      ]
    },
    {
      "cell_type": "code",
      "execution_count": 339,
      "metadata": {
        "colab": {
          "base_uri": "https://localhost:8080/"
        },
        "id": "Ig2o0-RkkPDL",
        "outputId": "e8aa6e70-2de9-4639-a83e-00801ff389b7"
      },
      "outputs": [
        {
          "output_type": "execute_result",
          "data": {
            "text/plain": [
              "99"
            ]
          },
          "metadata": {},
          "execution_count": 339
        }
      ],
      "source": [
        "mymax_2(3,4,5,-10,55,2,1,99,-100,54,67)"
      ]
    },
    {
      "cell_type": "code",
      "execution_count": 338,
      "metadata": {
        "colab": {
          "base_uri": "https://localhost:8080/"
        },
        "id": "CdkKRxvNkPDL",
        "outputId": "125cef9a-825d-4712-86bd-3e9ab308a9c4"
      },
      "outputs": [
        {
          "output_type": "execute_result",
          "data": {
            "text/plain": [
              "99"
            ]
          },
          "metadata": {},
          "execution_count": 338
        }
      ],
      "source": [
        "mymax_2(*[3,4,5,-10,55,2,1,99,-100,54,67])"
      ]
    },
    {
      "cell_type": "code",
      "execution_count": 340,
      "metadata": {
        "id": "sMN9BMECkPDL"
      },
      "outputs": [],
      "source": [
        "# a more useful purpose of unpacking operator is that \n",
        "# you can use unpacking operator to pass your argument as a list to a function which  takes\n",
        "# fixed number of arguments . This you dont have to manually extract them into individual elements and \n",
        "# then pass to the function . here is an example \n",
        "\n",
        "def combine_name(first,last):\n",
        "    \n",
        "    name=first+' '+last\n",
        "    \n",
        "    return(name)\n",
        "\n",
        "names=[['lalit','sachan'],['rajkumar','rao'],['hardik','pandya']]"
      ]
    },
    {
      "cell_type": "code",
      "execution_count": 341,
      "metadata": {
        "colab": {
          "base_uri": "https://localhost:8080/"
        },
        "id": "vpsmwpO_kPDL",
        "outputId": "0b03e55e-eab8-4686-d583-bf3037c29c82"
      },
      "outputs": [
        {
          "output_type": "stream",
          "name": "stdout",
          "text": [
            "lalit sachan\n",
            "rajkumar rao\n",
            "hardik pandya\n"
          ]
        }
      ],
      "source": [
        "for x in names :\n",
        "    print(combine_name(x[0],x[1]))"
      ]
    },
    {
      "cell_type": "code",
      "execution_count": 342,
      "metadata": {
        "colab": {
          "base_uri": "https://localhost:8080/"
        },
        "id": "rq0M1qpMkPDL",
        "outputId": "3094ba33-da70-4869-d0b4-926aef9c637d"
      },
      "outputs": [
        {
          "output_type": "stream",
          "name": "stdout",
          "text": [
            "lalit sachan\n",
            "rajkumar rao\n",
            "hardik pandya\n"
          ]
        }
      ],
      "source": [
        "for x in names:\n",
        "    \n",
        "    print(combine_name(*x))"
      ]
    },
    {
      "cell_type": "code",
      "execution_count": 343,
      "metadata": {
        "id": "m-Ckx0sSkPDL"
      },
      "outputs": [],
      "source": [
        "# similar to *, you can consider ** as an unpacking operator for dictionaries \n",
        "# ** unpacks dictionaries as named arguments\n",
        "\n",
        "def combine_name(first=' ',middle=' ',last=' '):\n",
        "    \n",
        "    name=first+' '+middle+' '+last\n",
        "    \n",
        "    return(name)\n",
        "\n",
        "\n",
        "names=[{'first':'lalit','last':'sachan'},{'middle':'kumar','last':'rao','first':'raj'},\n",
        "       {'last':'pandya','first':'hardik'}]"
      ]
    },
    {
      "cell_type": "code",
      "execution_count": 344,
      "metadata": {
        "colab": {
          "base_uri": "https://localhost:8080/"
        },
        "id": "BULIiMtCkPDL",
        "outputId": "a6ccef23-57ed-4216-ae6e-3269a4b601ee"
      },
      "outputs": [
        {
          "output_type": "stream",
          "name": "stdout",
          "text": [
            "lalit   sachan\n",
            "raj kumar rao\n",
            "hardik   pandya\n"
          ]
        }
      ],
      "source": [
        "for x in names :\n",
        "    \n",
        "    print(combine_name(**x))"
      ]
    },
    {
      "cell_type": "code",
      "execution_count": 345,
      "metadata": {
        "id": "KpgDzWfSkPDL"
      },
      "outputs": [],
      "source": [
        "# you can also write function which take variable number of named arguments where the names \n",
        "# are not predecided\n",
        "\n",
        "def find_text(**tweet):\n",
        "    \n",
        "    if 'text' in tweet:\n",
        "        print(tweet['text'])\n",
        "    else:\n",
        "        print('tweet is empty')"
      ]
    },
    {
      "cell_type": "code",
      "execution_count": 346,
      "metadata": {
        "colab": {
          "base_uri": "https://localhost:8080/"
        },
        "id": "Kcq1hqUPkPDM",
        "outputId": "efef6387-6d02-4ac6-8325-f86bc2792ce1"
      },
      "outputs": [
        {
          "output_type": "stream",
          "name": "stdout",
          "text": [
            "tweet is empty\n"
          ]
        }
      ],
      "source": [
        "find_text(date='10-12-2020',name='lalit',count=2)"
      ]
    },
    {
      "cell_type": "code",
      "execution_count": 347,
      "metadata": {
        "colab": {
          "base_uri": "https://localhost:8080/"
        },
        "id": "TLzFgst3kPDM",
        "outputId": "57dc8e7b-45ee-41db-92b7-c8133c31006e"
      },
      "outputs": [
        {
          "output_type": "stream",
          "name": "stdout",
          "text": [
            "The Expanse is an interesting TV Series\n"
          ]
        }
      ],
      "source": [
        "find_text(date='10-12-2020',name='lalit',count=2,text='The Expanse is an interesting TV Series')"
      ]
    },
    {
      "cell_type": "markdown",
      "metadata": {
        "id": "UqxKFi1tkPDM"
      },
      "source": [
        "## understanding global and local scoping"
      ]
    },
    {
      "cell_type": "code",
      "execution_count": 348,
      "metadata": {
        "id": "THRAQBd1kPDM"
      },
      "outputs": [],
      "source": [
        "a=20\n",
        "b=10"
      ]
    },
    {
      "cell_type": "code",
      "execution_count": 349,
      "metadata": {
        "id": "7pN-mMtekPDM"
      },
      "outputs": [],
      "source": [
        "def exp1(a,b):\n",
        "    \n",
        "    a=7\n",
        "    b=3\n",
        "    \n",
        "    global c\n",
        "    \n",
        "    c=100\n",
        "    print(a,b)"
      ]
    },
    {
      "cell_type": "code",
      "execution_count": 350,
      "metadata": {
        "colab": {
          "base_uri": "https://localhost:8080/"
        },
        "id": "bnkyIiWUkPDM",
        "outputId": "256db44a-b50d-47c5-a20f-f002ba30e893"
      },
      "outputs": [
        {
          "output_type": "execute_result",
          "data": {
            "text/plain": [
              "(20, 10)"
            ]
          },
          "metadata": {},
          "execution_count": 350
        }
      ],
      "source": [
        "a,b"
      ]
    },
    {
      "cell_type": "code",
      "execution_count": 351,
      "metadata": {
        "colab": {
          "base_uri": "https://localhost:8080/"
        },
        "id": "7jraGYUIkPDM",
        "outputId": "0ed42f6c-77b3-43f6-8902-9a7de55c015b"
      },
      "outputs": [
        {
          "output_type": "stream",
          "name": "stdout",
          "text": [
            "7 3\n"
          ]
        }
      ],
      "source": [
        "exp1(a,b)"
      ]
    },
    {
      "cell_type": "code",
      "execution_count": 352,
      "metadata": {
        "colab": {
          "base_uri": "https://localhost:8080/"
        },
        "id": "F-AH7MLjkPDM",
        "outputId": "7c666f7b-6668-4460-80a6-7ce855b64f97"
      },
      "outputs": [
        {
          "output_type": "execute_result",
          "data": {
            "text/plain": [
              "100"
            ]
          },
          "metadata": {},
          "execution_count": 352
        }
      ],
      "source": [
        "c"
      ]
    },
    {
      "cell_type": "code",
      "execution_count": 353,
      "metadata": {
        "id": "nfdQcsy-kPDM"
      },
      "outputs": [],
      "source": [
        "class experiment():\n",
        "    \n",
        "    def __init__(self,a,b):\n",
        "        \n",
        "        self.A=a\n",
        "        self.B=b\n",
        "        \n",
        "    def do_something(self,x):\n",
        "        \n",
        "        return(self.A*x+self.B*x)"
      ]
    },
    {
      "cell_type": "code",
      "execution_count": 354,
      "metadata": {
        "id": "pxtIiNo5kPDM"
      },
      "outputs": [],
      "source": [
        "ob=experiment(4,5)"
      ]
    },
    {
      "cell_type": "code",
      "execution_count": 355,
      "metadata": {
        "colab": {
          "base_uri": "https://localhost:8080/"
        },
        "id": "ySi_R0JjkPDM",
        "outputId": "5b4f9063-6cee-4f9f-fd8e-49f920efea33"
      },
      "outputs": [
        {
          "output_type": "execute_result",
          "data": {
            "text/plain": [
              "54"
            ]
          },
          "metadata": {},
          "execution_count": 355
        }
      ],
      "source": [
        "ob.do_something(6)"
      ]
    },
    {
      "cell_type": "markdown",
      "metadata": {
        "id": "GtPd--ogkPDM"
      },
      "source": [
        "## Class"
      ]
    },
    {
      "cell_type": "code",
      "execution_count": 356,
      "metadata": {
        "id": "qZKEv9-mkPDM"
      },
      "outputs": [],
      "source": [
        "c1_name='lalit'\n",
        "c1_balance=100\n",
        "c1_last_wd=10\n",
        "\n",
        "c2_name='pravin'\n",
        "c2_balance=200\n",
        "c2_last_wd=50\n",
        "\n"
      ]
    },
    {
      "cell_type": "code",
      "execution_count": 357,
      "metadata": {
        "id": "WOF2p9FDkPDM"
      },
      "outputs": [],
      "source": [
        "class customer():\n",
        "    \n",
        "    def __init__(self,name,balance,last_wd):\n",
        "        self.name=name\n",
        "        self.balance=balance\n",
        "        self.last_wd=last_wd\n",
        "    \n",
        "    def withdraw(self,amount):\n",
        "        \n",
        "        if(amount>self.balance):\n",
        "            print('insufficient balance')\n",
        "        else:\n",
        "            self.balance-=amount\n",
        "            self.last_wd=amount\n",
        "    \n",
        "    def deposit(self,amount):\n",
        "        self.balance += amount\n",
        "        return(self.balance)\n"
      ]
    },
    {
      "cell_type": "code",
      "execution_count": 358,
      "metadata": {
        "id": "m1iWPH4JkPDN"
      },
      "outputs": [],
      "source": [
        "c1=customer('lalit',100,10)"
      ]
    },
    {
      "cell_type": "code",
      "execution_count": 359,
      "metadata": {
        "id": "AAHjrzGukPDN"
      },
      "outputs": [],
      "source": [
        "c2=customer('pravin',200,50)"
      ]
    },
    {
      "cell_type": "code",
      "execution_count": 360,
      "metadata": {
        "colab": {
          "base_uri": "https://localhost:8080/"
        },
        "id": "452HQLdskPDN",
        "outputId": "0227e8ac-2f6d-4a8d-d6a7-cb35a122fbab"
      },
      "outputs": [
        {
          "output_type": "stream",
          "name": "stdout",
          "text": [
            "insufficient balance\n"
          ]
        }
      ],
      "source": [
        "c1.withdraw(500)"
      ]
    },
    {
      "cell_type": "code",
      "execution_count": 361,
      "metadata": {
        "colab": {
          "base_uri": "https://localhost:8080/"
        },
        "id": "t7XejNankPDN",
        "outputId": "78facc5b-45f3-4953-e103-96104ff8d46c"
      },
      "outputs": [
        {
          "output_type": "execute_result",
          "data": {
            "text/plain": [
              "100"
            ]
          },
          "metadata": {},
          "execution_count": 361
        }
      ],
      "source": [
        "c1.balance"
      ]
    },
    {
      "cell_type": "code",
      "execution_count": 362,
      "metadata": {
        "id": "ImDfVWazkPDN"
      },
      "outputs": [],
      "source": [
        "c1.withdraw(50)"
      ]
    },
    {
      "cell_type": "code",
      "execution_count": 363,
      "metadata": {
        "colab": {
          "base_uri": "https://localhost:8080/"
        },
        "id": "QvLV9ieWkPDN",
        "outputId": "9a0168ea-9e3f-48c0-ecbd-51f8418fc7b1"
      },
      "outputs": [
        {
          "output_type": "execute_result",
          "data": {
            "text/plain": [
              "50"
            ]
          },
          "metadata": {},
          "execution_count": 363
        }
      ],
      "source": [
        "c1.balance"
      ]
    },
    {
      "cell_type": "code",
      "execution_count": 364,
      "metadata": {
        "colab": {
          "base_uri": "https://localhost:8080/"
        },
        "id": "-msGJLnvkPDN",
        "outputId": "559535c1-dd0f-45b7-f63b-2f56d5f9ffb7"
      },
      "outputs": [
        {
          "output_type": "execute_result",
          "data": {
            "text/plain": [
              "50"
            ]
          },
          "metadata": {},
          "execution_count": 364
        }
      ],
      "source": [
        "c1.last_wd"
      ]
    },
    {
      "cell_type": "code",
      "execution_count": 365,
      "metadata": {
        "id": "6r5n0qnKkPDN"
      },
      "outputs": [],
      "source": [
        "c2.withdraw(10)"
      ]
    },
    {
      "cell_type": "code",
      "execution_count": 366,
      "metadata": {
        "id": "tmflYUkLkPDN"
      },
      "outputs": [],
      "source": [
        "customer.withdraw(c1,20)"
      ]
    },
    {
      "cell_type": "code",
      "execution_count": 367,
      "metadata": {
        "id": "s17Bi1uwkPDN"
      },
      "outputs": [],
      "source": [
        "c1.withdraw(30)"
      ]
    },
    {
      "cell_type": "code",
      "execution_count": 368,
      "metadata": {
        "colab": {
          "base_uri": "https://localhost:8080/"
        },
        "id": "4rLhqscSkPDN",
        "outputId": "cee025a9-514b-45cf-9f56-a73a247ee649"
      },
      "outputs": [
        {
          "output_type": "execute_result",
          "data": {
            "text/plain": [
              "0"
            ]
          },
          "metadata": {},
          "execution_count": 368
        }
      ],
      "source": [
        "c1.balance"
      ]
    },
    {
      "cell_type": "code",
      "execution_count": 369,
      "metadata": {
        "colab": {
          "base_uri": "https://localhost:8080/"
        },
        "id": "P7P04IrekPDN",
        "outputId": "1210507c-29b1-40d1-be44-2ce2abd84315"
      },
      "outputs": [
        {
          "output_type": "execute_result",
          "data": {
            "text/plain": [
              "1000"
            ]
          },
          "metadata": {},
          "execution_count": 369
        }
      ],
      "source": [
        "c1.deposit(1000)"
      ]
    },
    {
      "cell_type": "markdown",
      "metadata": {
        "id": "Y8TcVMa8kPDN"
      },
      "source": [
        "## A bad usage of class "
      ]
    },
    {
      "cell_type": "code",
      "execution_count": 370,
      "metadata": {
        "id": "9AvowZ0GkPDN"
      },
      "outputs": [],
      "source": [
        "class myclass():\n",
        "    def f1(x,y):\n",
        "        return(x*y)\n",
        "    def f2():\n",
        "        print('hello')"
      ]
    },
    {
      "cell_type": "code",
      "execution_count": 371,
      "metadata": {
        "colab": {
          "base_uri": "https://localhost:8080/",
          "height": 166
        },
        "id": "sNOBxd7LkPDN",
        "outputId": "92e18d2f-463c-41d1-e925-de9f6920634b"
      },
      "outputs": [
        {
          "output_type": "error",
          "ename": "NameError",
          "evalue": "ignored",
          "traceback": [
            "\u001b[0;31m---------------------------------------------------------------------------\u001b[0m",
            "\u001b[0;31mNameError\u001b[0m                                 Traceback (most recent call last)",
            "\u001b[0;32m<ipython-input-371-d6febba73f09>\u001b[0m in \u001b[0;36m<module>\u001b[0;34m()\u001b[0m\n\u001b[0;32m----> 1\u001b[0;31m \u001b[0mf1\u001b[0m\u001b[0;34m(\u001b[0m\u001b[0;36m3\u001b[0m\u001b[0;34m,\u001b[0m\u001b[0;36m4\u001b[0m\u001b[0;34m)\u001b[0m\u001b[0;34m\u001b[0m\u001b[0;34m\u001b[0m\u001b[0m\n\u001b[0m",
            "\u001b[0;31mNameError\u001b[0m: name 'f1' is not defined"
          ]
        }
      ],
      "source": [
        "f1(3,4)"
      ]
    },
    {
      "cell_type": "code",
      "execution_count": 372,
      "metadata": {
        "colab": {
          "base_uri": "https://localhost:8080/"
        },
        "id": "hkC037XfkPDO",
        "outputId": "85a18748-d665-421f-c82a-0650a05513ea"
      },
      "outputs": [
        {
          "output_type": "execute_result",
          "data": {
            "text/plain": [
              "12"
            ]
          },
          "metadata": {},
          "execution_count": 372
        }
      ],
      "source": [
        "myclass.f1(3,4)"
      ]
    },
    {
      "cell_type": "code",
      "execution_count": 373,
      "metadata": {
        "colab": {
          "base_uri": "https://localhost:8080/"
        },
        "id": "SULtx6MZkPDO",
        "outputId": "213d3136-7ecc-4188-911f-7663aea1d49f"
      },
      "outputs": [
        {
          "output_type": "stream",
          "name": "stdout",
          "text": [
            "hello\n"
          ]
        }
      ],
      "source": [
        "myclass.f2()"
      ]
    },
    {
      "cell_type": "markdown",
      "metadata": {
        "id": "FQgJjFEGkPDO"
      },
      "source": [
        "## Decorators in python"
      ]
    },
    {
      "cell_type": "code",
      "execution_count": 374,
      "metadata": {
        "id": "hGPGLUhVkPDO"
      },
      "outputs": [],
      "source": [
        "### functions in python can take other functions as argument [remeber everything is an object ]"
      ]
    },
    {
      "cell_type": "code",
      "execution_count": 375,
      "metadata": {
        "id": "ZqXNeWk_kPDO"
      },
      "outputs": [],
      "source": [
        "def f1(x,y):\n",
        "    return(x+y)\n",
        "\n",
        "def f2(x,y):\n",
        "    return(x-y)\n",
        "\n",
        "def f3(func1,func2,x,y):\n",
        "    \n",
        "    s1=func1(x,y)\n",
        "    s2=func2(x,y)\n",
        "    \n",
        "    return(s1/s2)"
      ]
    },
    {
      "cell_type": "code",
      "execution_count": 379,
      "metadata": {
        "colab": {
          "base_uri": "https://localhost:8080/"
        },
        "id": "FdIn3D0gkPDO",
        "outputId": "4766261a-a190-4a4f-ab4d-94066b17e2c3"
      },
      "outputs": [
        {
          "output_type": "execute_result",
          "data": {
            "text/plain": [
              "1.0"
            ]
          },
          "metadata": {},
          "execution_count": 379
        }
      ],
      "source": [
        "f3(f1,f1,3,2)"
      ]
    },
    {
      "cell_type": "code",
      "execution_count": 378,
      "metadata": {
        "colab": {
          "base_uri": "https://localhost:8080/"
        },
        "id": "Z423eO3HkPDO",
        "outputId": "b7a0ae59-af9e-4a40-eab6-9b77480cc7dc"
      },
      "outputs": [
        {
          "output_type": "execute_result",
          "data": {
            "text/plain": [
              "5.0"
            ]
          },
          "metadata": {},
          "execution_count": 378
        }
      ],
      "source": [
        "f3(f1,f2,3,2)"
      ]
    },
    {
      "cell_type": "code",
      "execution_count": 380,
      "metadata": {
        "colab": {
          "base_uri": "https://localhost:8080/"
        },
        "id": "fcOlBWAtkPDO",
        "outputId": "b82f1a3e-006c-48d0-8d80-7a8e4e3e7164"
      },
      "outputs": [
        {
          "output_type": "execute_result",
          "data": {
            "text/plain": [
              "0.2"
            ]
          },
          "metadata": {},
          "execution_count": 380
        }
      ],
      "source": [
        "f3(f2,f1,3,2)"
      ]
    },
    {
      "cell_type": "code",
      "execution_count": 381,
      "metadata": {
        "id": "I3kQ36EVkPDO"
      },
      "outputs": [],
      "source": [
        "def mymax_2(*x):\n",
        "    m=-float('inf')\n",
        "    \n",
        "    for elem in x:\n",
        "        if elem>m:\n",
        "            m=elem\n",
        "    return m"
      ]
    },
    {
      "cell_type": "code",
      "execution_count": 382,
      "metadata": {
        "colab": {
          "base_uri": "https://localhost:8080/"
        },
        "id": "GLA0I2HXkPDO",
        "outputId": "6ed735ae-19b2-4781-9861-8d24d6fb0397"
      },
      "outputs": [
        {
          "output_type": "stream",
          "name": "stdout",
          "text": [
            "9999995\n",
            "0.022698402404785156\n"
          ]
        }
      ],
      "source": [
        "### timing a functions runtime\n",
        "\n",
        "import time\n",
        "import numpy as np\n",
        "\n",
        "start=time.time()\n",
        "\n",
        "print(mymax_2(*np.random.randint(1,10000000,100000)))\n",
        "\n",
        "end=time.time()\n",
        "\n",
        "print(end-start)"
      ]
    },
    {
      "cell_type": "code",
      "execution_count": 383,
      "metadata": {
        "id": "ljKidpCYkPDO"
      },
      "outputs": [],
      "source": [
        "def time_it(func):\n",
        "    \n",
        "    \n",
        "    \n",
        "    def inner(*x):\n",
        "        start=time.time()\n",
        "        \n",
        "        k=func(*x)\n",
        "        end=time.time()\n",
        "        \n",
        "        print('time taken :',end-start)\n",
        "        return k\n",
        "    \n",
        "    return inner\n"
      ]
    },
    {
      "cell_type": "code",
      "execution_count": 384,
      "metadata": {
        "id": "xh27AtXUkPDP"
      },
      "outputs": [],
      "source": [
        "mymax_timed=time_it(mymax_2)"
      ]
    },
    {
      "cell_type": "code",
      "execution_count": 385,
      "metadata": {
        "colab": {
          "base_uri": "https://localhost:8080/"
        },
        "id": "-DPvwfOUkPDP",
        "outputId": "21acb690-cfa3-4fe8-a0dc-50485607e386"
      },
      "outputs": [
        {
          "output_type": "stream",
          "name": "stdout",
          "text": [
            "time taken : 0.00580286979675293\n"
          ]
        },
        {
          "output_type": "execute_result",
          "data": {
            "text/plain": [
              "9999947"
            ]
          },
          "metadata": {},
          "execution_count": 385
        }
      ],
      "source": [
        "mymax_timed(*np.random.randint(1,10000000,100000))"
      ]
    },
    {
      "cell_type": "code",
      "execution_count": 386,
      "metadata": {
        "id": "sonEzBkYkPDP"
      },
      "outputs": [],
      "source": [
        "@time_it\n",
        "\n",
        "def mymax_timed_2(*x):\n",
        "    m=-float('inf')\n",
        "    \n",
        "    for elem in x:\n",
        "        if elem>m:\n",
        "            m=elem\n",
        "    return m\n"
      ]
    },
    {
      "cell_type": "code",
      "execution_count": 387,
      "metadata": {
        "colab": {
          "base_uri": "https://localhost:8080/"
        },
        "id": "ebZ2TyZSkPDP",
        "outputId": "ac055665-ae4e-4998-e4c3-a8b22a4d9bb0"
      },
      "outputs": [
        {
          "output_type": "stream",
          "name": "stdout",
          "text": [
            "time taken : 0.008420944213867188\n"
          ]
        },
        {
          "output_type": "execute_result",
          "data": {
            "text/plain": [
              "9999995"
            ]
          },
          "metadata": {},
          "execution_count": 387
        }
      ],
      "source": [
        "mymax_timed_2(*np.random.randint(1,10000000,100000))"
      ]
    },
    {
      "cell_type": "markdown",
      "metadata": {
        "id": "iIelUajSkPDP"
      },
      "source": [
        "# Inheritance "
      ]
    },
    {
      "cell_type": "code",
      "execution_count": 388,
      "metadata": {
        "id": "kBC_JJ2bkPDP"
      },
      "outputs": [],
      "source": [
        "class customer():\n",
        "    \n",
        "    def __init__(self,name,balance,last_wd):\n",
        "        self.name=name\n",
        "        self.balance=balance\n",
        "        self.last_wd=last_wd\n",
        "    \n",
        "    def withdraw(self,amount):\n",
        "        \n",
        "        if(amount>self.balance):\n",
        "            print('insufficient balance')\n",
        "        else:\n",
        "            self.balance-=amount\n",
        "            self.last_wd=amount\n",
        "    \n",
        "    def deposit(self,amount):\n",
        "        self.balance += amount\n",
        "        return(self.balance)\n",
        "    \n",
        "    "
      ]
    },
    {
      "cell_type": "code",
      "execution_count": 389,
      "metadata": {
        "id": "sAiMtwWGkPDP"
      },
      "outputs": [],
      "source": [
        "c1=customer('lalit',2000,10)"
      ]
    },
    {
      "cell_type": "code",
      "execution_count": 390,
      "metadata": {
        "id": "0jCTkkAhkPDP"
      },
      "outputs": [],
      "source": [
        "c1.withdraw(200)"
      ]
    },
    {
      "cell_type": "code",
      "execution_count": 391,
      "metadata": {
        "colab": {
          "base_uri": "https://localhost:8080/"
        },
        "id": "PN5mfZtOkPDP",
        "outputId": "1782a91a-37d0-457f-ff87-0ad1f4ddabe9"
      },
      "outputs": [
        {
          "output_type": "stream",
          "name": "stdout",
          "text": [
            "insufficient balance\n"
          ]
        }
      ],
      "source": [
        "c1.withdraw(1900)"
      ]
    },
    {
      "cell_type": "code",
      "execution_count": 392,
      "metadata": {
        "id": "yROmoqf7kPDP"
      },
      "outputs": [],
      "source": [
        "class corporate_customer(customer):\n",
        "    \n",
        "    def withdraw(self,amount):\n",
        "        \n",
        "        if(amount>1.2*self.balance):\n",
        "            print('insufficient balance')\n",
        "        \n",
        "        else:\n",
        "            self.balance-=amount\n",
        "            self.last_wd=amount\n",
        "            \n",
        "            "
      ]
    },
    {
      "cell_type": "code",
      "execution_count": 393,
      "metadata": {
        "id": "9fNcbBdkkPDP"
      },
      "outputs": [],
      "source": [
        "c1=customer('lalit',2000,200)"
      ]
    },
    {
      "cell_type": "code",
      "execution_count": 394,
      "metadata": {
        "id": "DW2158zzkPDP"
      },
      "outputs": [],
      "source": [
        "c2=corporate_customer('sachin',2000,200)"
      ]
    },
    {
      "cell_type": "code",
      "execution_count": 395,
      "metadata": {
        "colab": {
          "base_uri": "https://localhost:8080/"
        },
        "id": "zyFVHGFVkPDQ",
        "outputId": "be468f32-9b15-4ac9-ec4e-fd8f1d4c0742"
      },
      "outputs": [
        {
          "output_type": "stream",
          "name": "stdout",
          "text": [
            "insufficient balance\n"
          ]
        }
      ],
      "source": [
        "c1.withdraw(2100)"
      ]
    },
    {
      "cell_type": "code",
      "execution_count": 396,
      "metadata": {
        "id": "aKdsX1gIkPDQ"
      },
      "outputs": [],
      "source": [
        "c2.withdraw(2100)"
      ]
    },
    {
      "cell_type": "code",
      "execution_count": 397,
      "metadata": {
        "colab": {
          "base_uri": "https://localhost:8080/"
        },
        "id": "9H2n55oHkPDQ",
        "outputId": "c7e71722-0713-4226-c235-848a5177a3a2"
      },
      "outputs": [
        {
          "output_type": "execute_result",
          "data": {
            "text/plain": [
              "0"
            ]
          },
          "metadata": {},
          "execution_count": 397
        }
      ],
      "source": [
        "c2.deposit(100)"
      ]
    },
    {
      "cell_type": "code",
      "execution_count": 398,
      "metadata": {
        "colab": {
          "base_uri": "https://localhost:8080/"
        },
        "id": "CH4MPxrCkPDQ",
        "outputId": "ea334f32-479d-43a4-bad3-ca1b3662cc8a"
      },
      "outputs": [
        {
          "output_type": "execute_result",
          "data": {
            "text/plain": [
              "2100"
            ]
          },
          "metadata": {},
          "execution_count": 398
        }
      ],
      "source": [
        "c2.last_wd"
      ]
    },
    {
      "cell_type": "markdown",
      "metadata": {
        "id": "uopdmxNbkPDQ"
      },
      "source": [
        "# Extending a class"
      ]
    },
    {
      "cell_type": "code",
      "execution_count": 399,
      "metadata": {
        "id": "UvAGRwYqkPDQ"
      },
      "outputs": [],
      "source": [
        "class corporate_customer(customer):\n",
        "    \n",
        "    def __init__(self,name,balance,last_wd):\n",
        "        \n",
        "        super().__init__(name,balance,last_wd)\n",
        "        \n",
        "        self.deficit=False\n",
        "        \n",
        "    def withdraw(self,amount):\n",
        "        \n",
        "        if(amount>1.2*self.balance ):\n",
        "            print('insufficient balance')\n",
        "            \n",
        "        elif self.deficit:\n",
        "            print('Account is already in deficit, now withdrawls allowd')\n",
        "        elif amount>self.balance :\n",
        "            self.deficit=True\n",
        "            print('Account is now running in deficit')\n",
        "            self.balance-=amount\n",
        "            self.last_wd=amount\n",
        "        else:\n",
        "            self.balance-=amount\n",
        "            self.last_wd=amount\n",
        "            \n",
        "    def deposit(self,amount):\n",
        "        self.balance += amount\n",
        "        \n",
        "        if self.balance>=0:\n",
        "            self.deficit=False\n",
        "        return(self.balance)\n",
        "        "
      ]
    },
    {
      "cell_type": "code",
      "execution_count": 400,
      "metadata": {
        "id": "LxqAlaE8kPDQ"
      },
      "outputs": [],
      "source": [
        "c2=corporate_customer('sachin',2000,200)"
      ]
    },
    {
      "cell_type": "code",
      "execution_count": 401,
      "metadata": {
        "colab": {
          "base_uri": "https://localhost:8080/"
        },
        "id": "NSFDcQDfkPDQ",
        "outputId": "695dc23b-541b-46fa-dbe3-24e2a35adb55"
      },
      "outputs": [
        {
          "output_type": "stream",
          "name": "stdout",
          "text": [
            "Account is now running in deficit\n"
          ]
        }
      ],
      "source": [
        "c2.withdraw(2100)"
      ]
    },
    {
      "cell_type": "code",
      "execution_count": 402,
      "metadata": {
        "colab": {
          "base_uri": "https://localhost:8080/"
        },
        "id": "ZfQdibalkPDQ",
        "outputId": "4194d605-56d8-44d2-b826-d335f4b2d171"
      },
      "outputs": [
        {
          "output_type": "execute_result",
          "data": {
            "text/plain": [
              "-100"
            ]
          },
          "metadata": {},
          "execution_count": 402
        }
      ],
      "source": [
        "c2.balance"
      ]
    },
    {
      "cell_type": "code",
      "execution_count": 403,
      "metadata": {
        "colab": {
          "base_uri": "https://localhost:8080/"
        },
        "id": "8C6QZQb6kPDR",
        "outputId": "278f03bf-71f2-4241-cd16-e9f858489354"
      },
      "outputs": [
        {
          "output_type": "execute_result",
          "data": {
            "text/plain": [
              "True"
            ]
          },
          "metadata": {},
          "execution_count": 403
        }
      ],
      "source": [
        "c2.deficit"
      ]
    },
    {
      "cell_type": "code",
      "execution_count": 404,
      "metadata": {
        "colab": {
          "base_uri": "https://localhost:8080/"
        },
        "id": "xRW6lfWkkPDR",
        "outputId": "117e7d0f-6b06-44fc-e00d-cc38d69f6c5c"
      },
      "outputs": [
        {
          "output_type": "execute_result",
          "data": {
            "text/plain": [
              "True"
            ]
          },
          "metadata": {},
          "execution_count": 404
        }
      ],
      "source": [
        "isinstance(c2,corporate_customer)"
      ]
    },
    {
      "cell_type": "code",
      "execution_count": 405,
      "metadata": {
        "colab": {
          "base_uri": "https://localhost:8080/"
        },
        "id": "VoVKxJ94kPDR",
        "outputId": "87e370a0-aad9-4966-b1d2-92aa8fb408bb"
      },
      "outputs": [
        {
          "output_type": "execute_result",
          "data": {
            "text/plain": [
              "True"
            ]
          },
          "metadata": {},
          "execution_count": 405
        }
      ],
      "source": [
        "isinstance(c2,customer)"
      ]
    },
    {
      "cell_type": "code",
      "execution_count": 406,
      "metadata": {
        "id": "PWhPDM_wkPDR"
      },
      "outputs": [],
      "source": [
        "class temp(customer):\n",
        "    \n",
        "    def __init__(self,name,balance,last_wd):\n",
        "        \n",
        "        \n",
        "        self.deficit=False\n",
        "        \n",
        "    def withdraw(self,amount):\n",
        "        \n",
        "        if(amount>1.2*self.balance ):\n",
        "            print('insufficient balance')\n",
        "            \n",
        "        elif self.deficit:\n",
        "            print('Account is already in deficit, now withdrawls allowd')\n",
        "        elif amount>self.balance :\n",
        "            self.deficit=True\n",
        "            print('Account is now running in deficit')\n",
        "            self.balance-=amount\n",
        "            self.last_wd=amount\n",
        "        else:\n",
        "            self.balance-=amount\n",
        "            self.last_wd=amount\n",
        "            \n",
        "    def deposit(self,amount):\n",
        "        self.balance += amount\n",
        "        \n",
        "        if self.balance>0:\n",
        "            self.deficit=False\n",
        "        return(self.balance)"
      ]
    },
    {
      "cell_type": "code",
      "execution_count": 407,
      "metadata": {
        "id": "aPSdLD9pkPDR"
      },
      "outputs": [],
      "source": [
        "a=temp('sachin',2000,200)"
      ]
    },
    {
      "cell_type": "code",
      "execution_count": 407,
      "metadata": {
        "id": "AYqufBYSkPDR"
      },
      "outputs": [],
      "source": [
        ""
      ]
    },
    {
      "cell_type": "code",
      "execution_count": 408,
      "metadata": {
        "colab": {
          "base_uri": "https://localhost:8080/"
        },
        "id": "_j3TvOt7kPDR",
        "outputId": "709a979b-1035-448b-f6f4-fa4bc58be028"
      },
      "outputs": [
        {
          "output_type": "execute_result",
          "data": {
            "text/plain": [
              "{'balance': -100, 'deficit': True, 'last_wd': 2100, 'name': 'sachin'}"
            ]
          },
          "metadata": {},
          "execution_count": 408
        }
      ],
      "source": [
        "\n",
        "c2.__dict__"
      ]
    },
    {
      "cell_type": "code",
      "execution_count": 408,
      "metadata": {
        "id": "5E0fDD6JkPDR"
      },
      "outputs": [],
      "source": [
        ""
      ]
    }
  ],
  "metadata": {
    "kernelspec": {
      "display_name": "Python 3",
      "language": "python",
      "name": "python3"
    },
    "language_info": {
      "codemirror_mode": {
        "name": "ipython",
        "version": 3
      },
      "file_extension": ".py",
      "mimetype": "text/x-python",
      "name": "python",
      "nbconvert_exporter": "python",
      "pygments_lexer": "ipython3",
      "version": "3.7.3"
    },
    "colab": {
      "name": "1_python fundamentals class.ipynb",
      "provenance": []
    },
    "accelerator": "GPU"
  },
  "nbformat": 4,
  "nbformat_minor": 0
}