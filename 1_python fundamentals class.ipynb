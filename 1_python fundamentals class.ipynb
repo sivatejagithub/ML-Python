{
  "cells": [
    {
      "cell_type": "markdown",
      "metadata": {
        "id": "-mi0CzTikPCk"
      },
      "source": [
        "# Object Creation and Naming Rules"
      ]
    },
    {
      "cell_type": "code",
      "execution_count": 1,
      "metadata": {
        "id": "xkZzPITikPCo"
      },
      "outputs": [],
      "source": [
        "x=4\n",
        "y=5"
      ]
    },
    {
      "cell_type": "code",
      "execution_count": 2,
      "metadata": {
        "id": "I7CDKGSZkPCp",
        "outputId": "339c2af0-939a-43bf-d161-10d5dde13f9b",
        "colab": {
          "base_uri": "https://localhost:8080/"
        }
      },
      "outputs": [
        {
          "output_type": "execute_result",
          "data": {
            "text/plain": [
              "4"
            ]
          },
          "metadata": {},
          "execution_count": 2
        }
      ],
      "source": [
        "x"
      ]
    },
    {
      "cell_type": "code",
      "execution_count": 3,
      "metadata": {
        "id": "VfCzhc2vkPCq",
        "outputId": "dafd15f7-16ac-49f3-a3d0-35dd7d4e906c",
        "colab": {
          "base_uri": "https://localhost:8080/"
        }
      },
      "outputs": [
        {
          "output_type": "execute_result",
          "data": {
            "text/plain": [
              "5"
            ]
          },
          "metadata": {},
          "execution_count": 3
        }
      ],
      "source": [
        "y"
      ]
    },
    {
      "cell_type": "code",
      "execution_count": 4,
      "metadata": {
        "id": "qzkm-8FUkPCq",
        "outputId": "0248fd66-c523-4af5-e350-9dca13496267",
        "colab": {
          "base_uri": "https://localhost:8080/",
          "height": 166
        }
      },
      "outputs": [
        {
          "output_type": "error",
          "ename": "NameError",
          "evalue": "ignored",
          "traceback": [
            "\u001b[0;31m---------------------------------------------------------------------------\u001b[0m",
            "\u001b[0;31mNameError\u001b[0m                                 Traceback (most recent call last)",
            "\u001b[0;32m<ipython-input-4-b5fec669aca1>\u001b[0m in \u001b[0;36m<module>\u001b[0;34m()\u001b[0m\n\u001b[0;32m----> 1\u001b[0;31m \u001b[0mX\u001b[0m\u001b[0;34m\u001b[0m\u001b[0;34m\u001b[0m\u001b[0m\n\u001b[0m",
            "\u001b[0;31mNameError\u001b[0m: name 'X' is not defined"
          ]
        }
      ],
      "source": [
        "X"
      ]
    },
    {
      "cell_type": "code",
      "execution_count": 5,
      "metadata": {
        "id": "-QEC5qRMkPCq"
      },
      "outputs": [],
      "source": [
        "var1=34"
      ]
    },
    {
      "cell_type": "code",
      "execution_count": 6,
      "metadata": {
        "id": "GC3xXjV1kPCr"
      },
      "outputs": [],
      "source": [
        "thisisavariablewhichijustcreated=21"
      ]
    },
    {
      "cell_type": "code",
      "execution_count": 7,
      "metadata": {
        "id": "4wmpAA_CkPCs"
      },
      "outputs": [],
      "source": [
        "this_is_a_variable_which_i_just_created=34"
      ]
    },
    {
      "cell_type": "code",
      "execution_count": 8,
      "metadata": {
        "id": "EtZUlO8nkPCs",
        "outputId": "39eff8aa-a58e-418d-d026-22f2882800c9",
        "colab": {
          "base_uri": "https://localhost:8080/"
        }
      },
      "outputs": [
        {
          "output_type": "stream",
          "name": "stdout",
          "text": [
            "this_is_a_variable_which_i_just_created\t thisisavariablewhichijustcreated\t var1\t x\t y\t \n"
          ]
        }
      ],
      "source": [
        "who"
      ]
    },
    {
      "cell_type": "code",
      "execution_count": 9,
      "metadata": {
        "id": "BsyQ05thkPCt"
      },
      "outputs": [],
      "source": [
        "del thisisavariablewhichijustcreated"
      ]
    },
    {
      "cell_type": "code",
      "execution_count": 10,
      "metadata": {
        "id": "7i-bSeV9kPCu"
      },
      "outputs": [],
      "source": [
        "del this_is_a_variable_which_i_just_created"
      ]
    },
    {
      "cell_type": "code",
      "execution_count": 11,
      "metadata": {
        "id": "lFXs38-kkPCu",
        "outputId": "336ff5ee-8780-47e5-ab8c-4ab934bd3bc2",
        "colab": {
          "base_uri": "https://localhost:8080/"
        }
      },
      "outputs": [
        {
          "output_type": "stream",
          "name": "stdout",
          "text": [
            "var1\t x\t y\t \n"
          ]
        }
      ],
      "source": [
        "who"
      ]
    },
    {
      "cell_type": "code",
      "execution_count": 12,
      "metadata": {
        "id": "ps8o3kFVkPCu"
      },
      "outputs": [],
      "source": [
        "pass1 ='any value'"
      ]
    },
    {
      "cell_type": "code",
      "execution_count": 13,
      "metadata": {
        "id": "yqqslBknkPCv",
        "outputId": "4cdf847e-e2f3-4454-cf24-043f7402fac8",
        "colab": {
          "base_uri": "https://localhost:8080/"
        }
      },
      "outputs": [
        {
          "output_type": "stream",
          "name": "stdout",
          "text": [
            "['False', 'None', 'True', 'and', 'as', 'assert', 'async', 'await', 'break', 'class', 'continue', 'def', 'del', 'elif', 'else', 'except', 'finally', 'for', 'from', 'global', 'if', 'import', 'in', 'is', 'lambda', 'nonlocal', 'not', 'or', 'pass', 'raise', 'return', 'try', 'while', 'with', 'yield']\n"
          ]
        }
      ],
      "source": [
        "## how to get the list of reserved words \n",
        "import keyword\n",
        "print(keyword.kwlist)"
      ]
    },
    {
      "cell_type": "markdown",
      "metadata": {
        "id": "4SNXkr5xkPCv"
      },
      "source": [
        "# TypeCastinig"
      ]
    },
    {
      "cell_type": "code",
      "execution_count": 14,
      "metadata": {
        "id": "109_K5PakPCw"
      },
      "outputs": [],
      "source": [
        "x=34\n",
        "y='November'"
      ]
    },
    {
      "cell_type": "code",
      "execution_count": 15,
      "metadata": {
        "id": "F3aKOV0ykPCw",
        "outputId": "787cb8bb-af19-4067-c6e5-4990835d97a8",
        "colab": {
          "base_uri": "https://localhost:8080/"
        }
      },
      "outputs": [
        {
          "output_type": "execute_result",
          "data": {
            "text/plain": [
              "int"
            ]
          },
          "metadata": {},
          "execution_count": 15
        }
      ],
      "source": [
        "type(x)"
      ]
    },
    {
      "cell_type": "code",
      "execution_count": 16,
      "metadata": {
        "id": "uMbZaGbZkPCw",
        "outputId": "3c2f1481-a777-4a1a-cc05-95c20acc816f",
        "colab": {
          "base_uri": "https://localhost:8080/"
        }
      },
      "outputs": [
        {
          "output_type": "execute_result",
          "data": {
            "text/plain": [
              "str"
            ]
          },
          "metadata": {},
          "execution_count": 16
        }
      ],
      "source": [
        "type(y)"
      ]
    },
    {
      "cell_type": "code",
      "execution_count": 17,
      "metadata": {
        "id": "OEMEWYexkPCw"
      },
      "outputs": [],
      "source": [
        "x='34'"
      ]
    },
    {
      "cell_type": "code",
      "execution_count": 18,
      "metadata": {
        "id": "SMB1J2FEkPCx",
        "outputId": "8bad2ec8-d9e3-4d7e-9e4d-8174c2c1f989",
        "colab": {
          "base_uri": "https://localhost:8080/"
        }
      },
      "outputs": [
        {
          "output_type": "execute_result",
          "data": {
            "text/plain": [
              "str"
            ]
          },
          "metadata": {},
          "execution_count": 18
        }
      ],
      "source": [
        "type(x)"
      ]
    },
    {
      "cell_type": "code",
      "execution_count": 19,
      "metadata": {
        "id": "J0vuSIPPkPCx",
        "outputId": "3ab6ec3d-76ea-414e-e106-c4b82c131f62",
        "colab": {
          "base_uri": "https://localhost:8080/",
          "height": 166
        }
      },
      "outputs": [
        {
          "output_type": "error",
          "ename": "TypeError",
          "evalue": "ignored",
          "traceback": [
            "\u001b[0;31m---------------------------------------------------------------------------\u001b[0m",
            "\u001b[0;31mTypeError\u001b[0m                                 Traceback (most recent call last)",
            "\u001b[0;32m<ipython-input-19-abe093c6df9c>\u001b[0m in \u001b[0;36m<module>\u001b[0;34m()\u001b[0m\n\u001b[0;32m----> 1\u001b[0;31m \u001b[0mx\u001b[0m\u001b[0;34m+\u001b[0m\u001b[0;36m3\u001b[0m\u001b[0;34m\u001b[0m\u001b[0;34m\u001b[0m\u001b[0m\n\u001b[0m",
            "\u001b[0;31mTypeError\u001b[0m: can only concatenate str (not \"int\") to str"
          ]
        }
      ],
      "source": [
        "x+3"
      ]
    },
    {
      "cell_type": "code",
      "execution_count": 20,
      "metadata": {
        "id": "YPb77V2TkPCx",
        "outputId": "fe9d40dd-7cac-4cfa-b447-26b838709499",
        "colab": {
          "base_uri": "https://localhost:8080/"
        }
      },
      "outputs": [
        {
          "output_type": "execute_result",
          "data": {
            "text/plain": [
              "37"
            ]
          },
          "metadata": {},
          "execution_count": 20
        }
      ],
      "source": [
        "int(x)+3"
      ]
    },
    {
      "cell_type": "code",
      "execution_count": 21,
      "metadata": {
        "id": "Tak3WBVhkPCx",
        "outputId": "c6eaa988-3a4c-4eca-b642-1a7d0cf556f3",
        "colab": {
          "base_uri": "https://localhost:8080/"
        }
      },
      "outputs": [
        {
          "output_type": "execute_result",
          "data": {
            "text/plain": [
              "str"
            ]
          },
          "metadata": {},
          "execution_count": 21
        }
      ],
      "source": [
        "type(x)"
      ]
    },
    {
      "cell_type": "code",
      "execution_count": 22,
      "metadata": {
        "id": "psRCeAFVkPCx"
      },
      "outputs": [],
      "source": [
        "x=int(x)"
      ]
    },
    {
      "cell_type": "code",
      "execution_count": 23,
      "metadata": {
        "id": "a7ke65QckPCx",
        "outputId": "9bcae536-e41e-4232-e28f-499ee0771175",
        "colab": {
          "base_uri": "https://localhost:8080/"
        }
      },
      "outputs": [
        {
          "output_type": "execute_result",
          "data": {
            "text/plain": [
              "int"
            ]
          },
          "metadata": {},
          "execution_count": 23
        }
      ],
      "source": [
        "type(x)"
      ]
    },
    {
      "cell_type": "code",
      "execution_count": null,
      "metadata": {
        "id": "v4o5dxvxkPCy"
      },
      "outputs": [],
      "source": [
        "# int, str,bool"
      ]
    },
    {
      "cell_type": "markdown",
      "metadata": {
        "id": "q-mZI9ffkPCy"
      },
      "source": [
        "# Numeric Data and Operations"
      ]
    },
    {
      "cell_type": "code",
      "execution_count": 25,
      "metadata": {
        "id": "mSj85pHVkPCy"
      },
      "outputs": [],
      "source": [
        "x=2\n",
        "y=19"
      ]
    },
    {
      "cell_type": "code",
      "execution_count": 26,
      "metadata": {
        "id": "0AAMSgWIkPCy",
        "outputId": "3957cf15-5e94-4c40-9408-bf687d8e7adc",
        "colab": {
          "base_uri": "https://localhost:8080/"
        }
      },
      "outputs": [
        {
          "output_type": "stream",
          "name": "stdout",
          "text": [
            "21\n"
          ]
        }
      ],
      "source": [
        "print(x+y)"
      ]
    },
    {
      "cell_type": "code",
      "execution_count": 27,
      "metadata": {
        "id": "zl6NpVP4kPCy",
        "outputId": "cf543f25-15c9-46ce-d69c-be7efd969edc",
        "colab": {
          "base_uri": "https://localhost:8080/"
        }
      },
      "outputs": [
        {
          "output_type": "stream",
          "name": "stdout",
          "text": [
            "38\n"
          ]
        }
      ],
      "source": [
        "x-y\n",
        "\n",
        "print(x*y)"
      ]
    },
    {
      "cell_type": "code",
      "execution_count": 31,
      "metadata": {
        "id": "XYvdRgGXkPCy",
        "outputId": "37347269-1842-423a-da76-847b3a61c16e",
        "colab": {
          "base_uri": "https://localhost:8080/"
        }
      },
      "outputs": [
        {
          "output_type": "execute_result",
          "data": {
            "text/plain": [
              "(0.10526315789473684, 9)"
            ]
          },
          "metadata": {},
          "execution_count": 31
        }
      ],
      "source": [
        "x/y, y//x"
      ]
    },
    {
      "cell_type": "code",
      "execution_count": 29,
      "metadata": {
        "id": "wUj6qmogkPCz",
        "outputId": "65a5aec0-a34b-4066-c419-537847eb371a",
        "colab": {
          "base_uri": "https://localhost:8080/"
        }
      },
      "outputs": [
        {
          "output_type": "execute_result",
          "data": {
            "text/plain": [
              "(17, 524288)"
            ]
          },
          "metadata": {},
          "execution_count": 29
        }
      ],
      "source": [
        "x^y , x**y\n",
        "\n",
        "# ^ bitwise or\n",
        "# do not use ^ for powers \n",
        "# always use **\n"
      ]
    },
    {
      "cell_type": "code",
      "execution_count": null,
      "metadata": {
        "id": "thO_9YPhkPCz"
      },
      "outputs": [],
      "source": [
        "z=(x/y)**(x*y+3)"
      ]
    },
    {
      "cell_type": "code",
      "execution_count": null,
      "metadata": {
        "id": "Tfnijh--kPCz"
      },
      "outputs": [],
      "source": [
        "z"
      ]
    },
    {
      "cell_type": "code",
      "execution_count": null,
      "metadata": {
        "id": "5veZE-D5kPCz"
      },
      "outputs": [],
      "source": [
        "x+2,y/10,x-y,x**y"
      ]
    },
    {
      "cell_type": "code",
      "execution_count": null,
      "metadata": {
        "id": "2ApLkjuXkPCz"
      },
      "outputs": [],
      "source": [
        "a=x+2\n",
        "b=y/10\n",
        "c=x-y\n",
        "d=x**y"
      ]
    },
    {
      "cell_type": "code",
      "execution_count": null,
      "metadata": {
        "id": "wSCZz0RWkPCz"
      },
      "outputs": [],
      "source": [
        "a,b,c,d"
      ]
    },
    {
      "cell_type": "code",
      "execution_count": null,
      "metadata": {
        "id": "jwq90EHrkPCz"
      },
      "outputs": [],
      "source": [
        "a"
      ]
    },
    {
      "cell_type": "code",
      "execution_count": null,
      "metadata": {
        "id": "hgoZaAdhkPCz"
      },
      "outputs": [],
      "source": [
        "a,b,c,d = x+2,y/10,x-y,x**y"
      ]
    },
    {
      "cell_type": "code",
      "execution_count": null,
      "metadata": {
        "id": "c1opBBF8kPCz"
      },
      "outputs": [],
      "source": [
        "a,b,c,d"
      ]
    },
    {
      "cell_type": "code",
      "execution_count": null,
      "metadata": {
        "id": "-wzZ0JsKkPC0"
      },
      "outputs": [],
      "source": [
        "import math as m"
      ]
    },
    {
      "cell_type": "code",
      "execution_count": null,
      "metadata": {
        "id": "Av9OdZ9xkPC0"
      },
      "outputs": [],
      "source": [
        "log(34,10)"
      ]
    },
    {
      "cell_type": "code",
      "execution_count": null,
      "metadata": {
        "id": "dSgjkW07kPC0"
      },
      "outputs": [],
      "source": [
        "m.cos(0)"
      ]
    },
    {
      "cell_type": "code",
      "execution_count": null,
      "metadata": {
        "id": "ZtNZ292QkPC0"
      },
      "outputs": [],
      "source": [
        "from math import * "
      ]
    },
    {
      "cell_type": "code",
      "execution_count": null,
      "metadata": {
        "id": "pLi_snc_kPC0"
      },
      "outputs": [],
      "source": [
        "cos(34)"
      ]
    },
    {
      "cell_type": "markdown",
      "metadata": {
        "id": "ZyPdmAbdkPC0"
      },
      "source": [
        "# Boolean Data and Operations"
      ]
    },
    {
      "cell_type": "code",
      "execution_count": null,
      "metadata": {
        "id": "MifzsmVfkPC0"
      },
      "outputs": [],
      "source": [
        "x=True"
      ]
    },
    {
      "cell_type": "code",
      "execution_count": null,
      "metadata": {
        "id": "sWavoC7ykPC0"
      },
      "outputs": [],
      "source": [
        "y=False"
      ]
    },
    {
      "cell_type": "code",
      "execution_count": null,
      "metadata": {
        "id": "_WILN1YCkPC0"
      },
      "outputs": [],
      "source": [
        "type(x)"
      ]
    },
    {
      "cell_type": "code",
      "execution_count": null,
      "metadata": {
        "id": "PJ3C1InvkPC0"
      },
      "outputs": [],
      "source": [
        "x and y, x & y"
      ]
    },
    {
      "cell_type": "code",
      "execution_count": null,
      "metadata": {
        "id": "WyUxQHVEkPC0"
      },
      "outputs": [],
      "source": [
        "x or y , x | y "
      ]
    },
    {
      "cell_type": "code",
      "execution_count": null,
      "metadata": {
        "id": "60wEaV66kPC1"
      },
      "outputs": [],
      "source": [
        "not x "
      ]
    },
    {
      "cell_type": "code",
      "execution_count": null,
      "metadata": {
        "id": "V0IxXplbkPC1"
      },
      "outputs": [],
      "source": [
        "not y"
      ]
    },
    {
      "cell_type": "code",
      "execution_count": null,
      "metadata": {
        "id": "CFte5XYTkPC1"
      },
      "outputs": [],
      "source": [
        "a=34"
      ]
    },
    {
      "cell_type": "code",
      "execution_count": null,
      "metadata": {
        "id": "hWDl5VyPkPC1"
      },
      "outputs": [],
      "source": [
        "a>34 "
      ]
    },
    {
      "cell_type": "code",
      "execution_count": null,
      "metadata": {
        "id": "9m-VX6wrkPC1"
      },
      "outputs": [],
      "source": [
        "(a>34) and (a=='lalit')"
      ]
    },
    {
      "cell_type": "markdown",
      "metadata": {
        "id": "2UqoWjAtkPC1"
      },
      "source": [
        "* checking equality : \"==\"\n",
        "* in-equality : \"!=\"\n",
        "* greater than : \">\"\n",
        "* less than : \"<\"\n",
        "* greater than or equal to : \">=\"\n",
        "* less than or equal to : \"<=\""
      ]
    },
    {
      "cell_type": "code",
      "execution_count": null,
      "metadata": {
        "id": "faF_BUyOkPC1"
      },
      "outputs": [],
      "source": [
        "x='python'"
      ]
    },
    {
      "cell_type": "code",
      "execution_count": null,
      "metadata": {
        "id": "JzFY14OskPC1"
      },
      "outputs": [],
      "source": [
        "x=='Python'"
      ]
    },
    {
      "cell_type": "code",
      "execution_count": null,
      "metadata": {
        "id": "ugMC7Ox6kPC2"
      },
      "outputs": [],
      "source": [
        "x!='Python'"
      ]
    },
    {
      "cell_type": "code",
      "execution_count": null,
      "metadata": {
        "id": "_EgwP-3ikPC2"
      },
      "outputs": [],
      "source": [
        "x=45\n",
        "y=67"
      ]
    },
    {
      "cell_type": "code",
      "execution_count": null,
      "metadata": {
        "id": "qReHBqb3kPC2"
      },
      "outputs": [],
      "source": [
        "(x ==4 or y > 15 )"
      ]
    },
    {
      "cell_type": "code",
      "execution_count": null,
      "metadata": {
        "id": "7n0Oim84kPC2"
      },
      "outputs": [],
      "source": [
        "(x > 20 and y<10)"
      ]
    },
    {
      "cell_type": "code",
      "execution_count": null,
      "metadata": {
        "id": "HQ7AeHZAkPC2"
      },
      "outputs": [],
      "source": [
        "(x > 20 and y<10) or (x ==4 or y > 15 )"
      ]
    },
    {
      "cell_type": "code",
      "execution_count": null,
      "metadata": {
        "id": "h-7grHjXkPC2"
      },
      "outputs": [],
      "source": [
        "x"
      ]
    },
    {
      "cell_type": "code",
      "execution_count": null,
      "metadata": {
        "id": "H9jaiflSkPC2"
      },
      "outputs": [],
      "source": [
        "x='python'"
      ]
    },
    {
      "cell_type": "code",
      "execution_count": null,
      "metadata": {
        "id": "LykBli5akPC2"
      },
      "outputs": [],
      "source": [
        "y='py'"
      ]
    },
    {
      "cell_type": "code",
      "execution_count": null,
      "metadata": {
        "id": "jpQfZEXlkPC2"
      },
      "outputs": [],
      "source": [
        "y in x"
      ]
    },
    {
      "cell_type": "code",
      "execution_count": null,
      "metadata": {
        "id": "xtmhEK2kkPC2"
      },
      "outputs": [],
      "source": [
        "y not in x"
      ]
    },
    {
      "cell_type": "markdown",
      "metadata": {
        "id": "rpQ5rucckPC3"
      },
      "source": [
        "# String Data and Operations"
      ]
    },
    {
      "cell_type": "code",
      "execution_count": null,
      "metadata": {
        "id": "MH0eqwVLkPC3"
      },
      "outputs": [],
      "source": [
        "x='Python'\n",
        "y='Data'"
      ]
    },
    {
      "cell_type": "code",
      "execution_count": null,
      "metadata": {
        "id": "CRAgqk04kPC3"
      },
      "outputs": [],
      "source": [
        "type(x),type(y)"
      ]
    },
    {
      "cell_type": "code",
      "execution_count": null,
      "metadata": {
        "id": "1gGPSQsgkPC3"
      },
      "outputs": [],
      "source": [
        "len(x),len(y)"
      ]
    },
    {
      "cell_type": "code",
      "execution_count": null,
      "metadata": {
        "id": "nQShDfO_kPC3"
      },
      "outputs": [],
      "source": [
        "x+y"
      ]
    },
    {
      "cell_type": "code",
      "execution_count": null,
      "metadata": {
        "id": "d7j-uU1PkPC3"
      },
      "outputs": [],
      "source": [
        "x*3"
      ]
    },
    {
      "cell_type": "code",
      "execution_count": null,
      "metadata": {
        "id": "6AXpo6XkkPC3"
      },
      "outputs": [],
      "source": [
        "z=x+' and '+y"
      ]
    },
    {
      "cell_type": "code",
      "execution_count": null,
      "metadata": {
        "id": "-2PoBM7FkPC3"
      },
      "outputs": [],
      "source": [
        "z"
      ]
    },
    {
      "cell_type": "code",
      "execution_count": null,
      "metadata": {
        "id": "T6CbkLNhkPC3"
      },
      "outputs": [],
      "source": [
        "type(z)"
      ]
    },
    {
      "cell_type": "code",
      "execution_count": null,
      "metadata": {
        "id": "DAhL322ukPC3"
      },
      "outputs": [],
      "source": [
        "z.lower()"
      ]
    },
    {
      "cell_type": "code",
      "execution_count": null,
      "metadata": {
        "id": "0rpTzfm9kPC5"
      },
      "outputs": [],
      "source": [
        "z"
      ]
    },
    {
      "cell_type": "code",
      "execution_count": null,
      "metadata": {
        "id": "Bqw1FFBDkPC5"
      },
      "outputs": [],
      "source": [
        "z.upper()"
      ]
    },
    {
      "cell_type": "code",
      "execution_count": null,
      "metadata": {
        "id": "WTL0_wXPkPC5"
      },
      "outputs": [],
      "source": [
        "z.capitalize()"
      ]
    },
    {
      "cell_type": "code",
      "execution_count": null,
      "metadata": {
        "id": "2CqJw_3KkPC5"
      },
      "outputs": [],
      "source": [
        "z.rjust(20)"
      ]
    },
    {
      "cell_type": "code",
      "execution_count": null,
      "metadata": {
        "id": "fn4fX2PPkPC5"
      },
      "outputs": [],
      "source": [
        "z.ljust(20)"
      ]
    },
    {
      "cell_type": "code",
      "execution_count": null,
      "metadata": {
        "id": "FrXVE-8lkPC5"
      },
      "outputs": [],
      "source": [
        "z=z.center(29)"
      ]
    },
    {
      "cell_type": "code",
      "execution_count": null,
      "metadata": {
        "id": "0iL-4OflkPC5"
      },
      "outputs": [],
      "source": [
        "z"
      ]
    },
    {
      "cell_type": "code",
      "execution_count": null,
      "metadata": {
        "id": "Zarx-xHwkPC5"
      },
      "outputs": [],
      "source": [
        "'t' in z"
      ]
    },
    {
      "cell_type": "code",
      "execution_count": null,
      "metadata": {
        "id": "oVTt0_00kPC5"
      },
      "outputs": [],
      "source": [
        "z.lstrip()"
      ]
    },
    {
      "cell_type": "code",
      "execution_count": null,
      "metadata": {
        "id": "Rryyz4hakPC5"
      },
      "outputs": [],
      "source": [
        "z.rstrip()"
      ]
    },
    {
      "cell_type": "code",
      "execution_count": null,
      "metadata": {
        "id": "v-i_tyTZkPC6"
      },
      "outputs": [],
      "source": [
        "z.strip()"
      ]
    },
    {
      "cell_type": "code",
      "execution_count": null,
      "metadata": {
        "id": "SabBHzf4kPC6"
      },
      "outputs": [],
      "source": [
        "# removing all spaces : we'll come back to it later "
      ]
    },
    {
      "cell_type": "code",
      "execution_count": null,
      "metadata": {
        "id": "i44PX9HqkPC6"
      },
      "outputs": [],
      "source": [
        "z.replace('a',\"@#!\",1)"
      ]
    },
    {
      "cell_type": "code",
      "execution_count": null,
      "metadata": {
        "id": "PLfcac-akPC6"
      },
      "outputs": [],
      "source": [
        "z"
      ]
    },
    {
      "cell_type": "code",
      "execution_count": null,
      "metadata": {
        "id": "zAHh6v3FkPC6"
      },
      "outputs": [],
      "source": [
        "help(z.replace)"
      ]
    },
    {
      "cell_type": "markdown",
      "metadata": {
        "id": "0xzMDqd6kPC6"
      },
      "source": [
        "# Indexing"
      ]
    },
    {
      "cell_type": "code",
      "execution_count": null,
      "metadata": {
        "id": "Q8Dxa_YqkPC6"
      },
      "outputs": [],
      "source": [
        "x='PythonIndex'"
      ]
    },
    {
      "cell_type": "code",
      "execution_count": null,
      "metadata": {
        "id": "sWakGU4kkPC6"
      },
      "outputs": [],
      "source": [
        "x"
      ]
    },
    {
      "cell_type": "code",
      "execution_count": null,
      "metadata": {
        "id": "hNldaQY-kPC6"
      },
      "outputs": [],
      "source": [
        "x[4]"
      ]
    },
    {
      "cell_type": "code",
      "execution_count": null,
      "metadata": {
        "id": "XoTiw7aZkPC6"
      },
      "outputs": [],
      "source": [
        "x[-5]"
      ]
    },
    {
      "cell_type": "code",
      "execution_count": null,
      "metadata": {
        "id": "0Zzj0oRKkPC6"
      },
      "outputs": [],
      "source": [
        "x[2:7]"
      ]
    },
    {
      "cell_type": "code",
      "execution_count": null,
      "metadata": {
        "id": "JgWpFJ0_kPC6"
      },
      "outputs": [],
      "source": [
        "x[2:-3]"
      ]
    },
    {
      "cell_type": "code",
      "execution_count": null,
      "metadata": {
        "id": "8i0bMjFVkPC7"
      },
      "outputs": [],
      "source": [
        "x[4:1]"
      ]
    },
    {
      "cell_type": "code",
      "execution_count": null,
      "metadata": {
        "id": "FYiwcEE1kPC7"
      },
      "outputs": [],
      "source": [
        "x[-10:-4]"
      ]
    },
    {
      "cell_type": "code",
      "execution_count": null,
      "metadata": {
        "id": "oaoHZxSzkPC7"
      },
      "outputs": [],
      "source": [
        "x[2:10]"
      ]
    },
    {
      "cell_type": "code",
      "execution_count": null,
      "metadata": {
        "id": "vIuUEPeOkPC7"
      },
      "outputs": [],
      "source": [
        "x[2:10:1]"
      ]
    },
    {
      "cell_type": "code",
      "execution_count": null,
      "metadata": {
        "id": "GcYOZsOpkPC7"
      },
      "outputs": [],
      "source": [
        "x[2:10:2]"
      ]
    },
    {
      "cell_type": "code",
      "execution_count": null,
      "metadata": {
        "id": "TUkjCGC3kPC7"
      },
      "outputs": [],
      "source": [
        "x[2:10:-1]"
      ]
    },
    {
      "cell_type": "code",
      "execution_count": null,
      "metadata": {
        "id": "Q6Oat71PkPC7"
      },
      "outputs": [],
      "source": [
        "x[10:2:-1]"
      ]
    },
    {
      "cell_type": "code",
      "execution_count": null,
      "metadata": {
        "id": "W4FBZEtTkPC7"
      },
      "outputs": [],
      "source": [
        "x[2:]"
      ]
    },
    {
      "cell_type": "code",
      "execution_count": null,
      "metadata": {
        "id": "zkaCp2sNkPC7"
      },
      "outputs": [],
      "source": [
        "x[2::-1]"
      ]
    },
    {
      "cell_type": "code",
      "execution_count": null,
      "metadata": {
        "id": "QqK5Xi9xkPC7"
      },
      "outputs": [],
      "source": [
        "x[::-1]"
      ]
    },
    {
      "cell_type": "code",
      "execution_count": null,
      "metadata": {
        "id": "wpGgceRSkPC7"
      },
      "outputs": [],
      "source": [
        "x='lalit-sachan'"
      ]
    },
    {
      "cell_type": "code",
      "execution_count": null,
      "metadata": {
        "id": "nmTQ0OdYkPC8"
      },
      "outputs": [],
      "source": [
        "x.split('l')"
      ]
    },
    {
      "cell_type": "markdown",
      "metadata": {
        "id": "LrgIgeblkPC8"
      },
      "source": [
        "# Lists"
      ]
    },
    {
      "cell_type": "code",
      "execution_count": null,
      "metadata": {
        "id": "2Fq7eegEkPC8"
      },
      "outputs": [],
      "source": [
        "x=[20,92,43,83,\"lalit\",\"a\",\"c\",45]"
      ]
    },
    {
      "cell_type": "code",
      "execution_count": null,
      "metadata": {
        "id": "B_P1VqKKkPC8"
      },
      "outputs": [],
      "source": [
        "x[3:7]"
      ]
    },
    {
      "cell_type": "code",
      "execution_count": null,
      "metadata": {
        "id": "03-uYN76kPC8"
      },
      "outputs": [],
      "source": [
        "x[2:]"
      ]
    },
    {
      "cell_type": "code",
      "execution_count": null,
      "metadata": {
        "id": "tMwEx-okkPC8"
      },
      "outputs": [],
      "source": [
        "x[:4]"
      ]
    },
    {
      "cell_type": "code",
      "execution_count": null,
      "metadata": {
        "id": "qZC4anY9kPC8"
      },
      "outputs": [],
      "source": [
        "x[15]"
      ]
    },
    {
      "cell_type": "code",
      "execution_count": null,
      "metadata": {
        "id": "J-_ESMSzkPC8"
      },
      "outputs": [],
      "source": [
        "x"
      ]
    },
    {
      "cell_type": "code",
      "execution_count": null,
      "metadata": {
        "id": "NFAlMuHpkPC8"
      },
      "outputs": [],
      "source": [
        "x[3]"
      ]
    },
    {
      "cell_type": "code",
      "execution_count": null,
      "metadata": {
        "id": "PCYRBP2OkPC8"
      },
      "outputs": [],
      "source": [
        "x[3]=100"
      ]
    },
    {
      "cell_type": "code",
      "execution_count": null,
      "metadata": {
        "id": "L8e2uFhgkPC8"
      },
      "outputs": [],
      "source": [
        "x"
      ]
    },
    {
      "cell_type": "code",
      "execution_count": null,
      "metadata": {
        "id": "7dDW9ZPVkPC8"
      },
      "outputs": [],
      "source": [
        "x[2]='python'"
      ]
    },
    {
      "cell_type": "code",
      "execution_count": null,
      "metadata": {
        "id": "KF6LvQHckPC9"
      },
      "outputs": [],
      "source": [
        "x"
      ]
    },
    {
      "cell_type": "code",
      "execution_count": null,
      "metadata": {
        "id": "6TQGYEetkPC9"
      },
      "outputs": [],
      "source": [
        "x[1:4]"
      ]
    },
    {
      "cell_type": "code",
      "execution_count": null,
      "metadata": {
        "id": "bwRJX9xUkPC9"
      },
      "outputs": [],
      "source": [
        "x[1:4]=[70]"
      ]
    },
    {
      "cell_type": "code",
      "execution_count": null,
      "metadata": {
        "id": "xa7Co2wZkPC9"
      },
      "outputs": [],
      "source": [
        "x"
      ]
    },
    {
      "cell_type": "code",
      "execution_count": null,
      "metadata": {
        "id": "5AuZ-e80kPC9"
      },
      "outputs": [],
      "source": [
        "x[2:5]"
      ]
    },
    {
      "cell_type": "code",
      "execution_count": null,
      "metadata": {
        "id": "__TLguaxkPC9"
      },
      "outputs": [],
      "source": [
        "x[2:5]='hello'"
      ]
    },
    {
      "cell_type": "code",
      "execution_count": null,
      "metadata": {
        "id": "CgPS64ErkPC9"
      },
      "outputs": [],
      "source": [
        "x"
      ]
    },
    {
      "cell_type": "code",
      "execution_count": null,
      "metadata": {
        "id": "6HNCFUOMkPC9"
      },
      "outputs": [],
      "source": [
        "x=[20, 70, 'lalit', 'a', 'c', 45]"
      ]
    },
    {
      "cell_type": "code",
      "execution_count": null,
      "metadata": {
        "id": "nqGhpQzSkPC9"
      },
      "outputs": [],
      "source": [
        "x"
      ]
    },
    {
      "cell_type": "code",
      "execution_count": null,
      "metadata": {
        "id": "-6dC7xiUkPC-"
      },
      "outputs": [],
      "source": [
        "x[2:5]=['hello']"
      ]
    },
    {
      "cell_type": "code",
      "execution_count": null,
      "metadata": {
        "id": "EFNx3pvtkPC-"
      },
      "outputs": [],
      "source": [
        "x"
      ]
    },
    {
      "cell_type": "code",
      "execution_count": null,
      "metadata": {
        "id": "lVYk6Dx0kPC-"
      },
      "outputs": [],
      "source": [
        "x=[20,92,43,83,\"lalit\",\"a\",\"c\",45]"
      ]
    },
    {
      "cell_type": "code",
      "execution_count": null,
      "metadata": {
        "id": "QLVI0IDZkPC-"
      },
      "outputs": [],
      "source": [
        "# can we extract elements with indices not in sequence "
      ]
    },
    {
      "cell_type": "code",
      "execution_count": null,
      "metadata": {
        "id": "qBYi_m7_kPC-"
      },
      "outputs": [],
      "source": [
        "x.append(100)"
      ]
    },
    {
      "cell_type": "code",
      "execution_count": null,
      "metadata": {
        "id": "-D_-bTFnkPC-"
      },
      "outputs": [],
      "source": [
        "x"
      ]
    },
    {
      "cell_type": "code",
      "execution_count": null,
      "metadata": {
        "id": "yVUAMa5SkPC-"
      },
      "outputs": [],
      "source": [
        "print(x , '&' , len(x))\n",
        "x.append([23,-18,'two'])\n",
        "print(x, '&' , len(x))"
      ]
    },
    {
      "cell_type": "code",
      "execution_count": null,
      "metadata": {
        "id": "aU9YpejvkPC-"
      },
      "outputs": [],
      "source": [
        "x=x+[10,20,30]"
      ]
    },
    {
      "cell_type": "code",
      "execution_count": null,
      "metadata": {
        "id": "IBAQjEpdkPC-"
      },
      "outputs": [],
      "source": [
        "x"
      ]
    },
    {
      "cell_type": "code",
      "execution_count": null,
      "metadata": {
        "id": "rUQi-EeSkPC-"
      },
      "outputs": [],
      "source": [
        "x.extend(['one','three','five'])"
      ]
    },
    {
      "cell_type": "code",
      "execution_count": null,
      "metadata": {
        "id": "9_5yAAlQkPC_"
      },
      "outputs": [],
      "source": [
        "x"
      ]
    },
    {
      "cell_type": "code",
      "execution_count": null,
      "metadata": {
        "id": "s2LSRH2wkPC_"
      },
      "outputs": [],
      "source": [
        "print(x)\n",
        "x.insert(3,'this')\n",
        "print(x)"
      ]
    },
    {
      "cell_type": "code",
      "execution_count": null,
      "metadata": {
        "id": "3asaxf3LkPC_"
      },
      "outputs": [],
      "source": [
        "print(x)\n",
        "x.pop()\n",
        "print(x)"
      ]
    },
    {
      "cell_type": "code",
      "execution_count": null,
      "metadata": {
        "id": "jWSIVs_akPC_"
      },
      "outputs": [],
      "source": [
        "x.pop()"
      ]
    },
    {
      "cell_type": "code",
      "execution_count": null,
      "metadata": {
        "id": "L80adc0UkPC_"
      },
      "outputs": [],
      "source": [
        "print(x)\n",
        "print(x[4])\n",
        "x.pop(4)\n",
        "print(x)"
      ]
    },
    {
      "cell_type": "code",
      "execution_count": null,
      "metadata": {
        "id": "0h3vDIQEkPC_"
      },
      "outputs": [],
      "source": [
        "print(x)\n",
        "x.remove(10)\n",
        "print(x)"
      ]
    },
    {
      "cell_type": "code",
      "execution_count": null,
      "metadata": {
        "id": "zo4RAb0kkPC_"
      },
      "outputs": [],
      "source": [
        "x=[2,3,40,2,14,2,3,11,71,26]"
      ]
    },
    {
      "cell_type": "code",
      "execution_count": null,
      "metadata": {
        "id": "RK2NYSa_kPC_"
      },
      "outputs": [],
      "source": [
        "x.remove(3)\n",
        "print(x)"
      ]
    },
    {
      "cell_type": "code",
      "execution_count": null,
      "metadata": {
        "id": "3oHlALDykPC_"
      },
      "outputs": [],
      "source": [
        "x=[2,3,40,2,14,2,3,11,71,26]"
      ]
    },
    {
      "cell_type": "code",
      "execution_count": null,
      "metadata": {
        "id": "YSqvisd2kPC_"
      },
      "outputs": [],
      "source": [
        "x"
      ]
    },
    {
      "cell_type": "code",
      "execution_count": null,
      "metadata": {
        "id": "MCt0t4YYkPDA"
      },
      "outputs": [],
      "source": [
        "x.sort()"
      ]
    },
    {
      "cell_type": "code",
      "execution_count": null,
      "metadata": {
        "id": "l5wH2uFlkPDA"
      },
      "outputs": [],
      "source": [
        "x"
      ]
    },
    {
      "cell_type": "code",
      "execution_count": null,
      "metadata": {
        "id": "7HfC13rykPDA"
      },
      "outputs": [],
      "source": [
        "x.sort(reverse=True)"
      ]
    },
    {
      "cell_type": "code",
      "execution_count": null,
      "metadata": {
        "id": "OClPiB3qkPDA"
      },
      "outputs": [],
      "source": [
        "x"
      ]
    },
    {
      "cell_type": "code",
      "execution_count": null,
      "metadata": {
        "id": "ACOJRCPAkPDA"
      },
      "outputs": [],
      "source": [
        "x=[2,3,40,2,14,2,3,11,71,26]"
      ]
    },
    {
      "cell_type": "code",
      "execution_count": null,
      "metadata": {
        "id": "j_4DbXzjkPDA"
      },
      "outputs": [],
      "source": [
        "x[::-1]"
      ]
    },
    {
      "cell_type": "code",
      "execution_count": null,
      "metadata": {
        "id": "8QSIkyVKkPDA"
      },
      "outputs": [],
      "source": [
        "x"
      ]
    },
    {
      "cell_type": "code",
      "execution_count": null,
      "metadata": {
        "id": "HrxvwkSekPDA"
      },
      "outputs": [],
      "source": [
        "x.reverse()"
      ]
    },
    {
      "cell_type": "code",
      "execution_count": null,
      "metadata": {
        "id": "-cnLm8-_kPDB"
      },
      "outputs": [],
      "source": [
        "x"
      ]
    },
    {
      "cell_type": "markdown",
      "metadata": {
        "id": "eWYXCdeekPDB"
      },
      "source": [
        "# NoneType Error"
      ]
    },
    {
      "cell_type": "code",
      "execution_count": null,
      "metadata": {
        "id": "m8MRq1tLkPDB"
      },
      "outputs": [],
      "source": [
        "a=x.reverse()"
      ]
    },
    {
      "cell_type": "code",
      "execution_count": null,
      "metadata": {
        "id": "_vO-Fj8IkPDB"
      },
      "outputs": [],
      "source": [
        "a"
      ]
    },
    {
      "cell_type": "code",
      "execution_count": null,
      "metadata": {
        "id": "kAEFswGmkPDB"
      },
      "outputs": [],
      "source": [
        "print(a)"
      ]
    },
    {
      "cell_type": "code",
      "execution_count": null,
      "metadata": {
        "id": "zOVAHngHkPDB"
      },
      "outputs": [],
      "source": [
        "x=x.reverse()"
      ]
    },
    {
      "cell_type": "code",
      "execution_count": null,
      "metadata": {
        "id": "MUIvhTwSkPDB"
      },
      "outputs": [],
      "source": [
        "x.sort()"
      ]
    },
    {
      "cell_type": "markdown",
      "metadata": {
        "collapsed": true,
        "id": "Et0AgRSCkPDB"
      },
      "source": [
        "## flow control in python"
      ]
    },
    {
      "cell_type": "code",
      "execution_count": null,
      "metadata": {
        "id": "I4e9v2e7kPDB"
      },
      "outputs": [],
      "source": [
        "x=12"
      ]
    },
    {
      "cell_type": "code",
      "execution_count": null,
      "metadata": {
        "id": "jab5NcfmkPDB"
      },
      "outputs": [],
      "source": [
        "if x>10:\n",
        "    print('my value is larger than 10')\n",
        "else:\n",
        "    difference=10-x\n",
        "    print('x is smaller than 10 by '+str(difference))"
      ]
    },
    {
      "cell_type": "code",
      "execution_count": null,
      "metadata": {
        "id": "quB-y5qDkPDB"
      },
      "outputs": [],
      "source": [
        "x=[5,40,12,-10,0,32,4,3,6,72]"
      ]
    },
    {
      "cell_type": "code",
      "execution_count": null,
      "metadata": {
        "id": "iVkB_zv5kPDC"
      },
      "outputs": [],
      "source": [
        "for value in x:\n",
        "    if value>10:\n",
        "        print('my value is larger than 10')\n",
        "    else:\n",
        "        difference=10-value\n",
        "        print('x is smaller than 10 by '+str(difference))\n",
        "        print('hello again')\n",
        "    print('hello')\n",
        "    \n",
        "print('hello there')\n",
        "    "
      ]
    },
    {
      "cell_type": "code",
      "execution_count": null,
      "metadata": {
        "id": "w16_3lC1kPDC"
      },
      "outputs": [],
      "source": [
        "cities=['Mumbai','London','Bangalore','Pune','Hyderabad']"
      ]
    },
    {
      "cell_type": "code",
      "execution_count": null,
      "metadata": {
        "id": "jwOmnWQ3kPDC"
      },
      "outputs": [],
      "source": [
        "for city in cities:\n",
        "    num_chars=len(city)\n",
        "    print('number of character in the name of city '+city+ ':'+ str(num_chars))"
      ]
    },
    {
      "cell_type": "code",
      "execution_count": null,
      "metadata": {
        "id": "NeFAYPdmkPDC"
      },
      "outputs": [],
      "source": [
        "x=10"
      ]
    },
    {
      "cell_type": "code",
      "execution_count": null,
      "metadata": {
        "id": "QeuxnGB_kPDC"
      },
      "outputs": [],
      "source": [
        "if x>6:\n",
        "    print('greater than 6')\n",
        "    if x>7:\n",
        "        print('greater than 7')\n",
        "        if x>8:\n",
        "            print('greater than 8')"
      ]
    },
    {
      "cell_type": "code",
      "execution_count": null,
      "metadata": {
        "id": "nPodggG7kPDC"
      },
      "outputs": [],
      "source": [
        "# break , continue , pass"
      ]
    },
    {
      "cell_type": "code",
      "execution_count": null,
      "metadata": {
        "id": "KtiBrt5UkPDC"
      },
      "outputs": [],
      "source": [
        "x=[[1,2],['a','b'],[34,67]]"
      ]
    },
    {
      "cell_type": "code",
      "execution_count": null,
      "metadata": {
        "id": "e2pQ93EQkPDC"
      },
      "outputs": [],
      "source": [
        "for i,j in x:\n",
        "    print(i,j)"
      ]
    },
    {
      "cell_type": "code",
      "execution_count": null,
      "metadata": {
        "id": "uxU8-Yc0kPDC"
      },
      "outputs": [],
      "source": [
        "ctr=0\n",
        "for city in cities:\n",
        "    print(ctr,':',len(city))\n",
        "    ctr+=1"
      ]
    },
    {
      "cell_type": "code",
      "execution_count": null,
      "metadata": {
        "id": "uxebsZsVkPDC"
      },
      "outputs": [],
      "source": [
        "list(enumerate(cities))"
      ]
    },
    {
      "cell_type": "code",
      "execution_count": null,
      "metadata": {
        "id": "bWKfJehSkPDC"
      },
      "outputs": [],
      "source": [
        "for i,city in enumerate(cities):\n",
        "    print(i,':',len(city))"
      ]
    },
    {
      "cell_type": "code",
      "execution_count": null,
      "metadata": {
        "id": "Kl22HPIYkPDC"
      },
      "outputs": [],
      "source": [
        "x=[[2,3,4,5,6,7,8],[2,3,4,5,6,7,8]]"
      ]
    },
    {
      "cell_type": "code",
      "execution_count": null,
      "metadata": {
        "id": "s3tuq2R3kPDC"
      },
      "outputs": [],
      "source": [
        "for a,b,c,d,e,f,g in x:\n",
        "    print(a,b,c,d,e,f,g)"
      ]
    },
    {
      "cell_type": "code",
      "execution_count": null,
      "metadata": {
        "id": "qusLKD5dkPDD"
      },
      "outputs": [],
      "source": [
        "x=10\n",
        "\n",
        "while x>3:\n",
        "    print(x, 'x is greater than 3')\n",
        "    x-=1"
      ]
    },
    {
      "cell_type": "code",
      "execution_count": null,
      "metadata": {
        "id": "k0TZ8M37kPDD"
      },
      "outputs": [],
      "source": [
        "mylist=range(10,3,-1)"
      ]
    },
    {
      "cell_type": "code",
      "execution_count": null,
      "metadata": {
        "id": "-N8JmIgekPDD"
      },
      "outputs": [],
      "source": [
        "for value in mylist:\n",
        "    print(value)"
      ]
    },
    {
      "cell_type": "code",
      "execution_count": null,
      "metadata": {
        "id": "VDGhLb3ckPDD"
      },
      "outputs": [],
      "source": [
        "mysum=0\n",
        "throws=0\n",
        "import numpy as np \n",
        "\n",
        "while mysum<=20 and throws<6:\n",
        "    throw = np.random.randint(high=7,low=1)\n",
        "    mysum += throw\n",
        "    throws +=1\n",
        "    print(throw)\n",
        "\n",
        "if mysum<20: \n",
        "    print('Loss')\n",
        "else :\n",
        "    print('Win')"
      ]
    },
    {
      "cell_type": "code",
      "execution_count": null,
      "metadata": {
        "id": "xo5wuYunkPDD"
      },
      "outputs": [],
      "source": [
        "x=[2,3,4,5,6,8,9,10,1,33,44,12]"
      ]
    },
    {
      "cell_type": "code",
      "execution_count": null,
      "metadata": {
        "id": "Nwob-8WMkPDD"
      },
      "outputs": [],
      "source": [
        "import math"
      ]
    },
    {
      "cell_type": "code",
      "execution_count": null,
      "metadata": {
        "id": "DFJL_pLGkPDD"
      },
      "outputs": [],
      "source": [
        "logs=[]\n",
        "\n",
        "for num in x:\n",
        "    logs.append(math.log(num))\n",
        "  \n",
        "print(x)\n",
        "print(logs)"
      ]
    },
    {
      "cell_type": "code",
      "execution_count": null,
      "metadata": {
        "id": "cFE98RhskPDD"
      },
      "outputs": [],
      "source": [
        "logs=[math.log(num) for num in x]"
      ]
    },
    {
      "cell_type": "code",
      "execution_count": null,
      "metadata": {
        "id": "m3YNFxotkPDD"
      },
      "outputs": [],
      "source": [
        "logs"
      ]
    },
    {
      "cell_type": "code",
      "execution_count": null,
      "metadata": {
        "id": "0YJqeCaRkPDD"
      },
      "outputs": [],
      "source": [
        "x=[0,3,4,-5,6,8,9,-10,1,33,-44,12]"
      ]
    },
    {
      "cell_type": "code",
      "execution_count": null,
      "metadata": {
        "id": "OahqnhypkPDD"
      },
      "outputs": [],
      "source": [
        "logs=[math.log(num) for num in x]"
      ]
    },
    {
      "cell_type": "code",
      "execution_count": null,
      "metadata": {
        "id": "FIQne1mNkPDE"
      },
      "outputs": [],
      "source": [
        "logs=[]\n",
        "\n",
        "for num in x:\n",
        "    if num>0:\n",
        "        logs.append(math.log(num))\n",
        "    else:\n",
        "        pass"
      ]
    },
    {
      "cell_type": "code",
      "execution_count": null,
      "metadata": {
        "id": "dDkX9VGUkPDE"
      },
      "outputs": [],
      "source": [
        "logs"
      ]
    },
    {
      "cell_type": "code",
      "execution_count": null,
      "metadata": {
        "id": "BcS44tBqkPDE"
      },
      "outputs": [],
      "source": [
        "logs=[math.log(num) for num in x if num>0]"
      ]
    },
    {
      "cell_type": "code",
      "execution_count": null,
      "metadata": {
        "id": "WGVvler8kPDE"
      },
      "outputs": [],
      "source": [
        "logs"
      ]
    },
    {
      "cell_type": "code",
      "execution_count": null,
      "metadata": {
        "id": "31zX1J09kPDE"
      },
      "outputs": [],
      "source": [
        "logs=[math.log(num) if num>0 else 'out of domain' for num in x]"
      ]
    },
    {
      "cell_type": "code",
      "execution_count": null,
      "metadata": {
        "id": "OLm9o7kLkPDE"
      },
      "outputs": [],
      "source": [
        "logs"
      ]
    },
    {
      "cell_type": "markdown",
      "metadata": {
        "id": "Vy3MywbjkPDE"
      },
      "source": [
        "# Dictionaries"
      ]
    },
    {
      "cell_type": "code",
      "execution_count": null,
      "metadata": {
        "id": "C5st8mEjkPDE"
      },
      "outputs": [],
      "source": [
        "my_dict={'name':'lalit','city':'hyderabad','locality':'gachibowli','num_vehicles':2,3:78,4:[3,4,5,6]}"
      ]
    },
    {
      "cell_type": "code",
      "execution_count": null,
      "metadata": {
        "id": "mAtPqdzAkPDE"
      },
      "outputs": [],
      "source": [
        "type(my_dict)"
      ]
    },
    {
      "cell_type": "code",
      "execution_count": null,
      "metadata": {
        "id": "r4c5emL0kPDF"
      },
      "outputs": [],
      "source": [
        "my_dict.keys()"
      ]
    },
    {
      "cell_type": "code",
      "execution_count": null,
      "metadata": {
        "id": "kLoXb3mskPDF"
      },
      "outputs": [],
      "source": [
        "my_dict.values()"
      ]
    },
    {
      "cell_type": "code",
      "execution_count": null,
      "metadata": {
        "id": "fHEd12mqkPDF"
      },
      "outputs": [],
      "source": [
        "my_dict['locality']"
      ]
    },
    {
      "cell_type": "code",
      "execution_count": null,
      "metadata": {
        "id": "930v7nLhkPDF"
      },
      "outputs": [],
      "source": [
        "my_dict[4]"
      ]
    },
    {
      "cell_type": "code",
      "execution_count": null,
      "metadata": {
        "id": "eoD61wLCkPDF"
      },
      "outputs": [],
      "source": [
        "my_dict['last_name']"
      ]
    },
    {
      "cell_type": "code",
      "execution_count": null,
      "metadata": {
        "id": "3vcM1LhGkPDF"
      },
      "outputs": [],
      "source": [
        "my_dict['last_name']='sachan'"
      ]
    },
    {
      "cell_type": "code",
      "execution_count": null,
      "metadata": {
        "id": "y5ELXlAjkPDF"
      },
      "outputs": [],
      "source": [
        "my_dict"
      ]
    },
    {
      "cell_type": "code",
      "execution_count": null,
      "metadata": {
        "id": "IqndFkFikPDF"
      },
      "outputs": [],
      "source": [
        "del my_dict['num_vehicles']"
      ]
    },
    {
      "cell_type": "code",
      "execution_count": null,
      "metadata": {
        "id": "chd3hJNQkPDF"
      },
      "outputs": [],
      "source": [
        "my_dict"
      ]
    },
    {
      "cell_type": "code",
      "execution_count": null,
      "metadata": {
        "id": "wUhsh1gNkPDF"
      },
      "outputs": [],
      "source": [
        "for itr in my_dict:\n",
        "    print(itr)"
      ]
    },
    {
      "cell_type": "code",
      "execution_count": null,
      "metadata": {
        "id": "l1idvuYMkPDF"
      },
      "outputs": [],
      "source": [
        "for itr in my_dict:\n",
        "    print(itr,my_dict[itr])"
      ]
    },
    {
      "cell_type": "code",
      "execution_count": null,
      "metadata": {
        "id": "NAOx8-aJkPDF"
      },
      "outputs": [],
      "source": [
        "my_dict.items()"
      ]
    },
    {
      "cell_type": "code",
      "execution_count": null,
      "metadata": {
        "id": "8XusgDEAkPDG"
      },
      "outputs": [],
      "source": [
        "for key,value in my_dict.items():\n",
        "    print('key :', key , ' and value :',value)"
      ]
    },
    {
      "cell_type": "markdown",
      "metadata": {
        "id": "ajRDwmtGkPDG"
      },
      "source": [
        "# Sets"
      ]
    },
    {
      "cell_type": "code",
      "execution_count": null,
      "metadata": {
        "id": "JD2MimE4kPDG"
      },
      "outputs": [],
      "source": [
        "names={'lalit','spanadan','deepta','manoj'}"
      ]
    },
    {
      "cell_type": "code",
      "execution_count": null,
      "metadata": {
        "id": "H3Ad0SHIkPDG"
      },
      "outputs": [],
      "source": [
        "type(names)"
      ]
    },
    {
      "cell_type": "code",
      "execution_count": null,
      "metadata": {
        "id": "IOMpq6bNkPDG"
      },
      "outputs": [],
      "source": [
        "'lalit' in names"
      ]
    },
    {
      "cell_type": "code",
      "execution_count": null,
      "metadata": {
        "id": "nlzycllvkPDG"
      },
      "outputs": [],
      "source": [
        "'harsh' not in names"
      ]
    },
    {
      "cell_type": "code",
      "execution_count": null,
      "metadata": {
        "id": "__iN1w3hkPDG"
      },
      "outputs": [],
      "source": [
        "names.add('harsh')"
      ]
    },
    {
      "cell_type": "code",
      "execution_count": null,
      "metadata": {
        "id": "5KCNXYdDkPDG"
      },
      "outputs": [],
      "source": [
        "names"
      ]
    },
    {
      "cell_type": "code",
      "execution_count": null,
      "metadata": {
        "id": "xQiHVC5SkPDG"
      },
      "outputs": [],
      "source": [
        "names.add('harsh')"
      ]
    },
    {
      "cell_type": "code",
      "execution_count": null,
      "metadata": {
        "id": "_upw4sNHkPDG"
      },
      "outputs": [],
      "source": [
        "names"
      ]
    },
    {
      "cell_type": "code",
      "execution_count": null,
      "metadata": {
        "id": "l17ET27KkPDG"
      },
      "outputs": [],
      "source": [
        "names.remove('lalit')"
      ]
    },
    {
      "cell_type": "code",
      "execution_count": null,
      "metadata": {
        "id": "6GvGf0TJkPDG"
      },
      "outputs": [],
      "source": [
        "names"
      ]
    },
    {
      "cell_type": "code",
      "execution_count": null,
      "metadata": {
        "id": "eYKkj78jkPDG"
      },
      "outputs": [],
      "source": [
        "for name in names:\n",
        "    print(name)"
      ]
    },
    {
      "cell_type": "code",
      "execution_count": null,
      "metadata": {
        "id": "GvhK3PZrkPDG"
      },
      "outputs": [],
      "source": [
        "a={1,2,3,4,5,6}\n",
        "b={4,5,6,7,8,9}"
      ]
    },
    {
      "cell_type": "code",
      "execution_count": null,
      "metadata": {
        "id": "6QdeHIyZkPDI"
      },
      "outputs": [],
      "source": [
        "c=a.union(b)"
      ]
    },
    {
      "cell_type": "code",
      "execution_count": null,
      "metadata": {
        "id": "ZlyvFLXKkPDJ"
      },
      "outputs": [],
      "source": [
        "c"
      ]
    },
    {
      "cell_type": "code",
      "execution_count": null,
      "metadata": {
        "id": "fKZ9fhnbkPDJ"
      },
      "outputs": [],
      "source": [
        "a.intersection(b)"
      ]
    },
    {
      "cell_type": "code",
      "execution_count": null,
      "metadata": {
        "id": "V2Swln8ckPDJ"
      },
      "outputs": [],
      "source": [
        "a.difference(b)"
      ]
    },
    {
      "cell_type": "code",
      "execution_count": null,
      "metadata": {
        "id": "gGvJiRx4kPDJ"
      },
      "outputs": [],
      "source": [
        "b.difference(a)"
      ]
    },
    {
      "cell_type": "code",
      "execution_count": null,
      "metadata": {
        "id": "iRZs9WlykPDJ"
      },
      "outputs": [],
      "source": [
        "a.symmetric_difference(b)"
      ]
    },
    {
      "cell_type": "markdown",
      "metadata": {
        "id": "BTKDPPRpkPDJ"
      },
      "source": [
        "# Tuples"
      ]
    },
    {
      "cell_type": "code",
      "execution_count": null,
      "metadata": {
        "id": "ZC75akYLkPDJ"
      },
      "outputs": [],
      "source": [
        "t=(34,56,12)"
      ]
    },
    {
      "cell_type": "code",
      "execution_count": null,
      "metadata": {
        "id": "IdUcSNHRkPDJ"
      },
      "outputs": [],
      "source": [
        "type(t)"
      ]
    },
    {
      "cell_type": "code",
      "execution_count": null,
      "metadata": {
        "id": "jS2bx8mgkPDJ"
      },
      "outputs": [],
      "source": [
        "t=34,56,89"
      ]
    },
    {
      "cell_type": "code",
      "execution_count": null,
      "metadata": {
        "id": "6De4B3z-kPDJ"
      },
      "outputs": [],
      "source": [
        "type(t)"
      ]
    },
    {
      "cell_type": "code",
      "execution_count": null,
      "metadata": {
        "id": "YUZMu0EZkPDJ"
      },
      "outputs": [],
      "source": [
        "t[2]=99"
      ]
    },
    {
      "cell_type": "markdown",
      "metadata": {
        "id": "7Tysj4UakPDJ"
      },
      "source": [
        "# Functions"
      ]
    },
    {
      "cell_type": "code",
      "execution_count": null,
      "metadata": {
        "id": "SKwF_WxkkPDJ"
      },
      "outputs": [],
      "source": [
        "x=12\n",
        "fib_series=[1,1]\n",
        "ctr=2\n",
        "\n",
        "while ctr<x:\n",
        "    fib_series.append(fib_series[-1]+fib_series[-2])\n",
        "    ctr+=1\n"
      ]
    },
    {
      "cell_type": "code",
      "execution_count": null,
      "metadata": {
        "id": "n6X7RQ-ekPDJ"
      },
      "outputs": [],
      "source": [
        "fib_series"
      ]
    },
    {
      "cell_type": "code",
      "execution_count": null,
      "metadata": {
        "id": "OR-oFLNCkPDJ"
      },
      "outputs": [],
      "source": [
        "def fib_series_creator(num_elements):\n",
        "    fib_series=[1,1]\n",
        "    ctr=2\n",
        "\n",
        "    while ctr<num_elements:\n",
        "        fib_series.append(fib_series[-1]+fib_series[-2])\n",
        "        ctr+=1\n",
        "        \n",
        "    return(fib_series)\n",
        "    \n",
        "    \n",
        "    "
      ]
    },
    {
      "cell_type": "code",
      "execution_count": null,
      "metadata": {
        "id": "zbna0YvSkPDK"
      },
      "outputs": [],
      "source": [
        "fib_series_creator(3)"
      ]
    },
    {
      "cell_type": "code",
      "execution_count": null,
      "metadata": {
        "id": "K9xo7j2UkPDK"
      },
      "outputs": [],
      "source": [
        "def mysum(x,y,z):\n",
        "    return(2*x+3*y+4*z)"
      ]
    },
    {
      "cell_type": "code",
      "execution_count": null,
      "metadata": {
        "id": "cPcLYvKKkPDK"
      },
      "outputs": [],
      "source": [
        "mysum(1,2,3)"
      ]
    },
    {
      "cell_type": "code",
      "execution_count": null,
      "metadata": {
        "id": "5TJoOX7ekPDK"
      },
      "outputs": [],
      "source": [
        "mysum(2,4)"
      ]
    },
    {
      "cell_type": "code",
      "execution_count": null,
      "metadata": {
        "id": "G1Zr_FK3kPDK"
      },
      "outputs": [],
      "source": [
        "def mysum(x=1,y=10,z=100):\n",
        "    return(2*x+3*y+4*z)"
      ]
    },
    {
      "cell_type": "code",
      "execution_count": null,
      "metadata": {
        "id": "xK8HcmoDkPDK"
      },
      "outputs": [],
      "source": [
        "mysum(1,2,3)"
      ]
    },
    {
      "cell_type": "code",
      "execution_count": null,
      "metadata": {
        "id": "RylAu4-_kPDK"
      },
      "outputs": [],
      "source": [
        "mysum(2,4)"
      ]
    },
    {
      "cell_type": "code",
      "execution_count": null,
      "metadata": {
        "id": "zDPlF-gCkPDK"
      },
      "outputs": [],
      "source": [
        "mysum(2)"
      ]
    },
    {
      "cell_type": "code",
      "execution_count": null,
      "metadata": {
        "id": "ZWl8OmX0kPDK"
      },
      "outputs": [],
      "source": [
        "mysum()"
      ]
    },
    {
      "cell_type": "code",
      "execution_count": null,
      "metadata": {
        "id": "rRF3lJIrkPDK"
      },
      "outputs": [],
      "source": [
        "mysum(z=-10)"
      ]
    },
    {
      "cell_type": "code",
      "execution_count": null,
      "metadata": {
        "id": "tuqhLVIakPDK"
      },
      "outputs": [],
      "source": [
        "mysum(y=0,z=90,x=7)"
      ]
    },
    {
      "cell_type": "code",
      "execution_count": null,
      "metadata": {
        "id": "Rv8s5mSlkPDK"
      },
      "outputs": [],
      "source": [
        "mysum(y=10,3)"
      ]
    },
    {
      "cell_type": "code",
      "execution_count": null,
      "metadata": {
        "id": "jSHlYB_LkPDK"
      },
      "outputs": [],
      "source": [
        "mysum(3,z=-10)"
      ]
    },
    {
      "cell_type": "markdown",
      "metadata": {
        "id": "NdRtQirekPDK"
      },
      "source": [
        "## Args and kwargs"
      ]
    },
    {
      "cell_type": "code",
      "execution_count": null,
      "metadata": {
        "id": "s0BXPAdQkPDL"
      },
      "outputs": [],
      "source": [
        "# * is an unpacking operator \n",
        "# we can make use of it to create a function which can take variable number of argument \n",
        "# many of  these function can also be written where they are built for taking a list as an argument \n",
        "\n",
        "def mymax_1(x):\n",
        "    m=-float('inf')\n",
        "    \n",
        "    for elem in x:\n",
        "        if elem>m:\n",
        "            m=elem\n",
        "    return m\n",
        "\n"
      ]
    },
    {
      "cell_type": "code",
      "execution_count": null,
      "metadata": {
        "id": "zryQJeahkPDL"
      },
      "outputs": [],
      "source": [
        "mymax_1([3,4,5,-10,55,2,1])"
      ]
    },
    {
      "cell_type": "code",
      "execution_count": null,
      "metadata": {
        "id": "fxS4FmkYkPDL"
      },
      "outputs": [],
      "source": [
        "mymax_1(3,4,5,-10,55,2,1)"
      ]
    },
    {
      "cell_type": "code",
      "execution_count": null,
      "metadata": {
        "id": "ROK5ySgekPDL"
      },
      "outputs": [],
      "source": [
        "def mymax_2(*x):\n",
        "    \n",
        "    m=-float('inf')\n",
        "    \n",
        "    for elem in x:\n",
        "        if elem>m:\n",
        "            m=elem\n",
        "    return m"
      ]
    },
    {
      "cell_type": "code",
      "execution_count": null,
      "metadata": {
        "id": "WMtPWTzskPDL"
      },
      "outputs": [],
      "source": [
        "mymax_2(3,4,5,-10,55,2,1)"
      ]
    },
    {
      "cell_type": "code",
      "execution_count": null,
      "metadata": {
        "id": "Ig2o0-RkkPDL"
      },
      "outputs": [],
      "source": [
        "mymax_2(3,4,5,-10,55,2,1,99,-100,54,67)"
      ]
    },
    {
      "cell_type": "code",
      "execution_count": null,
      "metadata": {
        "id": "CdkKRxvNkPDL"
      },
      "outputs": [],
      "source": [
        "mymax_2(*[3,4,5,-10,55,2,1,99,-100,54,67])"
      ]
    },
    {
      "cell_type": "code",
      "execution_count": null,
      "metadata": {
        "id": "sMN9BMECkPDL"
      },
      "outputs": [],
      "source": [
        "# a more useful purpose of unpacking operator is that \n",
        "# you can use unpacking operator to pass your argument as a list to a function which  takes\n",
        "# fixed number of arguments . This you dont have to manually extract them into individual elements and \n",
        "# then pass to the function . here is an example \n",
        "\n",
        "def combine_name(first,last):\n",
        "    \n",
        "    name=first+' '+last\n",
        "    \n",
        "    return(name)\n",
        "\n",
        "names=[['lalit','sachan'],['rajkumar','rao'],['hardik','pandya']]"
      ]
    },
    {
      "cell_type": "code",
      "execution_count": null,
      "metadata": {
        "id": "vpsmwpO_kPDL"
      },
      "outputs": [],
      "source": [
        "for x in names :\n",
        "    print(combine_name(x[0],x[1]))"
      ]
    },
    {
      "cell_type": "code",
      "execution_count": null,
      "metadata": {
        "id": "rq0M1qpMkPDL"
      },
      "outputs": [],
      "source": [
        "for x in names:\n",
        "    \n",
        "    print(combine_name(*x))"
      ]
    },
    {
      "cell_type": "code",
      "execution_count": null,
      "metadata": {
        "id": "m-Ckx0sSkPDL"
      },
      "outputs": [],
      "source": [
        "# similar to *, you can consider ** as an unpacking operator for dictionaries \n",
        "# ** unpacks dictionaries as named arguments\n",
        "\n",
        "def combine_name(first=' ',middle=' ',last=' '):\n",
        "    \n",
        "    name=first+' '+middle+' '+last\n",
        "    \n",
        "    return(name)\n",
        "\n",
        "\n",
        "names=[{'first':'lalit','last':'sachan'},{'middle':'kumar','last':'rao','first':'raj'},\n",
        "       {'last':'pandya','first':'hardik'}]"
      ]
    },
    {
      "cell_type": "code",
      "execution_count": null,
      "metadata": {
        "id": "BULIiMtCkPDL"
      },
      "outputs": [],
      "source": [
        "for x in names :\n",
        "    \n",
        "    print(combine_name(**x))"
      ]
    },
    {
      "cell_type": "code",
      "execution_count": null,
      "metadata": {
        "id": "KpgDzWfSkPDL"
      },
      "outputs": [],
      "source": [
        "# you can also write function which take variable number of named arguments where the names \n",
        "# are not predecided\n",
        "\n",
        "def find_text(**tweet):\n",
        "    \n",
        "    if 'text' in tweet:\n",
        "        print(tweet['text'])\n",
        "    else:\n",
        "        print('tweet is empty')"
      ]
    },
    {
      "cell_type": "code",
      "execution_count": null,
      "metadata": {
        "id": "Kcq1hqUPkPDM"
      },
      "outputs": [],
      "source": [
        "find_text(date='10-12-2020',name='lalit',count=2)"
      ]
    },
    {
      "cell_type": "code",
      "execution_count": null,
      "metadata": {
        "id": "TLzFgst3kPDM"
      },
      "outputs": [],
      "source": [
        "find_text(date='10-12-2020',name='lalit',count=2,text='The Expanse is an interesting TV Series')"
      ]
    },
    {
      "cell_type": "markdown",
      "metadata": {
        "id": "UqxKFi1tkPDM"
      },
      "source": [
        "## understanding global and local scoping"
      ]
    },
    {
      "cell_type": "code",
      "execution_count": null,
      "metadata": {
        "id": "THRAQBd1kPDM"
      },
      "outputs": [],
      "source": [
        "a=20\n",
        "b=10"
      ]
    },
    {
      "cell_type": "code",
      "execution_count": null,
      "metadata": {
        "id": "7pN-mMtekPDM"
      },
      "outputs": [],
      "source": [
        "def exp1(a,b):\n",
        "    \n",
        "    a=7\n",
        "    b=3\n",
        "    \n",
        "    global c\n",
        "    \n",
        "    c=100\n",
        "    print(a,b)"
      ]
    },
    {
      "cell_type": "code",
      "execution_count": null,
      "metadata": {
        "id": "bnkyIiWUkPDM"
      },
      "outputs": [],
      "source": [
        "a,b"
      ]
    },
    {
      "cell_type": "code",
      "execution_count": null,
      "metadata": {
        "id": "7jraGYUIkPDM"
      },
      "outputs": [],
      "source": [
        "exp1(a,b)"
      ]
    },
    {
      "cell_type": "code",
      "execution_count": null,
      "metadata": {
        "id": "F-AH7MLjkPDM"
      },
      "outputs": [],
      "source": [
        "c"
      ]
    },
    {
      "cell_type": "code",
      "execution_count": null,
      "metadata": {
        "id": "nfdQcsy-kPDM"
      },
      "outputs": [],
      "source": [
        "class experiment():\n",
        "    \n",
        "    def __init__(self,a,b):\n",
        "        \n",
        "        self.A=a\n",
        "        self.B=b\n",
        "        \n",
        "    def do_something(self,x):\n",
        "        \n",
        "        return(self.A*x+self.B*x)"
      ]
    },
    {
      "cell_type": "code",
      "execution_count": null,
      "metadata": {
        "id": "pxtIiNo5kPDM"
      },
      "outputs": [],
      "source": [
        "ob=experiment(4,5)"
      ]
    },
    {
      "cell_type": "code",
      "execution_count": null,
      "metadata": {
        "id": "ySi_R0JjkPDM"
      },
      "outputs": [],
      "source": [
        "ob.do_something(6)"
      ]
    },
    {
      "cell_type": "markdown",
      "metadata": {
        "id": "GtPd--ogkPDM"
      },
      "source": [
        "## Class"
      ]
    },
    {
      "cell_type": "code",
      "execution_count": null,
      "metadata": {
        "id": "qZKEv9-mkPDM"
      },
      "outputs": [],
      "source": [
        "c1_name='lalit'\n",
        "c1_balance=100\n",
        "c1_last_wd=10\n",
        "\n",
        "c2_name='pravin'\n",
        "c2_balance=200\n",
        "c2_last_wd=50\n",
        "\n"
      ]
    },
    {
      "cell_type": "code",
      "execution_count": null,
      "metadata": {
        "id": "WOF2p9FDkPDM"
      },
      "outputs": [],
      "source": [
        "class customer():\n",
        "    \n",
        "    def __init__(self,name,balance,last_wd):\n",
        "        self.name=name\n",
        "        self.balance=balance\n",
        "        self.last_wd=last_wd\n",
        "    \n",
        "    def withdraw(self,amount):\n",
        "        \n",
        "        if(amount>self.balance):\n",
        "            print('insufficient balance')\n",
        "        else:\n",
        "            self.balance-=amount\n",
        "            self.last_wd=amount\n",
        "    \n",
        "    def deposit(self,amount):\n",
        "        self.balance += amount\n",
        "        return(self.balance)\n"
      ]
    },
    {
      "cell_type": "code",
      "execution_count": null,
      "metadata": {
        "id": "m1iWPH4JkPDN"
      },
      "outputs": [],
      "source": [
        "c1=customer('lalit',100,10)"
      ]
    },
    {
      "cell_type": "code",
      "execution_count": null,
      "metadata": {
        "id": "AAHjrzGukPDN"
      },
      "outputs": [],
      "source": [
        "c2=customer('pravin',200,50)"
      ]
    },
    {
      "cell_type": "code",
      "execution_count": null,
      "metadata": {
        "id": "452HQLdskPDN"
      },
      "outputs": [],
      "source": [
        "c1.withdraw(500)"
      ]
    },
    {
      "cell_type": "code",
      "execution_count": null,
      "metadata": {
        "id": "t7XejNankPDN"
      },
      "outputs": [],
      "source": [
        "c1.balance"
      ]
    },
    {
      "cell_type": "code",
      "execution_count": null,
      "metadata": {
        "id": "ImDfVWazkPDN"
      },
      "outputs": [],
      "source": [
        "c1.withdraw(50)"
      ]
    },
    {
      "cell_type": "code",
      "execution_count": null,
      "metadata": {
        "id": "QvLV9ieWkPDN"
      },
      "outputs": [],
      "source": [
        "c1.balance"
      ]
    },
    {
      "cell_type": "code",
      "execution_count": null,
      "metadata": {
        "id": "-msGJLnvkPDN"
      },
      "outputs": [],
      "source": [
        "c1.last_wd"
      ]
    },
    {
      "cell_type": "code",
      "execution_count": null,
      "metadata": {
        "id": "6r5n0qnKkPDN"
      },
      "outputs": [],
      "source": [
        "c2.withdraw(10)"
      ]
    },
    {
      "cell_type": "code",
      "execution_count": null,
      "metadata": {
        "id": "tmflYUkLkPDN"
      },
      "outputs": [],
      "source": [
        "customer.withdraw(c1,20)"
      ]
    },
    {
      "cell_type": "code",
      "execution_count": null,
      "metadata": {
        "id": "s17Bi1uwkPDN"
      },
      "outputs": [],
      "source": [
        "c1.withdraw(30)"
      ]
    },
    {
      "cell_type": "code",
      "execution_count": null,
      "metadata": {
        "id": "4rLhqscSkPDN"
      },
      "outputs": [],
      "source": [
        "c1.balance"
      ]
    },
    {
      "cell_type": "code",
      "execution_count": null,
      "metadata": {
        "id": "P7P04IrekPDN"
      },
      "outputs": [],
      "source": [
        "c1.deposit(1000)"
      ]
    },
    {
      "cell_type": "markdown",
      "metadata": {
        "id": "Y8TcVMa8kPDN"
      },
      "source": [
        "## A bad usage of class "
      ]
    },
    {
      "cell_type": "code",
      "execution_count": null,
      "metadata": {
        "id": "9AvowZ0GkPDN"
      },
      "outputs": [],
      "source": [
        "class myclass():\n",
        "    def f1(x,y):\n",
        "        return(x*y)\n",
        "    def f2():\n",
        "        print('hello')"
      ]
    },
    {
      "cell_type": "code",
      "execution_count": null,
      "metadata": {
        "id": "sNOBxd7LkPDN"
      },
      "outputs": [],
      "source": [
        "f1(3,4)"
      ]
    },
    {
      "cell_type": "code",
      "execution_count": null,
      "metadata": {
        "id": "hkC037XfkPDO"
      },
      "outputs": [],
      "source": [
        "myclass.f1(3,4)"
      ]
    },
    {
      "cell_type": "code",
      "execution_count": null,
      "metadata": {
        "id": "SULtx6MZkPDO"
      },
      "outputs": [],
      "source": [
        "myclass.f2()"
      ]
    },
    {
      "cell_type": "markdown",
      "metadata": {
        "id": "FQgJjFEGkPDO"
      },
      "source": [
        "## Decorators in python"
      ]
    },
    {
      "cell_type": "code",
      "execution_count": null,
      "metadata": {
        "id": "hGPGLUhVkPDO"
      },
      "outputs": [],
      "source": [
        "### functions in python can take other functions as argument [remeber everything is an object ]"
      ]
    },
    {
      "cell_type": "code",
      "execution_count": null,
      "metadata": {
        "id": "ZqXNeWk_kPDO"
      },
      "outputs": [],
      "source": [
        "def f1(x,y):\n",
        "    return(x+y)\n",
        "\n",
        "def f2(x,y):\n",
        "    return(x-y)\n",
        "\n",
        "def f3(func1,func2,x,y):\n",
        "    \n",
        "    s1=func1(x,y)\n",
        "    s2=func2(x,y)\n",
        "    \n",
        "    return(s1/s2)"
      ]
    },
    {
      "cell_type": "code",
      "execution_count": null,
      "metadata": {
        "id": "FdIn3D0gkPDO"
      },
      "outputs": [],
      "source": [
        "f3(f1,f1,3,2)"
      ]
    },
    {
      "cell_type": "code",
      "execution_count": null,
      "metadata": {
        "id": "Z423eO3HkPDO"
      },
      "outputs": [],
      "source": [
        "f3(f1,f2,3,2)"
      ]
    },
    {
      "cell_type": "code",
      "execution_count": null,
      "metadata": {
        "id": "fcOlBWAtkPDO"
      },
      "outputs": [],
      "source": [
        "f3(f2,f1,3,2)"
      ]
    },
    {
      "cell_type": "code",
      "execution_count": null,
      "metadata": {
        "id": "I3kQ36EVkPDO"
      },
      "outputs": [],
      "source": [
        "def mymax_2(*x):\n",
        "    m=-float('inf')\n",
        "    \n",
        "    for elem in x:\n",
        "        if elem>m:\n",
        "            m=elem\n",
        "    return m"
      ]
    },
    {
      "cell_type": "code",
      "execution_count": null,
      "metadata": {
        "id": "GLA0I2HXkPDO"
      },
      "outputs": [],
      "source": [
        "### timing a functions runtime\n",
        "\n",
        "import time\n",
        "import numpy as np\n",
        "\n",
        "start=time.time()\n",
        "\n",
        "print(mymax_2(*np.random.randint(1,10000000,100000)))\n",
        "\n",
        "end=time.time()\n",
        "\n",
        "print(end-start)"
      ]
    },
    {
      "cell_type": "code",
      "execution_count": null,
      "metadata": {
        "id": "ljKidpCYkPDO"
      },
      "outputs": [],
      "source": [
        "def time_it(func):\n",
        "    \n",
        "    \n",
        "    \n",
        "    def inner(*x):\n",
        "        start=time.time()\n",
        "        \n",
        "        k=func(*x)\n",
        "        end=time.time()\n",
        "        \n",
        "        print('time taken :',end-start)\n",
        "        return k\n",
        "    \n",
        "    return inner\n"
      ]
    },
    {
      "cell_type": "code",
      "execution_count": null,
      "metadata": {
        "id": "xh27AtXUkPDP"
      },
      "outputs": [],
      "source": [
        "mymax_timed=time_it(mymax_2)"
      ]
    },
    {
      "cell_type": "code",
      "execution_count": null,
      "metadata": {
        "id": "-DPvwfOUkPDP"
      },
      "outputs": [],
      "source": [
        "mymax_timed(*np.random.randint(1,10000000,100000))"
      ]
    },
    {
      "cell_type": "code",
      "execution_count": null,
      "metadata": {
        "id": "sonEzBkYkPDP"
      },
      "outputs": [],
      "source": [
        "@time_it\n",
        "\n",
        "def mymax_timed_2(*x):\n",
        "    m=-float('inf')\n",
        "    \n",
        "    for elem in x:\n",
        "        if elem>m:\n",
        "            m=elem\n",
        "    return m\n"
      ]
    },
    {
      "cell_type": "code",
      "execution_count": null,
      "metadata": {
        "id": "ebZ2TyZSkPDP"
      },
      "outputs": [],
      "source": [
        "mymax_timed_2(*np.random.randint(1,10000000,100000))"
      ]
    },
    {
      "cell_type": "markdown",
      "metadata": {
        "id": "iIelUajSkPDP"
      },
      "source": [
        "# Inheritance "
      ]
    },
    {
      "cell_type": "code",
      "execution_count": null,
      "metadata": {
        "id": "kBC_JJ2bkPDP"
      },
      "outputs": [],
      "source": [
        "class customer():\n",
        "    \n",
        "    def __init__(self,name,balance,last_wd):\n",
        "        self.name=name\n",
        "        self.balance=balance\n",
        "        self.last_wd=last_wd\n",
        "    \n",
        "    def withdraw(self,amount):\n",
        "        \n",
        "        if(amount>self.balance):\n",
        "            print('insufficient balance')\n",
        "        else:\n",
        "            self.balance-=amount\n",
        "            self.last_wd=amount\n",
        "    \n",
        "    def deposit(self,amount):\n",
        "        self.balance += amount\n",
        "        return(self.balance)\n",
        "    \n",
        "    "
      ]
    },
    {
      "cell_type": "code",
      "execution_count": null,
      "metadata": {
        "id": "sAiMtwWGkPDP"
      },
      "outputs": [],
      "source": [
        "c1=customer('lalit',2000,10)"
      ]
    },
    {
      "cell_type": "code",
      "execution_count": null,
      "metadata": {
        "id": "0jCTkkAhkPDP"
      },
      "outputs": [],
      "source": [
        "c1.withdraw(200)"
      ]
    },
    {
      "cell_type": "code",
      "execution_count": null,
      "metadata": {
        "id": "PN5mfZtOkPDP",
        "outputId": "ac7c547a-c8f8-4bc8-ee9d-3ff8df790230"
      },
      "outputs": [
        {
          "name": "stdout",
          "output_type": "stream",
          "text": [
            "insufficient balance\n"
          ]
        }
      ],
      "source": [
        "c1.withdraw(1900)"
      ]
    },
    {
      "cell_type": "code",
      "execution_count": null,
      "metadata": {
        "id": "yROmoqf7kPDP"
      },
      "outputs": [],
      "source": [
        "class corporate_customer(customer):\n",
        "    \n",
        "    def withdraw(self,amount):\n",
        "        \n",
        "        if(amount>1.2*self.balance):\n",
        "            print('insufficient balance')\n",
        "        \n",
        "        else:\n",
        "            self.balance-=amount\n",
        "            self.last_wd=amount\n",
        "            \n",
        "            "
      ]
    },
    {
      "cell_type": "code",
      "execution_count": null,
      "metadata": {
        "id": "9fNcbBdkkPDP"
      },
      "outputs": [],
      "source": [
        "c1=customer('lalit',2000,200)"
      ]
    },
    {
      "cell_type": "code",
      "execution_count": null,
      "metadata": {
        "id": "DW2158zzkPDP"
      },
      "outputs": [],
      "source": [
        "c2=corporate_customer('sachin',2000,200)"
      ]
    },
    {
      "cell_type": "code",
      "execution_count": null,
      "metadata": {
        "id": "zyFVHGFVkPDQ",
        "outputId": "218bbb0b-2a36-4af4-b2e4-ca9d859d8c27"
      },
      "outputs": [
        {
          "name": "stdout",
          "output_type": "stream",
          "text": [
            "insufficient balance\n"
          ]
        }
      ],
      "source": [
        "c1.withdraw(2100)"
      ]
    },
    {
      "cell_type": "code",
      "execution_count": null,
      "metadata": {
        "id": "aKdsX1gIkPDQ"
      },
      "outputs": [],
      "source": [
        "c2.withdraw(2100)"
      ]
    },
    {
      "cell_type": "code",
      "execution_count": null,
      "metadata": {
        "id": "9H2n55oHkPDQ",
        "outputId": "bb646629-39ba-48c8-f1dd-8863721edf57"
      },
      "outputs": [
        {
          "data": {
            "text/plain": [
              "0"
            ]
          },
          "execution_count": 14,
          "metadata": {},
          "output_type": "execute_result"
        }
      ],
      "source": [
        "c2.deposit(100)"
      ]
    },
    {
      "cell_type": "code",
      "execution_count": null,
      "metadata": {
        "id": "CH4MPxrCkPDQ",
        "outputId": "01cd96c2-b25a-471a-abae-92906eb7d22b"
      },
      "outputs": [
        {
          "data": {
            "text/plain": [
              "2100"
            ]
          },
          "execution_count": 16,
          "metadata": {},
          "output_type": "execute_result"
        }
      ],
      "source": [
        "c2.last_wd"
      ]
    },
    {
      "cell_type": "markdown",
      "metadata": {
        "id": "uopdmxNbkPDQ"
      },
      "source": [
        "# Extending a class"
      ]
    },
    {
      "cell_type": "code",
      "execution_count": null,
      "metadata": {
        "id": "UvAGRwYqkPDQ"
      },
      "outputs": [],
      "source": [
        "class corporate_customer(customer):\n",
        "    \n",
        "    def __init__(self,name,balance,last_wd):\n",
        "        \n",
        "        super().__init__(name,balance,last_wd)\n",
        "        \n",
        "        self.deficit=False\n",
        "        \n",
        "    def withdraw(self,amount):\n",
        "        \n",
        "        if(amount>1.2*self.balance ):\n",
        "            print('insufficient balance')\n",
        "            \n",
        "        elif self.deficit:\n",
        "            print('Account is already in deficit, now withdrawls allowd')\n",
        "        elif amount>self.balance :\n",
        "            self.deficit=True\n",
        "            print('Account is now running in deficit')\n",
        "            self.balance-=amount\n",
        "            self.last_wd=amount\n",
        "        else:\n",
        "            self.balance-=amount\n",
        "            self.last_wd=amount\n",
        "            \n",
        "    def deposit(self,amount):\n",
        "        self.balance += amount\n",
        "        \n",
        "        if self.balance>=0:\n",
        "            self.deficit=False\n",
        "        return(self.balance)\n",
        "        "
      ]
    },
    {
      "cell_type": "code",
      "execution_count": null,
      "metadata": {
        "id": "LxqAlaE8kPDQ"
      },
      "outputs": [],
      "source": [
        "c2=corporate_customer('sachin',2000,200)"
      ]
    },
    {
      "cell_type": "code",
      "execution_count": null,
      "metadata": {
        "id": "NSFDcQDfkPDQ",
        "outputId": "4a6bfa52-80b3-4595-ea22-4bbe1dd2247d"
      },
      "outputs": [
        {
          "name": "stdout",
          "output_type": "stream",
          "text": [
            "Account is now running in deficit\n"
          ]
        }
      ],
      "source": [
        "c2.withdraw(2100)"
      ]
    },
    {
      "cell_type": "code",
      "execution_count": null,
      "metadata": {
        "id": "ZfQdibalkPDQ",
        "outputId": "a21e86b2-747d-4e10-ec18-2309eea98a1a"
      },
      "outputs": [
        {
          "data": {
            "text/plain": [
              "-100"
            ]
          },
          "execution_count": 20,
          "metadata": {},
          "output_type": "execute_result"
        }
      ],
      "source": [
        "c2.balance"
      ]
    },
    {
      "cell_type": "code",
      "execution_count": null,
      "metadata": {
        "id": "8C6QZQb6kPDR",
        "outputId": "b969ab39-e473-44b1-81c1-de77d955aa3c"
      },
      "outputs": [
        {
          "data": {
            "text/plain": [
              "True"
            ]
          },
          "execution_count": 21,
          "metadata": {},
          "output_type": "execute_result"
        }
      ],
      "source": [
        "c2.deficit"
      ]
    },
    {
      "cell_type": "code",
      "execution_count": null,
      "metadata": {
        "id": "xRW6lfWkkPDR",
        "outputId": "21073235-7b54-47de-a1be-21b17e2d9a79"
      },
      "outputs": [
        {
          "data": {
            "text/plain": [
              "True"
            ]
          },
          "execution_count": 22,
          "metadata": {},
          "output_type": "execute_result"
        }
      ],
      "source": [
        "isinstance(c2,corporate_customer)"
      ]
    },
    {
      "cell_type": "code",
      "execution_count": null,
      "metadata": {
        "id": "VoVKxJ94kPDR",
        "outputId": "8ac5a385-77e4-4ccc-9c78-a423bd431d22"
      },
      "outputs": [
        {
          "data": {
            "text/plain": [
              "True"
            ]
          },
          "execution_count": 23,
          "metadata": {},
          "output_type": "execute_result"
        }
      ],
      "source": [
        "isinstance(c2,customer)"
      ]
    },
    {
      "cell_type": "code",
      "execution_count": null,
      "metadata": {
        "id": "PWhPDM_wkPDR"
      },
      "outputs": [],
      "source": [
        "class temp(customer):\n",
        "    \n",
        "    def __init__(self,name,balance,last_wd):\n",
        "        \n",
        "        \n",
        "        self.deficit=False\n",
        "        \n",
        "    def withdraw(self,amount):\n",
        "        \n",
        "        if(amount>1.2*self.balance ):\n",
        "            print('insufficient balance')\n",
        "            \n",
        "        elif self.deficit:\n",
        "            print('Account is already in deficit, now withdrawls allowd')\n",
        "        elif amount>self.balance :\n",
        "            self.deficit=True\n",
        "            print('Account is now running in deficit')\n",
        "            self.balance-=amount\n",
        "            self.last_wd=amount\n",
        "        else:\n",
        "            self.balance-=amount\n",
        "            self.last_wd=amount\n",
        "            \n",
        "    def deposit(self,amount):\n",
        "        self.balance += amount\n",
        "        \n",
        "        if self.balance>0:\n",
        "            self.deficit=False\n",
        "        return(self.balance)"
      ]
    },
    {
      "cell_type": "code",
      "execution_count": null,
      "metadata": {
        "id": "aPSdLD9pkPDR"
      },
      "outputs": [],
      "source": [
        "a=temp('sachin',2000,200)"
      ]
    },
    {
      "cell_type": "code",
      "execution_count": null,
      "metadata": {
        "id": "AYqufBYSkPDR",
        "outputId": "9d3bf954-789e-4a0d-c985-1a199da92127"
      },
      "outputs": [
        {
          "ename": "AttributeError",
          "evalue": "'temp' object has no attribute 'name'",
          "output_type": "error",
          "traceback": [
            "\u001b[0;31m---------------------------------------------------------------------------\u001b[0m",
            "\u001b[0;31mAttributeError\u001b[0m                            Traceback (most recent call last)",
            "\u001b[0;32m<ipython-input-26-9945a631c1ff>\u001b[0m in \u001b[0;36m<module>\u001b[0;34m\u001b[0m\n\u001b[0;32m----> 1\u001b[0;31m \u001b[0ma\u001b[0m\u001b[0;34m.\u001b[0m\u001b[0mname\u001b[0m\u001b[0;34m\u001b[0m\u001b[0;34m\u001b[0m\u001b[0m\n\u001b[0m",
            "\u001b[0;31mAttributeError\u001b[0m: 'temp' object has no attribute 'name'"
          ]
        }
      ],
      "source": [
        ""
      ]
    },
    {
      "cell_type": "code",
      "execution_count": null,
      "metadata": {
        "id": "_j3TvOt7kPDR",
        "outputId": "20153ecb-035f-4cbd-9a7a-f657e9dbebb5"
      },
      "outputs": [
        {
          "data": {
            "text/plain": [
              "{'name': 'sachin', 'balance': -100, 'last_wd': 2100, 'deficit': True}"
            ]
          },
          "execution_count": 27,
          "metadata": {},
          "output_type": "execute_result"
        }
      ],
      "source": [
        "\n",
        "c2.__dict__"
      ]
    },
    {
      "cell_type": "code",
      "execution_count": null,
      "metadata": {
        "id": "5E0fDD6JkPDR"
      },
      "outputs": [],
      "source": [
        ""
      ]
    }
  ],
  "metadata": {
    "kernelspec": {
      "display_name": "Python 3",
      "language": "python",
      "name": "python3"
    },
    "language_info": {
      "codemirror_mode": {
        "name": "ipython",
        "version": 3
      },
      "file_extension": ".py",
      "mimetype": "text/x-python",
      "name": "python",
      "nbconvert_exporter": "python",
      "pygments_lexer": "ipython3",
      "version": "3.7.3"
    },
    "colab": {
      "name": "1_python fundamentals class.ipynb",
      "provenance": []
    },
    "accelerator": "GPU"
  },
  "nbformat": 4,
  "nbformat_minor": 0
}